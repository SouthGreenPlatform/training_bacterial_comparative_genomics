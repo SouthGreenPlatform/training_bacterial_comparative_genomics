{
 "cells": [
  {
   "cell_type": "markdown",
   "id": "fa7c7920",
   "metadata": {},
   "source": [
    "## First commands"
   ]
  },
  {
   "cell_type": "code",
   "execution_count": 80,
   "id": "efae9c62",
   "metadata": {},
   "outputs": [
    {
     "name": "stdout",
     "output_type": "stream",
     "text": [
      "/home/jovyan/training_bacterial_comparative_genomics/jupyter\n",
      "(base) "
     ]
    },
    {
     "ename": "",
     "evalue": "1",
     "output_type": "error",
     "traceback": []
    }
   ],
   "source": [
    "pwd"
   ]
  },
  {
   "cell_type": "code",
   "execution_count": 3,
   "id": "eb7758fe",
   "metadata": {},
   "outputs": [
    {
     "name": "stdout",
     "output_type": "stream",
     "text": [
      "Trainings_genomics_june2022.ipynb\n"
     ]
    }
   ],
   "source": [
    "ls"
   ]
  },
  {
   "cell_type": "code",
   "execution_count": 4,
   "id": "9234fd24",
   "metadata": {},
   "outputs": [],
   "source": [
    "mkdir assembly"
   ]
  },
  {
   "cell_type": "code",
   "execution_count": 5,
   "id": "b20886f3-848c-4cc1-b58e-f18538687260",
   "metadata": {},
   "outputs": [
    {
     "name": "stdout",
     "output_type": "stream",
     "text": [
      "assembly  Trainings_genomics_june2022.ipynb\n"
     ]
    }
   ],
   "source": [
    "ls"
   ]
  },
  {
   "cell_type": "code",
   "execution_count": 109,
   "id": "7a99747b-e199-45e7-b0be-b80c278424b8",
   "metadata": {},
   "outputs": [
    {
     "name": "stdout",
     "output_type": "stream",
     "text": [
      "(base) "
     ]
    },
    {
     "ename": "",
     "evalue": "1",
     "output_type": "error",
     "traceback": []
    }
   ],
   "source": [
    "mkdir raw_data"
   ]
  },
  {
   "cell_type": "code",
   "execution_count": 110,
   "id": "da554e58-20c0-4535-9acb-ae94084de8a6",
   "metadata": {},
   "outputs": [
    {
     "name": "stdout",
     "output_type": "stream",
     "text": [
      "--2022-06-13 08:13:08--  http://bioinfo-web.mpl.ird.fr/ideogram/CIX4108.sample.fastq.gz\n",
      "Resolving bioinfo-web.mpl.ird.fr (bioinfo-web.mpl.ird.fr)... 91.203.35.161\n",
      "Connecting to bioinfo-web.mpl.ird.fr (bioinfo-web.mpl.ird.fr)|91.203.35.161|:80... connected.\n",
      "HTTP request sent, awaiting response... 200 OK\n",
      "Length: 253558784 (242M) [application/x-gzip]\n",
      "Saving to: ‘CIX4108.sample.fastq.gz’\n",
      "\n",
      "CIX4108.sample.fast 100%[===================>] 241.81M  28.0MB/s    in 9.6s    \n",
      "\n",
      "2022-06-13 08:13:18 (25.3 MB/s) - ‘CIX4108.sample.fastq.gz’ saved [253558784/253558784]\n",
      "\n",
      "(base) "
     ]
    },
    {
     "ename": "",
     "evalue": "1",
     "output_type": "error",
     "traceback": []
    }
   ],
   "source": [
    "wget http://bioinfo-web.mpl.ird.fr/ideogram/CIX4108.sample.fastq.gz"
   ]
  },
  {
   "cell_type": "code",
   "execution_count": 111,
   "id": "a2c4ff75-e199-49c8-9fc9-1dafcbeb6fcf",
   "metadata": {},
   "outputs": [
    {
     "name": "stdout",
     "output_type": "stream",
     "text": [
      "(base) "
     ]
    },
    {
     "ename": "",
     "evalue": "1",
     "output_type": "error",
     "traceback": []
    }
   ],
   "source": [
    "mv CIX4108.sample.fastq.gz raw_data"
   ]
  },
  {
   "cell_type": "markdown",
   "id": "e934c9d9-fe49-4982-8ddb-78016fb63e9d",
   "metadata": {},
   "source": [
    "#### How many reads are there in the raw Fastq file?"
   ]
  },
  {
   "cell_type": "code",
   "execution_count": 113,
   "id": "6d17f88a-1d9b-48dc-a29d-25e0559b299f",
   "metadata": {},
   "outputs": [
    {
     "name": "stdout",
     "output_type": "stream",
     "text": [
      "\n",
      "gzip: raw_data/CIX4108.sample.fastq.gz: unexpected end of file\n",
      "68057\n",
      "(base) "
     ]
    },
    {
     "ename": "",
     "evalue": "1",
     "output_type": "error",
     "traceback": []
    }
   ],
   "source": [
    "zcat raw_data/CIX4108.sample.fastq.gz | wc -l"
   ]
  },
  {
   "cell_type": "markdown",
   "id": "ef2967b9",
   "metadata": {},
   "source": [
    "## Genome Assembly (from Oxford Nanopore Technologies (ONT) long reads) (using Flye)"
   ]
  },
  {
   "cell_type": "code",
   "execution_count": null,
   "id": "1133fced-b2f9-4c07-9cb1-7ce17fb64bbb",
   "metadata": {},
   "outputs": [],
   "source": [
    "conda create -n flye -c bioconda flye"
   ]
  },
  {
   "cell_type": "code",
   "execution_count": null,
   "id": "c546a9bf-5cf0-4916-8c06-02a34f44603b",
   "metadata": {},
   "outputs": [],
   "source": [
    "conda activate flye"
   ]
  },
  {
   "cell_type": "code",
   "execution_count": 6,
   "id": "8b050840",
   "metadata": {},
   "outputs": [
    {
     "ename": "",
     "evalue": "127",
     "output_type": "error",
     "traceback": []
    }
   ],
   "source": [
    "flye --nano-raw /data2/formation/Bacterial_genomics/raw_data/CIX4108.sample.fastq -o assembly >>flye.log 2>&1"
   ]
  },
  {
   "cell_type": "code",
   "execution_count": 7,
   "id": "feca04df-9ad9-420e-b06c-4cc404399a69",
   "metadata": {},
   "outputs": [],
   "source": [
    "cp -rf ../data/precomputed_assembly/assembly_precomputed.fasta assembly"
   ]
  },
  {
   "cell_type": "code",
   "execution_count": 9,
   "id": "c7d55656",
   "metadata": {},
   "outputs": [
    {
     "name": "stdout",
     "output_type": "stream",
     "text": [
      "2\n"
     ]
    }
   ],
   "source": [
    "grep -c \">\" assembly/assembly_precomputed.fasta"
   ]
  },
  {
   "cell_type": "markdown",
   "id": "b849c24d",
   "metadata": {},
   "source": [
    "## Separate chromosomal and plasmid scaffolds (using MOB-Suite)"
   ]
  },
  {
   "cell_type": "code",
   "execution_count": 11,
   "id": "e2e6575f",
   "metadata": {},
   "outputs": [
    {
     "ename": "",
     "evalue": "255",
     "output_type": "error",
     "traceback": []
    }
   ],
   "source": [
    "singularity exec /home/jovyan/mob_suite_3.0.3.sif mob_recon -i assembly/assembly_precomputed.fasta -o assembly.mob_recon >>mob_recon.log 2>&1"
   ]
  },
  {
   "cell_type": "code",
   "execution_count": 12,
   "id": "1652452e-4e75-4de8-b155-dbc028b5553f",
   "metadata": {},
   "outputs": [],
   "source": [
    "cp -rf ../data/mob_recon assembly.mob_recon"
   ]
  },
  {
   "cell_type": "code",
   "execution_count": 13,
   "id": "718910c7",
   "metadata": {},
   "outputs": [
    {
     "name": "stdout",
     "output_type": "stream",
     "text": [
      "chromosome.fasta  contig_report.txt  mobtyper_results.txt  plasmid_AD399.fasta\n"
     ]
    }
   ],
   "source": [
    "ls assembly.mob_recon"
   ]
  },
  {
   "cell_type": "code",
   "execution_count": 14,
   "id": "b1085b77",
   "metadata": {},
   "outputs": [
    {
     "name": "stdout",
     "output_type": "stream",
     "text": [
      "sample_id\tmolecule_type\tprimary_cluster_id\tsecondary_cluster_id\tcontig_id\tsize\tgc\tmd5\tcircularity_status\trep_type(s)\trep_type_accession(s)\trelaxase_type(s)\trelaxase_type_accession(s)\tmpf_type\tmpf_type_accession(s)\torit_type(s)\torit_accession(s)\tpredicted_mobility\tmash_nearest_neighbor\tmash_neighbor_distance\tmash_neighbor_identification\trepetitive_dna_id\trepetitive_dna_type\tfiltering_reason\n",
      "assembly_precomputed\tchromosome\t-\t-\tcontig_1_circular_rotated\t4682534\t63.833983907004196\tcf955654136e9041810a80b8191fa41f\tnot tested\t-\t-\tMOBP\tNC_007507_00032\t-\t-\t-\t-\t-\t-\t-\t-\t-\t-\t-\n",
      "assembly_precomputed\tplasmid\tAD399\t-\tcontig_2_circular_rotated\t69058\t61.861044339540676\t475037e138b4ade1836aa05f421c47b8\tnot tested\trep_cluster_1289\t000607__CP000620_00033\tMOBP\tCP022994_00148\t-\t-\t-\t-\t-\tCP033195\t0.0537328\tXanthomonas oryzae pv. oryzae\t-\t-\t-\n"
     ]
    }
   ],
   "source": [
    "more assembly.mob_recon/contig_report.txt"
   ]
  },
  {
   "cell_type": "markdown",
   "id": "c3aac016",
   "metadata": {},
   "source": [
    "## Genome annotation (using Prokka)"
   ]
  },
  {
   "cell_type": "code",
   "execution_count": null,
   "id": "f0ca707b-59fa-42bc-99a7-2c3b2d3031f8",
   "metadata": {},
   "outputs": [],
   "source": [
    "conda create -n prokka -c conda-forge -c bioconda prokka"
   ]
  },
  {
   "cell_type": "code",
   "execution_count": 45,
   "id": "6a0e65a4-1f95-4761-b4a0-b012764e206e",
   "metadata": {},
   "outputs": [
    {
     "name": "stdout",
     "output_type": "stream",
     "text": [
      "(prokka) "
     ]
    },
    {
     "ename": "",
     "evalue": "1",
     "output_type": "error",
     "traceback": []
    }
   ],
   "source": [
    "conda activate prokka"
   ]
  },
  {
   "cell_type": "code",
   "execution_count": 46,
   "id": "70531994",
   "metadata": {},
   "outputs": [
    {
     "name": "stdout",
     "output_type": "stream",
     "text": [
      "(prokka) "
     ]
    },
    {
     "ename": "",
     "evalue": "1",
     "output_type": "error",
     "traceback": []
    }
   ],
   "source": [
    "prokka assembly.mob_recon/chromosome.fasta --prefix assembly --force --outdir prokka_out >>prokka.log 2>&1"
   ]
  },
  {
   "cell_type": "code",
   "execution_count": 51,
   "id": "e3c70ee7-ee70-41fc-86d4-8420135d24dd",
   "metadata": {},
   "outputs": [
    {
     "name": "stdout",
     "output_type": "stream",
     "text": [
      "(base) "
     ]
    },
    {
     "ename": "",
     "evalue": "1",
     "output_type": "error",
     "traceback": []
    }
   ],
   "source": [
    "conda deactivate"
   ]
  },
  {
   "cell_type": "code",
   "execution_count": 52,
   "id": "8f708f98",
   "metadata": {},
   "outputs": [
    {
     "name": "stdout",
     "output_type": "stream",
     "text": [
      "LOCUS       contig_1_circular_rotated4682534 bp   DNA  linear       10-JUN-2022\n",
      "DEFINITION  Genus species strain strain.\n",
      "ACCESSION   \n",
      "VERSION\n",
      "KEYWORDS    .\n",
      "SOURCE      Genus species\n",
      "  ORGANISM  Genus species\n",
      "            Unclassified.\n",
      "COMMENT     Annotated using prokka 1.14.6 from\n",
      "            https://github.com/tseemann/prokka.\n",
      "FEATURES             Location/Qualifiers\n",
      "     source          1..4682534\n",
      "                     /organism=\"Genus species\"\n",
      "                     /mol_type=\"genomic DNA\"\n",
      "                     /strain=\"strain\"\n",
      "     CDS             1..1329\n",
      "                     /gene=\"dnaA\"\n",
      "                     /locus_tag=\"GBGACGDJ_00001\"\n",
      "                     /inference=\"ab initio prediction:Prodigal:002006\"\n",
      "                     /inference=\"similar to AA sequence:UniProtKB:P03004\"\n",
      "                     /codon_start=1\n",
      "                     /transl_table=11\n",
      "                     /product=\"Chromosomal replication initiator protein DnaA\"\n",
      "                     /db_xref=\"COG:COG0593\"\n",
      "                     /translation=\"MDAWPRCLERLEAEFPPEDVHTWLKPLQAEDRGDSIVLYAPNAF\n",
      "                     IVDQVRERYLPRIRELLAYFAGNREVALAVGSRPRAPEPEPAPVAATIAPQAAPIAPF\n",
      "                     AGNLDSHYTFANFVEGRSNQLGLAAAIQAAQKPGDRAHNPLLLYGSTGLGKTHLMFAA\n",
      "                     GNALRQAKPAAKVMYLRSEQFFSAMIRALQDKAMDQFKRQFQQIDALLIDDIQFFAGK\n",
      "                     DRTQEEFFHTFNALFDGRQQIILTCDRYPREVEGLEPRLKSRLAWGLSVAIDPPDFET\n",
      "                     RAAIVLAKARERGAEIPDDVAFLIAKKMRSNVRDLEGALNTLVARANFTGRSITVEFA\n",
      "                     QETLRDLLRAQQQAIGIPNIQKTVADYYGLQMKDLLSKRRTRSLARPRQVAMALAKEL\n",
      "                     TEHSLPEIGDAFAGRDHTTVLHACRQIRTLMEADGKLREDWEKLIRKLSE\"\n",
      "     CDS             1607..2389\n",
      "                     /gene=\"dnaN_1\"\n",
      "                     /locus_tag=\"GBGACGDJ_00002\"\n",
      "                     /inference=\"ab initio prediction:Prodigal:002006\"\n",
      "                     /inference=\"similar to AA sequence:UniProtKB:Q9I7C4\"\n",
      "                     /codon_start=1\n",
      "                     /transl_table=11\n",
      "                     /product=\"Beta sliding clamp\"\n",
      "(base) "
     ]
    },
    {
     "ename": "",
     "evalue": "1",
     "output_type": "error",
     "traceback": []
    }
   ],
   "source": [
    "head -40 prokka_out/assembly.gbk"
   ]
  },
  {
   "cell_type": "code",
   "execution_count": 49,
   "id": "c2c423df",
   "metadata": {},
   "outputs": [
    {
     "name": "stdout",
     "output_type": "stream",
     "text": [
      "##gff-version 3\n",
      "##sequence-region contig_1_circular_rotated 1 4682534\n",
      "contig_1_circular_rotated\tProdigal:002006\tCDS\t1\t1329\t.\t+\t0\tID=GBGACGDJ_00001;Name=dnaA;db_xref=COG:COG0593;gene=dnaA;inference=ab initio prediction:Prodigal:002006,similar to AA sequence:UniProtKB:P03004;locus_tag=GBGACGDJ_00001;product=Chromosomal replication initiator protein DnaA\n",
      "contig_1_circular_rotated\tProdigal:002006\tCDS\t1607\t2389\t.\t+\t0\tID=GBGACGDJ_00002;Name=dnaN_1;db_xref=COG:COG0592;gene=dnaN_1;inference=ab initio prediction:Prodigal:002006,similar to AA sequence:UniProtKB:Q9I7C4;locus_tag=GBGACGDJ_00002;product=Beta sliding clamp\n",
      "contig_1_circular_rotated\tProdigal:002006\tCDS\t2346\t2708\t.\t+\t0\tID=GBGACGDJ_00003;Name=dnaN_2;db_xref=COG:COG0592;gene=dnaN_2;inference=ab initio prediction:Prodigal:002006,similar to AA sequence:UniProtKB:P0A988;locus_tag=GBGACGDJ_00003;product=Beta sliding clamp\n",
      "contig_1_circular_rotated\tProdigal:002006\tCDS\t3777\t4883\t.\t+\t0\tID=GBGACGDJ_00004;Name=recF;db_xref=COG:COG1195;gene=recF;inference=ab initio prediction:Prodigal:002006,similar to AA sequence:UniProtKB:P0A7H0;locus_tag=GBGACGDJ_00004;product=DNA replication and repair protein RecF\n",
      "contig_1_circular_rotated\tProdigal:002006\tCDS\t4999\t7443\t.\t+\t0\tID=GBGACGDJ_00005;eC_number=5.6.2.2;Name=gyrB;db_xref=COG:COG0187;gene=gyrB;inference=ab initio prediction:Prodigal:002006,similar to AA sequence:UniProtKB:P0A2I3;locus_tag=GBGACGDJ_00005;product=DNA gyrase subunit B\n",
      "contig_1_circular_rotated\tProdigal:002006\tCDS\t7511\t8347\t.\t+\t0\tID=GBGACGDJ_00006;inference=ab initio prediction:Prodigal:002006;locus_tag=GBGACGDJ_00006;product=hypothetical protein\n",
      "contig_1_circular_rotated\tProdigal:002006\tCDS\t8579\t9340\t.\t+\t0\tID=GBGACGDJ_00007;eC_number=3.4.-.-;Name=bepA_1;gene=bepA_1;inference=ab initio prediction:Prodigal:002006,protein motif:HAMAP:MF_00997;locus_tag=GBGACGDJ_00007;product=Beta-barrel assembly-enhancing protease\n",
      "contig_1_circular_rotated\tProdigal:002006\tCDS\t9617\t10810\t.\t+\t0\tID=GBGACGDJ_00008;inference=ab initio prediction:Prodigal:002006;locus_tag=GBGACGDJ_00008;product=hypothetical protein\n",
      "(prokka) "
     ]
    },
    {
     "ename": "",
     "evalue": "1",
     "output_type": "error",
     "traceback": []
    }
   ],
   "source": [
    "head -10 prokka_out/assembly.gff"
   ]
  },
  {
   "cell_type": "code",
   "execution_count": 50,
   "id": "85360eb9",
   "metadata": {},
   "outputs": [
    {
     "name": "stdout",
     "output_type": "stream",
     "text": [
      "contig_1_circular_rotated\tProdigal:002006\tCDS\t1\t1329\t.\t+\t0\tID=GBGACGDJ_00001;Name=dnaA;db_xref=COG:COG0593;gene=dnaA;inference=ab initio prediction:Prodigal:002006,similar to AA sequence:UniProtKB:P03004;locus_tag=GBGACGDJ_00001;product=Chromosomal replication initiator protein DnaA\n",
      "contig_1_circular_rotated\tProdigal:002006\tCDS\t1607\t2389\t.\t+\t0\tID=GBGACGDJ_00002;Name=dnaN_1;db_xref=COG:COG0592;gene=dnaN_1;inference=ab initio prediction:Prodigal:002006,similar to AA sequence:UniProtKB:Q9I7C4;locus_tag=GBGACGDJ_00002;product=Beta sliding clamp\n",
      "contig_1_circular_rotated\tProdigal:002006\tCDS\t2346\t2708\t.\t+\t0\tID=GBGACGDJ_00003;Name=dnaN_2;db_xref=COG:COG0592;gene=dnaN_2;inference=ab initio prediction:Prodigal:002006,similar to AA sequence:UniProtKB:P0A988;locus_tag=GBGACGDJ_00003;product=Beta sliding clamp\n",
      "contig_1_circular_rotated\tProdigal:002006\tCDS\t3777\t4883\t.\t+\t0\tID=GBGACGDJ_00004;Name=recF;db_xref=COG:COG1195;gene=recF;inference=ab initio prediction:Prodigal:002006,similar to AA sequence:UniProtKB:P0A7H0;locus_tag=GBGACGDJ_00004;product=DNA replication and repair protein RecF\n",
      "contig_1_circular_rotated\tProdigal:002006\tCDS\t4999\t7443\t.\t+\t0\tID=GBGACGDJ_00005;eC_number=5.6.2.2;Name=gyrB;db_xref=COG:COG0187;gene=gyrB;inference=ab initio prediction:Prodigal:002006,similar to AA sequence:UniProtKB:P0A2I3;locus_tag=GBGACGDJ_00005;product=DNA gyrase subunit B\n",
      "grep: write error: Broken pipe\n",
      "(prokka) "
     ]
    },
    {
     "ename": "",
     "evalue": "1",
     "output_type": "error",
     "traceback": []
    }
   ],
   "source": [
    "grep COG prokka_out/assembly.gff | head -5"
   ]
  },
  {
   "cell_type": "markdown",
   "id": "98ae5c2b-0b6a-4b3e-bdde-9dd15e705cfa",
   "metadata": {},
   "source": [
    "## GC content analysis (SkewIT)"
   ]
  },
  {
   "cell_type": "code",
   "execution_count": 53,
   "id": "6d5e98a8-04c3-4325-8057-e47022038851",
   "metadata": {},
   "outputs": [
    {
     "name": "stdout",
     "output_type": "stream",
     "text": [
      "Cloning into 'SkewIT'...\n",
      "remote: Enumerating objects: 123, done.\u001b[K\n",
      "remote: Counting objects: 100% (123/123), done.\u001b[K\n",
      "remote: Compressing objects: 100% (94/94), done.\u001b[K\n",
      "remote: Total 123 (delta 40), reused 94 (delta 26), pack-reused 0\u001b[K\n",
      "Receiving objects: 100% (123/123), 683.64 KiB | 4.14 MiB/s, done.\n",
      "Resolving deltas: 100% (40/40), done.\n",
      "(base) "
     ]
    },
    {
     "ename": "",
     "evalue": "1",
     "output_type": "error",
     "traceback": []
    }
   ],
   "source": [
    "git clone https://github.com/jenniferlu717/SkewIT.git"
   ]
  },
  {
   "cell_type": "code",
   "execution_count": 55,
   "id": "b9a6b04c",
   "metadata": {},
   "outputs": [
    {
     "name": "stdout",
     "output_type": "stream",
     "text": [
      "PROGRAM START TIME: 06-10-2022 17:10:45\n",
      "    Input file: assembly.mob_recon/chromosome.fasta\n",
      "    Output: gcskew.txt\n",
      "    Window size (bp): 500\n",
      "    Frequency (bp): 500\n",
      ">> Reading sequence file assembly.mob_recon/chromosome.fasta\n",
      "\t1 seqs found\n",
      ">> Calculating/Saving GC Skew for 1 seqs\n",
      "\tFinished calculating gc skew for 1 sequences\n",
      "PROGRAM FINISH TIME: 06-10-2022 17:10:45\n",
      "(base) "
     ]
    },
    {
     "ename": "",
     "evalue": "1",
     "output_type": "error",
     "traceback": []
    }
   ],
   "source": [
    "python SkewIT/src/gcskew.py -i assembly.mob_recon/chromosome.fasta -o gcskew.txt -k 500"
   ]
  },
  {
   "cell_type": "code",
   "execution_count": 61,
   "id": "fc056830",
   "metadata": {},
   "outputs": [
    {
     "name": "stdout",
     "output_type": "stream",
     "text": [
      "Sequence\tIndex\tGC Skew (0kb)\n",
      "contig_1_circular_rotated\t0\t-0.05952381\n",
      "contig_1_circular_rotated\t500\t0.00958466\n",
      "contig_1_circular_rotated\t1000\t-0.00327869\n",
      "contig_1_circular_rotated\t1500\t-0.01010101\n",
      "(base) "
     ]
    },
    {
     "ename": "",
     "evalue": "1",
     "output_type": "error",
     "traceback": []
    }
   ],
   "source": [
    "head -5 gcskew.txt"
   ]
  },
  {
   "cell_type": "code",
   "execution_count": 62,
   "id": "a9f62360",
   "metadata": {},
   "outputs": [
    {
     "name": "stdout",
     "output_type": "stream",
     "text": [
      "(base) "
     ]
    },
    {
     "ename": "",
     "evalue": "1",
     "output_type": "error",
     "traceback": []
    }
   ],
   "source": [
    "grep -v 'Sequence' gcskew.txt | awk {'print \"Chr \"$2+1\" \"$2+5000\" \"$3'}  >gcskew.circos.txt"
   ]
  },
  {
   "cell_type": "code",
   "execution_count": 63,
   "id": "cc2586cc",
   "metadata": {},
   "outputs": [
    {
     "name": "stdout",
     "output_type": "stream",
     "text": [
      "(base) (base) "
     ]
    },
    {
     "ename": "",
     "evalue": "1",
     "output_type": "error",
     "traceback": []
    }
   ],
   "source": [
    "awk {'if ($3 == \"CDS\" && $7 == \"+\")print \"Chr \"$4\" \"$5'} prokka_out/assembly.gff >genes_plus.txt\n",
    "awk {'if ($3 == \"CDS\" && $7 == \"-\")print \"Chr \"$4\" \"$5'} prokka_out/assembly.gff >genes_minus.txt"
   ]
  },
  {
   "cell_type": "markdown",
   "id": "3fff5105",
   "metadata": {},
   "source": [
    "## Visualize genome annotation (using Circos)"
   ]
  },
  {
   "cell_type": "code",
   "execution_count": 133,
   "id": "45429fd3-3e56-49b8-8952-776f2b4c0a7a",
   "metadata": {},
   "outputs": [
    {
     "name": "stdout",
     "output_type": "stream",
     "text": [
      "Cloning into 'circos'...\n",
      "remote: Enumerating objects: 885, done.\u001b[K\n",
      "remote: Total 885 (delta 0), reused 0 (delta 0), pack-reused 885\u001b[K\n",
      "Receiving objects: 100% (885/885), 39.85 MiB | 17.96 MiB/s, done.\n",
      "Resolving deltas: 100% (184/184), done.\n",
      "(base) "
     ]
    },
    {
     "ename": "",
     "evalue": "1",
     "output_type": "error",
     "traceback": []
    }
   ],
   "source": [
    "git clone https://github.com/vigsterkr/circos.git\n",
    "cd circos\n",
    "./install-unix"
   ]
  },
  {
   "cell_type": "code",
   "execution_count": 64,
   "id": "6b841908",
   "metadata": {},
   "outputs": [
    {
     "name": "stdout",
     "output_type": "stream",
     "text": [
      "(base) "
     ]
    },
    {
     "ename": "",
     "evalue": "1",
     "output_type": "error",
     "traceback": []
    }
   ],
   "source": [
    "echo \"chr - Chr 1 0 4600000 black\" >karyotype.txt"
   ]
  },
  {
   "cell_type": "code",
   "execution_count": null,
   "id": "52c07611",
   "metadata": {},
   "outputs": [],
   "source": [
    "cp -rf ../data/circos1.conf /home/jovyan/training_bacterial_comparative_genomics/jupyter/circos/circos1.conf"
   ]
  },
  {
   "cell_type": "markdown",
   "id": "ae95122a-4179-4896-8734-b9d360137870",
   "metadata": {},
   "source": [
    "#### Edit the Circos configuration file to adapt and customize your Circos image"
   ]
  },
  {
   "cell_type": "code",
   "execution_count": 140,
   "id": "fbb06d5e-49ff-4cf8-b5cc-8b37f5cea280",
   "metadata": {},
   "outputs": [
    {
     "name": "stdout",
     "output_type": "stream",
     "text": [
      "(base) debug: using configuration file input /home/jovyan/training_bacterial_comparative_genomics/jupyter/circos_test.conf\n",
      "debuglib: using configuration input /home/jovyan/training_bacterial_comparative_genomics/jupyter/circos_test.conf\n",
      "debuglib: loading configuration from file /home/jovyan/training_bacterial_comparative_genomics/jupyter/circos_test.conf\n",
      "debugload: using file from argument /home/jovyan/training_bacterial_comparative_genomics/jupyter/circos_test.conf\n",
      "debugfile: looking for configuration file /home/jovyan/training_bacterial_comparative_genomics/jupyter/circos_test.conf\n",
      "debugfile: found configuration file /home/jovyan/training_bacterial_comparative_genomics/jupyter/circos_test.conf\n",
      "zoomregion ideogram 0 chr Chr         0   4600000 scale  1.00 absolutescale  1.00\n",
      "registering tag Chr\n",
      "ideogramspacing Chr Chr Chr Chr 115.000025\n",
      "ideogramreport   0   Chr   0   Chr      0.000   4600.000   4600.001       0.000       0.000 r 1350 1340 1350 10\n",
      "drawing ticks Chr radius 1350 type absolute spacing 100000\n",
      "drawing ticks Chr radius 1350 type absolute spacing 10000\n",
      "drawing plot type line at z-depth 0\n",
      "created image at ./circos.png\n",
      "(base) "
     ]
    },
    {
     "ename": "",
     "evalue": "1",
     "output_type": "error",
     "traceback": []
    }
   ],
   "source": [
    "cd /home/jovyan/training_bacterial_comparative_genomics/jupyter/circos\n",
    "bin/circos -conf /home/jovyan/training_bacterial_comparative_genomics/jupyter/circos_test.conf"
   ]
  },
  {
   "cell_type": "code",
   "execution_count": 141,
   "id": "bb284fea",
   "metadata": {},
   "outputs": [
    {
     "name": "stdout",
     "output_type": "stream",
     "text": [
      "(base) "
     ]
    },
    {
     "ename": "",
     "evalue": "1",
     "output_type": "error",
     "traceback": []
    }
   ],
   "source": [
    "cp -rf circos.png circos1.png"
   ]
  },
  {
   "cell_type": "code",
   "execution_count": 142,
   "id": "7200608e-4b65-46a2-969f-d5410ea3c6df",
   "metadata": {},
   "outputs": [
    {
     "name": "stdout",
     "output_type": "stream",
     "text": [
      "(base) "
     ]
    },
    {
     "ename": "",
     "evalue": "1",
     "output_type": "error",
     "traceback": []
    }
   ],
   "source": [
    "cd /home/jovyan/training_bacterial_comparative_genomics/jupyter"
   ]
  },
  {
   "cell_type": "markdown",
   "id": "9fb8dd89",
   "metadata": {},
   "source": [
    "<img src=\"../images/circos1.svg\" align=\"center\" width=\"50%\" style=\"display: block; margin: auto;\"/> "
   ]
  },
  {
   "cell_type": "markdown",
   "id": "8615fee2",
   "metadata": {},
   "source": [
    "## Retrieve public genomes available for comparison"
   ]
  },
  {
   "cell_type": "markdown",
   "id": "8391c1e5",
   "metadata": {},
   "source": [
    "Public genomes can be retrived using NCBI : https://www.ncbi.nlm.nih.gov/datasets/genomes/"
   ]
  },
  {
   "cell_type": "code",
   "execution_count": 20,
   "id": "8f0f59c9",
   "metadata": {},
   "outputs": [
    {
     "name": "stdout",
     "output_type": "stream",
     "text": [
      "--2022-06-10 15:26:58--  https://ftp.ncbi.nlm.nih.gov/genomes/GENOME_REPORTS/prokaryotes.txt\n",
      "Resolving ftp.ncbi.nlm.nih.gov (ftp.ncbi.nlm.nih.gov)... 130.14.250.13, 130.14.250.11, 2607:f220:41e:250::11, ...\n",
      "Connecting to ftp.ncbi.nlm.nih.gov (ftp.ncbi.nlm.nih.gov)|130.14.250.13|:443... connected.\n",
      "HTTP request sent, awaiting response... 200 OK\n",
      "Length: 130422440 (124M) [text/plain]\n",
      "Saving to: ‘prokaryotes.txt’\n",
      "\n",
      "prokaryotes.txt     100%[===================>] 124.38M  20.1MB/s    in 7.5s    \n",
      "\n",
      "2022-06-10 15:27:06 (16.6 MB/s) - ‘prokaryotes.txt’ saved [130422440/130422440]\n",
      "\n"
     ]
    }
   ],
   "source": [
    "wget https://ftp.ncbi.nlm.nih.gov/genomes/GENOME_REPORTS/prokaryotes.txt"
   ]
  },
  {
   "cell_type": "code",
   "execution_count": 21,
   "id": "4801554b",
   "metadata": {},
   "outputs": [
    {
     "name": "stdout",
     "output_type": "stream",
     "text": [
      "95\n"
     ]
    }
   ],
   "source": [
    "grep \"Xanthomonas oryzae pv. oryzae\" prokaryotes.txt | grep -c 'chromosome:'"
   ]
  },
  {
   "cell_type": "code",
   "execution_count": 22,
   "id": "795f2bc6",
   "metadata": {},
   "outputs": [
    {
     "name": "stdout",
     "output_type": "stream",
     "text": [
      "17\n"
     ]
    }
   ],
   "source": [
    "grep \"Xanthomonas oryzae pv. oryzicola\" prokaryotes.txt | grep -c 'chromosome:'"
   ]
  },
  {
   "cell_type": "markdown",
   "id": "7947aa3d-03c7-4f52-9606-72c71e54f50c",
   "metadata": {},
   "source": [
    "#### Retrieve 3 Xoc genomes (fasta and annotations)"
   ]
  },
  {
   "cell_type": "code",
   "execution_count": 23,
   "id": "c8f8f1e9",
   "metadata": {},
   "outputs": [
    {
     "name": "stdout",
     "output_type": "stream",
     "text": [
      "Xanthomonas oryzae pv. oryzicola\t129394\tPRJNA248159\t248159\tProteobacteria\tGammaproteobacteria\t4.43083\t64.1\tchromosome:NZ_CP007810.1/CP007810.1\t-\t1\t4137\t3486\t2015/06/08\t2021/11/23\tComplete Genome\tKey Laboratory of Agricultural Biodiversity for Plant Disease Management under the Ministry of Education\tSAMN02793996\tGCA_001021915.1\tREPR\tftp://ftp.ncbi.nlm.nih.gov/genomes/all/GCA/001/021/915/GCA_001021915.1_ASM102191v1\t-\tYM15\n",
      "Xanthomonas oryzae pv. oryzicola\t129394\tPRJNA237971\t237971\tProteobacteria\tGammaproteobacteria\t5.0801\t64\tchromosome:NZ_CP007221.1/CP007221.1\t-\t1\t4690\t3924\t2015/03/04\t2022/01/21\tComplete Genome\tCornell University\tSAMN02640212\tGCA_000940825.1\t-\tftp://ftp.ncbi.nlm.nih.gov/genomes/all/GCA/000/940/825/GCA_000940825.1_ASM94082v1\t27148456\tCFBP7342\n",
      "Xanthomonas oryzae pv. oryzicola\t129394\tPRJNA280380\t280380\tProteobacteria\tGammaproteobacteria\t5.01777\t63.9\tchromosome:NZ_CP011959.1/CP011959.1\t-\t1\t4564\t3815\t2015/06/30\t2021/11/23\tComplete Genome\tBogdanove Lab, Plant Pathology and Plant-Microbe Biology, Cornell University\tSAMN03612287\tGCA_001042835.1\t-\tftp://ftp.ncbi.nlm.nih.gov/genomes/all/GCA/001/042/835/GCA_001042835.1_ASM104283v1\t-\tCFBP7341\n",
      "grep: write error: Broken pipe\n"
     ]
    }
   ],
   "source": [
    "grep \"Xanthomonas oryzae pv. oryzicola\" prokaryotes.txt | grep 'chromosome:' | head -3"
   ]
  },
  {
   "cell_type": "code",
   "execution_count": 98,
   "id": "2e97e5c8-4a60-40d3-b301-4bcea5a99685",
   "metadata": {},
   "outputs": [
    {
     "name": "stdout",
     "output_type": "stream",
     "text": [
      "--2022-06-13 07:00:08--  https://ftp.ncbi.nlm.nih.gov/genomes/all/GCA/001/021/915/GCA_001021915.1_ASM102191v1/GCA_001021915.1_ASM102191v1_genomic.fna.gz\n",
      "Resolving ftp.ncbi.nlm.nih.gov (ftp.ncbi.nlm.nih.gov)... 130.14.250.13, 130.14.250.11, 2607:f220:41e:250::7, ...\n",
      "Connecting to ftp.ncbi.nlm.nih.gov (ftp.ncbi.nlm.nih.gov)|130.14.250.13|:443... connected.\n",
      "HTTP request sent, awaiting response... 200 OK\n",
      "Length: 1281033 (1.2M) [application/x-gzip]\n",
      "Saving to: ‘Xoc_GCA_001021915.fna.gz’\n",
      "\n",
      "Xoc_GCA_001021915.f 100%[===================>]   1.22M  1.93MB/s    in 0.6s    \n",
      "\n",
      "2022-06-13 07:00:10 (1.93 MB/s) - ‘Xoc_GCA_001021915.fna.gz’ saved [1281033/1281033]\n",
      "\n",
      "(base) --2022-06-13 07:00:10--  https://ftp.ncbi.nlm.nih.gov/genomes/all/GCA/000/940/825/GCA_000940825.1_ASM94082v1/GCA_000940825.1_ASM94082v1_genomic.fna.gz\n",
      "Resolving ftp.ncbi.nlm.nih.gov (ftp.ncbi.nlm.nih.gov)... 130.14.250.13, 130.14.250.11, 2607:f220:41f:250::228, ...\n",
      "Connecting to ftp.ncbi.nlm.nih.gov (ftp.ncbi.nlm.nih.gov)|130.14.250.13|:443... connected.\n",
      "HTTP request sent, awaiting response... 200 OK\n",
      "Length: 1435249 (1.4M) [application/x-gzip]\n",
      "Saving to: ‘Xoc_GCA_000940825.fna.gz’\n",
      "\n",
      "Xoc_GCA_000940825.f 100%[===================>]   1.37M  2.16MB/s    in 0.6s    \n",
      "\n",
      "2022-06-13 07:00:11 (2.16 MB/s) - ‘Xoc_GCA_000940825.fna.gz’ saved [1435249/1435249]\n",
      "\n",
      "(base) --2022-06-13 07:00:11--  https://ftp.ncbi.nlm.nih.gov/genomes/all/GCA/001/042/835/GCA_001042835.1_ASM104283v1/GCA_001042835.1_ASM104283v1_genomic.fna.gz\n",
      "Resolving ftp.ncbi.nlm.nih.gov (ftp.ncbi.nlm.nih.gov)... 130.14.250.13, 130.14.250.11, 2607:f220:41e:250::7, ...\n",
      "Connecting to ftp.ncbi.nlm.nih.gov (ftp.ncbi.nlm.nih.gov)|130.14.250.13|:443... connected.\n",
      "HTTP request sent, awaiting response... 200 OK\n",
      "Length: 1423224 (1.4M) [application/x-gzip]\n",
      "Saving to: ‘Xoc_GCA_001042835.fna.gz’\n",
      "\n",
      "Xoc_GCA_001042835.f 100%[===================>]   1.36M  2.15MB/s    in 0.6s    \n",
      "\n",
      "2022-06-13 07:00:12 (2.15 MB/s) - ‘Xoc_GCA_001042835.fna.gz’ saved [1423224/1423224]\n",
      "\n",
      "(base) "
     ]
    },
    {
     "ename": "",
     "evalue": "1",
     "output_type": "error",
     "traceback": []
    }
   ],
   "source": [
    "wget https://ftp.ncbi.nlm.nih.gov/genomes/all/GCA/001/021/915/GCA_001021915.1_ASM102191v1/GCA_001021915.1_ASM102191v1_genomic.fna.gz -O Xoc_GCA_001021915.fna.gz\n",
    "wget https://ftp.ncbi.nlm.nih.gov/genomes/all/GCA/000/940/825/GCA_000940825.1_ASM94082v1/GCA_000940825.1_ASM94082v1_genomic.fna.gz -O Xoc_GCA_000940825.fna.gz\n",
    "wget https://ftp.ncbi.nlm.nih.gov/genomes/all/GCA/001/042/835/GCA_001042835.1_ASM104283v1/GCA_001042835.1_ASM104283v1_genomic.fna.gz -O Xoc_GCA_001042835.fna.gz"
   ]
  },
  {
   "cell_type": "code",
   "execution_count": 95,
   "id": "ba767e6b-e9b9-40f1-854b-b1cacc36dd35",
   "metadata": {},
   "outputs": [
    {
     "name": "stdout",
     "output_type": "stream",
     "text": [
      "--2022-06-13 05:02:31--  https://ftp.ncbi.nlm.nih.gov/genomes/all/GCA/001/021/915/GCA_001021915.1_ASM102191v1/GCA_001021915.1_ASM102191v1_genomic.gbff.gz\n",
      "Resolving ftp.ncbi.nlm.nih.gov (ftp.ncbi.nlm.nih.gov)... 130.14.250.7, 165.112.9.229, 2607:f220:41e:250::7, ...\n",
      "Connecting to ftp.ncbi.nlm.nih.gov (ftp.ncbi.nlm.nih.gov)|130.14.250.7|:443... connected.\n",
      "HTTP request sent, awaiting response... 200 OK\n",
      "Length: 2951060 (2.8M) [application/x-gzip]\n",
      "Saving to: ‘Xoc_GCA_001021915.gbff.gz’\n",
      "\n",
      "Xoc_GCA_001021915.g 100%[===================>]   2.81M  4.33MB/s    in 0.6s    \n",
      "\n",
      "2022-06-13 05:02:32 (4.33 MB/s) - ‘Xoc_GCA_001021915.gbff.gz’ saved [2951060/2951060]\n",
      "\n",
      "(base) --2022-06-13 05:02:32--  https://ftp.ncbi.nlm.nih.gov/genomes/all/GCA/000/940/825/GCA_000940825.1_ASM94082v1/GCA_000940825.1_ASM94082v1_genomic.gbff.gz\n",
      "Resolving ftp.ncbi.nlm.nih.gov (ftp.ncbi.nlm.nih.gov)... 130.14.250.7, 165.112.9.229, 2607:f220:41e:250::10, ...\n",
      "Connecting to ftp.ncbi.nlm.nih.gov (ftp.ncbi.nlm.nih.gov)|130.14.250.7|:443... connected.\n",
      "HTTP request sent, awaiting response... 200 OK\n",
      "Length: 3305656 (3.2M) [application/x-gzip]\n",
      "Saving to: ‘Xoc_GCA_000940825.gbff.gz’\n",
      "\n",
      "Xoc_GCA_000940825.g 100%[===================>]   3.15M  4.39MB/s    in 0.7s    \n",
      "\n",
      "2022-06-13 05:02:33 (4.39 MB/s) - ‘Xoc_GCA_000940825.gbff.gz’ saved [3305656/3305656]\n",
      "\n",
      "(base) --2022-06-13 05:02:34--  https://ftp.ncbi.nlm.nih.gov/genomes/all/GCA/001/042/835/GCA_001042835.1_ASM104283v1/GCA_001042835.1_ASM104283v1_genomic.gbff.gz\n",
      "Resolving ftp.ncbi.nlm.nih.gov (ftp.ncbi.nlm.nih.gov)... 165.112.9.229, 130.14.250.7, 2607:f220:41e:250::10, ...\n",
      "Connecting to ftp.ncbi.nlm.nih.gov (ftp.ncbi.nlm.nih.gov)|165.112.9.229|:443... connected.\n",
      "HTTP request sent, awaiting response... 200 OK\n",
      "Length: 3285574 (3.1M) [application/x-gzip]\n",
      "Saving to: ‘Xoc_GCA_001042835.gbff.gz’\n",
      "\n",
      "Xoc_GCA_001042835.g 100%[===================>]   3.13M  4.37MB/s    in 0.7s    \n",
      "\n",
      "2022-06-13 05:02:35 (4.37 MB/s) - ‘Xoc_GCA_001042835.gbff.gz’ saved [3285574/3285574]\n",
      "\n",
      "(base) "
     ]
    },
    {
     "ename": "",
     "evalue": "1",
     "output_type": "error",
     "traceback": []
    }
   ],
   "source": [
    "wget https://ftp.ncbi.nlm.nih.gov/genomes/all/GCA/001/021/915/GCA_001021915.1_ASM102191v1/GCA_001021915.1_ASM102191v1_genomic.gbff.gz -O Xoc_GCA_001021915.gbff.gz\n",
    "wget https://ftp.ncbi.nlm.nih.gov/genomes/all/GCA/000/940/825/GCA_000940825.1_ASM94082v1/GCA_000940825.1_ASM94082v1_genomic.gbff.gz -O Xoc_GCA_000940825.gbff.gz\n",
    "wget https://ftp.ncbi.nlm.nih.gov/genomes/all/GCA/001/042/835/GCA_001042835.1_ASM104283v1/GCA_001042835.1_ASM104283v1_genomic.gbff.gz -O Xoc_GCA_001042835.gbff.gz"
   ]
  },
  {
   "cell_type": "markdown",
   "id": "e26dd349-cb9a-48a1-af3c-cdb7901dbdb8",
   "metadata": {},
   "source": [
    "#### Retrieve 3 Xoo genomes (fasta and annotations)"
   ]
  },
  {
   "cell_type": "code",
   "execution_count": 24,
   "id": "72bf0099",
   "metadata": {},
   "outputs": [
    {
     "name": "stdout",
     "output_type": "stream",
     "text": [
      "Xanthomonas oryzae pv. oryzae\t64187\tPRJNA485465\t485465\tProteobacteria\tGammaproteobacteria\t4.99067\t63.7\tchromosome:NZ_CP031697.1/CP031697.1\t-\t1\t4647\t3652\t2019/02/04\t2022/03/27\tComplete Genome\tMartin Luther University Halle-Wittenberg\tSAMN09791860\tGCA_004136375.1\t-\tftp://ftp.ncbi.nlm.nih.gov/genomes/all/GCA/004/136/375/GCA_004136375.1_ASM413637v1\t-\tICMP3125\n",
      "Xanthomonas oryzae pv. oryzae\t64187\tPRJNA269487\t269487\tProteobacteria\tGammaproteobacteria\t5.09305\t63.7\tchromosome:NZ_CP040687.1/CP040687.1\t-\t1\t4757\t3787\t2019/05/28\t2022/03/20\tComplete Genome\tBacterial Genomics and Evolution Laboratory, CSIR-Institute of Microbial Technology, Sector 39-A, Chandigarh, India\tSAMN03252586\tGCA_001929235.2\t-\tftp://ftp.ncbi.nlm.nih.gov/genomes/all/GCA/001/929/235/GCA_001929235.2_ASM192923v2\t-\tIXO1088\n",
      "Xanthomonas oryzae pv. oryzae\t64187\tPRJNA497605\t497605\tProteobacteria\tGammaproteobacteria\t5.05039\t63.7\tchromosome:NZ_CP033192.1/CP033192.1\t-\t1\t4713\t3695\t2019/03/19\t2022/04/07\tComplete Genome\tUniversity of Florida\tSAMN10261817\tGCA_004355825.1\t-\tftp://ftp.ncbi.nlm.nih.gov/genomes/all/GCA/004/355/825/GCA_004355825.1_ASM435582v1\t-\tNX0260\n",
      "grep: write error: Broken pipe\n",
      "grep: write error: Broken pipe\n"
     ]
    }
   ],
   "source": [
    "grep \"Xanthomonas oryzae pv. oryzae\" prokaryotes.txt | grep 'chromosome:' | head -3"
   ]
  },
  {
   "cell_type": "code",
   "execution_count": 96,
   "id": "1c8b2038",
   "metadata": {},
   "outputs": [
    {
     "name": "stdout",
     "output_type": "stream",
     "text": [
      "--2022-06-13 06:56:33--  https://ftp.ncbi.nlm.nih.gov/genomes/all/GCA/004/136/375/GCA_004136375.1_ASM413637v1/GCA_004136375.1_ASM413637v1_genomic.fna.gz\n",
      "Resolving ftp.ncbi.nlm.nih.gov (ftp.ncbi.nlm.nih.gov)... 130.14.250.13, 130.14.250.11, 2607:f220:41e:250::12, ...\n",
      "Connecting to ftp.ncbi.nlm.nih.gov (ftp.ncbi.nlm.nih.gov)|130.14.250.13|:443... connected.\n",
      "HTTP request sent, awaiting response... 200 OK\n",
      "Length: 1415838 (1.3M) [application/x-gzip]\n",
      "Saving to: ‘Xoo_GCA_004136375.fna.gz’\n",
      "\n",
      "Xoo_GCA_004136375.f 100%[===================>]   1.35M  2.49MB/s    in 0.5s    \n",
      "\n",
      "2022-06-13 06:56:34 (2.49 MB/s) - ‘Xoo_GCA_004136375.fna.gz’ saved [1415838/1415838]\n",
      "\n",
      "(base) --2022-06-13 06:56:34--  https://ftp.ncbi.nlm.nih.gov/genomes/all/GCA/001/929/235/GCA_001929235.2_ASM192923v2/GCA_001929235.2_ASM192923v2_genomic.fna.gz\n",
      "Resolving ftp.ncbi.nlm.nih.gov (ftp.ncbi.nlm.nih.gov)... 130.14.250.11, 130.14.250.13, 2607:f220:41f:250::230, ...\n",
      "Connecting to ftp.ncbi.nlm.nih.gov (ftp.ncbi.nlm.nih.gov)|130.14.250.11|:443... connected.\n",
      "HTTP request sent, awaiting response... 200 OK\n",
      "Length: 1445997 (1.4M) [application/x-gzip]\n",
      "Saving to: ‘Xoo_GCA_001929235.fna.gz’\n",
      "\n",
      "Xoo_GCA_001929235.f 100%[===================>]   1.38M  2.52MB/s    in 0.5s    \n",
      "\n",
      "2022-06-13 06:56:35 (2.52 MB/s) - ‘Xoo_GCA_001929235.fna.gz’ saved [1445997/1445997]\n",
      "\n",
      "(base) --2022-06-13 06:56:36--  https://ftp.ncbi.nlm.nih.gov/genomes/all/GCA/004/355/825/GCA_004355825.1_ASM435582v1/GCA_004355825.1_ASM435582v1_genomic.fna.gz\n",
      "Resolving ftp.ncbi.nlm.nih.gov (ftp.ncbi.nlm.nih.gov)... 130.14.250.11, 130.14.250.13, 2607:f220:41e:250::12, ...\n",
      "Connecting to ftp.ncbi.nlm.nih.gov (ftp.ncbi.nlm.nih.gov)|130.14.250.11|:443... connected.\n",
      "HTTP request sent, awaiting response... 200 OK\n",
      "Length: 1431347 (1.4M) [application/x-gzip]\n",
      "Saving to: ‘Xoo_GCA_004355825.fna.gz’\n",
      "\n",
      "Xoo_GCA_004355825.f 100%[===================>]   1.36M  2.53MB/s    in 0.5s    \n",
      "\n",
      "2022-06-13 06:56:37 (2.53 MB/s) - ‘Xoo_GCA_004355825.fna.gz’ saved [1431347/1431347]\n",
      "\n",
      "(base) "
     ]
    },
    {
     "ename": "",
     "evalue": "1",
     "output_type": "error",
     "traceback": []
    }
   ],
   "source": [
    "wget https://ftp.ncbi.nlm.nih.gov/genomes/all/GCA/004/136/375/GCA_004136375.1_ASM413637v1/GCA_004136375.1_ASM413637v1_genomic.fna.gz -O Xoo_GCA_004136375.fna.gz\n",
    "wget https://ftp.ncbi.nlm.nih.gov/genomes/all/GCA/001/929/235/GCA_001929235.2_ASM192923v2/GCA_001929235.2_ASM192923v2_genomic.fna.gz -O Xoo_GCA_001929235.fna.gz\n",
    "wget https://ftp.ncbi.nlm.nih.gov/genomes/all/GCA/004/355/825/GCA_004355825.1_ASM435582v1/GCA_004355825.1_ASM435582v1_genomic.fna.gz -O Xoo_GCA_004355825.fna.gz"
   ]
  },
  {
   "cell_type": "code",
   "execution_count": 97,
   "id": "91cd1950-f91e-4416-8ec7-a7915d8f38d9",
   "metadata": {},
   "outputs": [
    {
     "name": "stdout",
     "output_type": "stream",
     "text": [
      "--2022-06-13 06:58:10--  https://ftp.ncbi.nlm.nih.gov/genomes/all/GCA/004/136/375/GCA_004136375.1_ASM413637v1/GCA_004136375.1_ASM413637v1_genomic.gbff.gz\n",
      "Resolving ftp.ncbi.nlm.nih.gov (ftp.ncbi.nlm.nih.gov)... 165.112.9.228, 130.14.250.12, 2607:f220:41e:250::11, ...\n",
      "Connecting to ftp.ncbi.nlm.nih.gov (ftp.ncbi.nlm.nih.gov)|165.112.9.228|:443... connected.\n",
      "HTTP request sent, awaiting response... 200 OK\n",
      "Length: 3276284 (3.1M) [application/x-gzip]\n",
      "Saving to: ‘Xoo_GCA_004136375.gbff.gz’\n",
      "\n",
      "Xoo_GCA_004136375.g 100%[===================>]   3.12M  4.31MB/s    in 0.7s    \n",
      "\n",
      "2022-06-13 06:58:11 (4.31 MB/s) - ‘Xoo_GCA_004136375.gbff.gz’ saved [3276284/3276284]\n",
      "\n",
      "(base) --2022-06-13 06:58:11--  https://ftp.ncbi.nlm.nih.gov/genomes/all/GCA/001/929/235/GCA_001929235.2_ASM192923v2/GCA_001929235.2_ASM192923v2_genomic.gbff.gz\n",
      "Resolving ftp.ncbi.nlm.nih.gov (ftp.ncbi.nlm.nih.gov)... 165.112.9.228, 130.14.250.12, 2607:f220:41f:250::229, ...\n",
      "Connecting to ftp.ncbi.nlm.nih.gov (ftp.ncbi.nlm.nih.gov)|165.112.9.228|:443... connected.\n",
      "HTTP request sent, awaiting response... 200 OK\n",
      "Length: 3360152 (3.2M) [application/x-gzip]\n",
      "Saving to: ‘Xoo_GCA_001929235.gbff.gz’\n",
      "\n",
      "Xoo_GCA_001929235.g 100%[===================>]   3.20M  4.40MB/s    in 0.7s    \n",
      "\n",
      "2022-06-13 06:58:13 (4.40 MB/s) - ‘Xoo_GCA_001929235.gbff.gz’ saved [3360152/3360152]\n",
      "\n",
      "(base) --2022-06-13 06:58:13--  https://ftp.ncbi.nlm.nih.gov/genomes/all/GCA/004/355/825/GCA_004355825.1_ASM435582v1/GCA_004355825.1_ASM435582v1_genomic.gbff.gz\n",
      "Resolving ftp.ncbi.nlm.nih.gov (ftp.ncbi.nlm.nih.gov)... 165.112.9.228, 130.14.250.12, 2607:f220:41e:250::11, ...\n",
      "Connecting to ftp.ncbi.nlm.nih.gov (ftp.ncbi.nlm.nih.gov)|165.112.9.228|:443... connected.\n",
      "HTTP request sent, awaiting response... 200 OK\n",
      "Length: 3309902 (3.2M) [application/x-gzip]\n",
      "Saving to: ‘Xoo_GCA_004355825.gbff.gz’\n",
      "\n",
      "Xoo_GCA_004355825.g 100%[===================>]   3.16M  4.42MB/s    in 0.7s    \n",
      "\n",
      "2022-06-13 06:58:14 (4.42 MB/s) - ‘Xoo_GCA_004355825.gbff.gz’ saved [3309902/3309902]\n",
      "\n",
      "(base) "
     ]
    },
    {
     "ename": "",
     "evalue": "1",
     "output_type": "error",
     "traceback": []
    }
   ],
   "source": [
    "wget https://ftp.ncbi.nlm.nih.gov/genomes/all/GCA/004/136/375/GCA_004136375.1_ASM413637v1/GCA_004136375.1_ASM413637v1_genomic.gbff.gz -O Xoo_GCA_004136375.gbff.gz\n",
    "wget https://ftp.ncbi.nlm.nih.gov/genomes/all/GCA/001/929/235/GCA_001929235.2_ASM192923v2/GCA_001929235.2_ASM192923v2_genomic.gbff.gz -O Xoo_GCA_001929235.gbff.gz\n",
    "wget https://ftp.ncbi.nlm.nih.gov/genomes/all/GCA/004/355/825/GCA_004355825.1_ASM435582v1/GCA_004355825.1_ASM435582v1_genomic.gbff.gz -O Xoo_GCA_004355825.gbff.gz"
   ]
  },
  {
   "cell_type": "code",
   "execution_count": null,
   "id": "4688c56b",
   "metadata": {},
   "outputs": [],
   "source": [
    "gunzip *.fna.gz"
   ]
  },
  {
   "cell_type": "code",
   "execution_count": 25,
   "id": "a809c653",
   "metadata": {},
   "outputs": [
    {
     "name": "stdout",
     "output_type": "stream",
     "text": [
      "module load bioinfo/prokka/1.13.3\n",
      "<GCA_004136375.1_ASM413637v1 --outdir prokka_out --f                        orce >>prokka.log 2>&1 --\n",
      "<GCA_001929235.2_ASM192923v2 --outdir prokka_out --f                        orce >>prokka.log 2>&1 --\n",
      "<GCA_001021915.1_ASM102191v1 --outdir prokka_out --f                        orce >>prokka.log 2>&1 --\n",
      "<CA_000940825.1_ASM94082v1 --outdir prokka_out --for                        ce >>prokka.log 2>&1 --fo\n",
      "(base) "
     ]
    },
    {
     "ename": "",
     "evalue": "1",
     "output_type": "error",
     "traceback": []
    }
   ],
   "source": [
    "module load bioinfo/prokka/1.13.3\n",
    "prokka GCA_004136375.1_ASM413637v1_genomic.fna --prefix GCA_004136375.1_ASM413637v1 --outdir prokka_out --force >>prokka.log 2>&1\n",
    "prokka GCA_001929235.2_ASM192923v2_genomic.fna --prefix GCA_001929235.2_ASM192923v2 --outdir prokka_out --force >>prokka.log 2>&1\n",
    "prokka GCA_001021915.1_ASM102191v1_genomic.fna --prefix GCA_001021915.1_ASM102191v1 --outdir prokka_out --force >>prokka.log 2>&1\n",
    "prokka GCA_000940825.1_ASM94082v1_genomic.fna --prefix GCA_000940825.1_ASM94082v1 --outdir prokka_out --force >>prokka.log 2>&1"
   ]
  },
  {
   "cell_type": "code",
   "execution_count": 81,
   "id": "47b75b43",
   "metadata": {},
   "outputs": [
    {
     "name": "stdout",
     "output_type": "stream",
     "text": [
      "--2022-06-12 20:22:15--  https://ftp.ncbi.nlm.nih.gov/genomes/all/GCA/004/136/375/GCA_004136375.1_ASM413637v1/GCA_004136375.1_ASM413637v1_genomic.gbff.gz\n",
      "Resolving ftp.ncbi.nlm.nih.gov (ftp.ncbi.nlm.nih.gov)... 130.14.250.7, 165.112.9.230, 2607:f220:41f:250::228, ...\n",
      "Connecting to ftp.ncbi.nlm.nih.gov (ftp.ncbi.nlm.nih.gov)|130.14.250.7|:443... connected.\n",
      "HTTP request sent, awaiting response... 200 OK\n",
      "Length: 3276284 (3.1M) [application/x-gzip]\n",
      "Saving to: ‘GCA_004136375.1_ASM413637v1_genomic.gbff.gz’\n",
      "\n",
      "GCA_004136375.1_ASM 100%[===================>]   3.12M  4.21MB/s    in 0.7s    \n",
      "\n",
      "2022-06-12 20:22:17 (4.21 MB/s) - ‘GCA_004136375.1_ASM413637v1_genomic.gbff.gz’ saved [3276284/3276284]\n",
      "\n",
      "(base) --2022-06-12 20:22:17--  https://ftp.ncbi.nlm.nih.gov/genomes/all/GCA/001/929/235/GCA_001929235.2_ASM192923v2/GCA_001929235.2_ASM192923v2_genomic.gbff.gz\n",
      "Resolving ftp.ncbi.nlm.nih.gov (ftp.ncbi.nlm.nih.gov)... 165.112.9.230, 130.14.250.7, 2607:f220:41e:250::10, ...\n",
      "Connecting to ftp.ncbi.nlm.nih.gov (ftp.ncbi.nlm.nih.gov)|165.112.9.230|:443... connected.\n",
      "HTTP request sent, awaiting response... 200 OK\n",
      "Length: 3360152 (3.2M) [application/x-gzip]\n",
      "Saving to: ‘GCA_001929235.2_ASM192923v2_genomic.gbff.gz’\n",
      "\n",
      "GCA_001929235.2_ASM 100%[===================>]   3.20M  4.87MB/s    in 0.7s    \n",
      "\n",
      "2022-06-12 20:22:18 (4.87 MB/s) - ‘GCA_001929235.2_ASM192923v2_genomic.gbff.gz’ saved [3360152/3360152]\n",
      "\n",
      "(base) --2022-06-12 20:22:18--  https://ftp.ncbi.nlm.nih.gov/genomes/all/GCA/004/355/825/GCA_004355825.1_ASM435582v1/GCA_004355825.1_ASM435582v1_genomic.gbff.gz\n",
      "Resolving ftp.ncbi.nlm.nih.gov (ftp.ncbi.nlm.nih.gov)... 130.14.250.7, 165.112.9.230, 2607:f220:41e:250::10, ...\n",
      "Connecting to ftp.ncbi.nlm.nih.gov (ftp.ncbi.nlm.nih.gov)|130.14.250.7|:443... connected.\n",
      "HTTP request sent, awaiting response... 200 OK\n",
      "Length: 3309902 (3.2M) [application/x-gzip]\n",
      "Saving to: ‘GCA_004355825.1_ASM435582v1_genomic.gbff.gz’\n",
      "\n",
      "GCA_004355825.1_ASM 100%[===================>]   3.16M  4.79MB/s    in 0.7s    \n",
      "\n",
      "2022-06-12 20:22:19 (4.79 MB/s) - ‘GCA_004355825.1_ASM435582v1_genomic.gbff.gz’ saved [3309902/3309902]\n",
      "\n",
      "(base) --2022-06-12 20:22:19--  https://ftp.ncbi.nlm.nih.gov/genomes/all/GCA/001/746/615/GCA_001746615.1_ASM174661v1/GCA_001746615.1_ASM174661v1_genomic.gbff.gz\n",
      "Resolving ftp.ncbi.nlm.nih.gov (ftp.ncbi.nlm.nih.gov)... 165.112.9.230, 130.14.250.7, 2607:f220:41f:250::228, ...\n",
      "Connecting to ftp.ncbi.nlm.nih.gov (ftp.ncbi.nlm.nih.gov)|165.112.9.230|:443... connected.\n",
      "HTTP request sent, awaiting response... 200 OK\n",
      "Length: 3334158 (3.2M) [application/x-gzip]\n",
      "Saving to: ‘GCA_001746615.1_ASM174661v1_genomic.gbff.gz’\n",
      "\n",
      "GCA_001746615.1_ASM 100%[===================>]   3.18M  4.88MB/s    in 0.7s    \n",
      "\n",
      "2022-06-12 20:22:20 (4.88 MB/s) - ‘GCA_001746615.1_ASM174661v1_genomic.gbff.gz’ saved [3334158/3334158]\n",
      "\n",
      "(base) --2022-06-12 20:22:21--  https://ftp.ncbi.nlm.nih.gov/genomes/all/GCA/001/021/915/GCA_001021915.1_ASM102191v1/GCA_001021915.1_ASM102191v1_genomic.gbff.gz\n",
      "Resolving ftp.ncbi.nlm.nih.gov (ftp.ncbi.nlm.nih.gov)... 130.14.250.7, 165.112.9.230, 2607:f220:41e:250::10, ...\n",
      "Connecting to ftp.ncbi.nlm.nih.gov (ftp.ncbi.nlm.nih.gov)|130.14.250.7|:443... connected.\n",
      "HTTP request sent, awaiting response... 200 OK\n",
      "Length: 2951060 (2.8M) [application/x-gzip]\n",
      "Saving to: ‘GCA_001021915.1_ASM102191v1_genomic.gbff.gz’\n",
      "\n",
      "GCA_001021915.1_ASM 100%[===================>]   2.81M  3.41MB/s    in 0.8s    \n",
      "\n",
      "2022-06-12 20:22:22 (3.41 MB/s) - ‘GCA_001021915.1_ASM102191v1_genomic.gbff.gz’ saved [2951060/2951060]\n",
      "\n",
      "(base) --2022-06-12 20:22:22--  https://ftp.ncbi.nlm.nih.gov/genomes/all/GCA/000/940/825/GCA_000940825.1_ASM94082v1/GCA_000940825.1_ASM94082v1_genomic.gbff.gz\n",
      "Resolving ftp.ncbi.nlm.nih.gov (ftp.ncbi.nlm.nih.gov)... 130.14.250.7, 165.112.9.230, 2607:f220:41f:250::228, ...\n",
      "Connecting to ftp.ncbi.nlm.nih.gov (ftp.ncbi.nlm.nih.gov)|130.14.250.7|:443... connected.\n",
      "HTTP request sent, awaiting response... 200 OK\n",
      "Length: 3305656 (3.2M) [application/x-gzip]\n",
      "Saving to: ‘GCA_000940825.1_ASM94082v1_genomic.gbff.gz’\n",
      "\n",
      "GCA_000940825.1_ASM 100%[===================>]   3.15M  4.21MB/s    in 0.7s    \n",
      "\n",
      "2022-06-12 20:22:23 (4.21 MB/s) - ‘GCA_000940825.1_ASM94082v1_genomic.gbff.gz’ saved [3305656/3305656]\n",
      "\n",
      "(base) --2022-06-12 20:22:23--  https://ftp.ncbi.nlm.nih.gov/genomes/all/GCA/001/042/835/GCA_001042835.1_ASM104283v1/GCA_001042835.1_ASM104283v1_genomic.gbff.gz\n",
      "Resolving ftp.ncbi.nlm.nih.gov (ftp.ncbi.nlm.nih.gov)... 165.112.9.230, 130.14.250.7, 2607:f220:41e:250::10, ...\n",
      "Connecting to ftp.ncbi.nlm.nih.gov (ftp.ncbi.nlm.nih.gov)|165.112.9.230|:443... connected.\n",
      "HTTP request sent, awaiting response... 200 OK\n",
      "Length: 3285574 (3.1M) [application/x-gzip]\n",
      "Saving to: ‘GCA_001042835.1_ASM104283v1_genomic.gbff.gz’\n",
      "\n",
      "GCA_001042835.1_ASM 100%[===================>]   3.13M  4.75MB/s    in 0.7s    \n",
      "\n",
      "2022-06-12 20:22:24 (4.75 MB/s) - ‘GCA_001042835.1_ASM104283v1_genomic.gbff.gz’ saved [3285574/3285574]\n",
      "\n",
      "(base) --2022-06-12 20:22:24--  https://ftp.ncbi.nlm.nih.gov/genomes/all/GCA/001/042/815/GCA_001042815.1_ASM104281v1/GCA_001042815.1_ASM104281v1_genomic.gbff.gz\n",
      "Resolving ftp.ncbi.nlm.nih.gov (ftp.ncbi.nlm.nih.gov)... 130.14.250.7, 165.112.9.230, 2607:f220:41f:250::228, ...\n",
      "Connecting to ftp.ncbi.nlm.nih.gov (ftp.ncbi.nlm.nih.gov)|130.14.250.7|:443... connected.\n",
      "HTTP request sent, awaiting response... 200 OK\n",
      "Length: 3281522 (3.1M) [application/x-gzip]\n",
      "Saving to: ‘GCA_001042815.1_ASM104281v1_genomic.gbff.gz’\n",
      "\n",
      "GCA_001042815.1_ASM 100%[===================>]   3.13M  3.76MB/s    in 0.8s    \n",
      "\n",
      "2022-06-12 20:22:26 (3.76 MB/s) - ‘GCA_001042815.1_ASM104281v1_genomic.gbff.gz’ saved [3281522/3281522]\n",
      "\n",
      "(base) "
     ]
    },
    {
     "ename": "",
     "evalue": "1",
     "output_type": "error",
     "traceback": []
    }
   ],
   "source": [
    "wget https://ftp.ncbi.nlm.nih.gov/genomes/all/GCA/004/136/375/GCA_004136375.1_ASM413637v1/GCA_004136375.1_ASM413637v1_genomic.gbff.gz\n",
    "wget https://ftp.ncbi.nlm.nih.gov/genomes/all/GCA/001/929/235/GCA_001929235.2_ASM192923v2/GCA_001929235.2_ASM192923v2_genomic.gbff.gz\n",
    "wget https://ftp.ncbi.nlm.nih.gov/genomes/all/GCA/004/355/825/GCA_004355825.1_ASM435582v1/GCA_004355825.1_ASM435582v1_genomic.gbff.gz\n",
    "wget https://ftp.ncbi.nlm.nih.gov/genomes/all/GCA/001/746/615/GCA_001746615.1_ASM174661v1/GCA_001746615.1_ASM174661v1_genomic.gbff.gz\n",
    "wget https://ftp.ncbi.nlm.nih.gov/genomes/all/GCA/001/021/915/GCA_001021915.1_ASM102191v1/GCA_001021915.1_ASM102191v1_genomic.gbff.gz\n",
    "wget https://ftp.ncbi.nlm.nih.gov/genomes/all/GCA/000/940/825/GCA_000940825.1_ASM94082v1/GCA_000940825.1_ASM94082v1_genomic.gbff.gz\n",
    "wget https://ftp.ncbi.nlm.nih.gov/genomes/all/GCA/001/042/835/GCA_001042835.1_ASM104283v1/GCA_001042835.1_ASM104283v1_genomic.gbff.gz\n",
    "wget https://ftp.ncbi.nlm.nih.gov/genomes/all/GCA/001/042/815/GCA_001042815.1_ASM104281v1/GCA_001042815.1_ASM104281v1_genomic.gbff.gz"
   ]
  },
  {
   "cell_type": "markdown",
   "id": "74550ad5",
   "metadata": {},
   "source": [
    "## Convert GenBank annotation files to GFF format"
   ]
  },
  {
   "cell_type": "code",
   "execution_count": 99,
   "id": "00a548ac",
   "metadata": {},
   "outputs": [
    {
     "name": "stdout",
     "output_type": "stream",
     "text": [
      "(base) (base) "
     ]
    },
    {
     "ename": "",
     "evalue": "1",
     "output_type": "error",
     "traceback": []
    }
   ],
   "source": [
    "rm -rf annotations\n",
    "mkdir annotations"
   ]
  },
  {
   "cell_type": "code",
   "execution_count": 100,
   "id": "058070c7",
   "metadata": {},
   "outputs": [
    {
     "name": "stdout",
     "output_type": "stream",
     "text": [
      "(base) "
     ]
    },
    {
     "ename": "",
     "evalue": "1",
     "output_type": "error",
     "traceback": []
    }
   ],
   "source": [
    "cp -rf Xo*gbff.gz annotations"
   ]
  },
  {
   "cell_type": "code",
   "execution_count": 101,
   "id": "6632fa74-283c-4bc4-9827-cdda1aa20993",
   "metadata": {},
   "outputs": [
    {
     "name": "stdout",
     "output_type": "stream",
     "text": [
      "fatal: destination path 'bioperl-live' already exists and is not an empty directory.\n",
      "(base) (base) "
     ]
    },
    {
     "ename": "",
     "evalue": "1",
     "output_type": "error",
     "traceback": []
    }
   ],
   "source": [
    "git clone https://github.com/bioperl/bioperl-live.git\n",
    "chmod 755 bioperl-live/bin/*"
   ]
  },
  {
   "cell_type": "code",
   "execution_count": 103,
   "id": "182de8c2",
   "metadata": {},
   "outputs": [
    {
     "name": "stdout",
     "output_type": "stream",
     "text": [
      "# Input: annotations/Xoo_GCA_004136375.gbff.gz\n",
      "# working on region:CP031697, Xanthomonas oryzae pv. oryzae, Xanthomonas oryzae pv. oryzae strain ICMP3125 chromosome, complete genome., 04-FEB-2019\n",
      "# GFF3 saved to ./Xoo_GCA_004136375.gbff.gz.gff\n",
      "(base) # Input: annotations/Xoo_GCA_001929235.gbff.gz\n",
      "# working on region:CP040687, Xanthomonas oryzae pv. oryzae, Xanthomonas oryzae pv. oryzae strain IXO1088 chromosome, complete genome., 06-MAR-2020\n",
      "# GFF3 saved to ./Xoo_GCA_001929235.gbff.gz.gff\n",
      "(base) # Input: annotations/Xoo_GCA_004355825.gbff.gz\n",
      "# working on region:CP033192, Xanthomonas oryzae pv. oryzae, Xanthomonas oryzae pv. oryzae strain NX0260 chromosome, complete genome., 19-MAR-2019\n",
      "# GFF3 saved to ./Xoo_GCA_004355825.gbff.gz.gff\n",
      "(base) # Input: annotations/Xoc_GCA_001021915.gbff.gz\n",
      "# working on region:CP007810, Xanthomonas oryzae pv. oryzicola, Xanthomonas oryzae pv. oryzicola strain YM15, complete genome., 08-JUN-2015\n",
      "# GFF3 saved to ./Xoc_GCA_001021915.gbff.gz.gff\n",
      "(base) # Input: annotations/Xoc_GCA_000940825.gbff.gz\n",
      "# working on region:CP007221, Xanthomonas oryzae pv. oryzicola, Xanthomonas oryzae pv. oryzicola strain CFBP7342, complete genome., 16-NOV-2015\n",
      "# GFF3 saved to ./Xoc_GCA_000940825.gbff.gz.gff\n",
      "(base) # Input: annotations/Xoc_GCA_001042835.gbff.gz\n",
      "# working on region:CP011959, Xanthomonas oryzae pv. oryzicola, Xanthomonas oryzae pv. oryzicola strain CFBP7341, complete genome., 07-AUG-2015\n",
      "# GFF3 saved to ./Xoc_GCA_001042835.gbff.gz.gff\n",
      "(base) "
     ]
    },
    {
     "ename": "",
     "evalue": "1",
     "output_type": "error",
     "traceback": []
    }
   ],
   "source": [
    "perl bioperl-live/bin/bp_genbank2gff3 annotations/Xoo_GCA_004136375.gbff.gz\n",
    "perl bioperl-live/bin/bp_genbank2gff3 annotations/Xoo_GCA_001929235.gbff.gz\n",
    "perl bioperl-live/bin/bp_genbank2gff3 annotations/Xoo_GCA_004355825.gbff.gz\n",
    "perl bioperl-live/bin/bp_genbank2gff3 annotations/Xoc_GCA_001021915.gbff.gz\n",
    "perl bioperl-live/bin/bp_genbank2gff3 annotations/Xoc_GCA_000940825.gbff.gz\n",
    "perl bioperl-live/bin/bp_genbank2gff3 annotations/Xoc_GCA_001042835.gbff.gz"
   ]
  },
  {
   "cell_type": "code",
   "execution_count": 104,
   "id": "0c61cf38",
   "metadata": {},
   "outputs": [
    {
     "name": "stdout",
     "output_type": "stream",
     "text": [
      "(base) "
     ]
    },
    {
     "ename": "",
     "evalue": "1",
     "output_type": "error",
     "traceback": []
    }
   ],
   "source": [
    "mv Xo*gff annotations"
   ]
  },
  {
   "cell_type": "markdown",
   "id": "9b5233f2",
   "metadata": {},
   "source": [
    "## Comparison between 2 genomes (with Minimap2 and circos)"
   ]
  },
  {
   "cell_type": "markdown",
   "id": "93fd2e27",
   "metadata": {},
   "source": [
    "#### Compare 2 oryzae"
   ]
  },
  {
   "cell_type": "code",
   "execution_count": 145,
   "id": "edb31b49-4cbc-479a-958b-75af13f242e6",
   "metadata": {},
   "outputs": [
    {
     "name": "stdout",
     "output_type": "stream",
     "text": [
      "(base) "
     ]
    },
    {
     "ename": "",
     "evalue": "1",
     "output_type": "error",
     "traceback": []
    }
   ],
   "source": [
    "gunzip Xoo*fna.gz"
   ]
  },
  {
   "cell_type": "code",
   "execution_count": 146,
   "id": "53d713dd-0c71-4329-8097-b27d0fe39d71",
   "metadata": {},
   "outputs": [
    {
     "name": "stdout",
     "output_type": "stream",
     "text": [
      "Xoo_GCA_001929235.fna  Xoo_GCA_004136375.fna  Xoo_GCA_004355825.fna\n",
      "(base) "
     ]
    },
    {
     "ename": "",
     "evalue": "1",
     "output_type": "error",
     "traceback": []
    }
   ],
   "source": [
    "ls Xoo*fna"
   ]
  },
  {
   "cell_type": "code",
   "execution_count": 147,
   "id": "9b1bafd5",
   "metadata": {},
   "outputs": [
    {
     "name": "stdout",
     "output_type": "stream",
     "text": [
      "[M::mm_idx_gen::0.305*1.01] collected minimizers\n",
      "[M::mm_idx_gen::0.477*0.99] sorted minimizers\n",
      "[M::main::0.477*0.99] loaded/built the index for 1 target sequence(s)\n",
      "[M::mm_mapopt_update::0.508*0.98] mid_occ = 71\n",
      "[M::mm_idx_stat] kmer size: 15; skip: 10; is_hpc: 0; #seq: 1\n",
      "[M::mm_idx_stat::0.548*0.95] distinct minimizers: 780094 (93.86% are singletons); average occurrences: 1.219; average spacing: 5.354\n",
      "[M::worker_pipeline::22.811*0.98] mapped 1 sequences\n",
      "[M::main] Version: 2.17-r941\n",
      "[M::main] CMD: minimap2 -o minimap2.paf Xoo_GCA_001929235.fna Xoo_GCA_004136375.fna\n",
      "[M::main] Real time: 22.839 sec; CPU: 22.480 sec; Peak RSS: 0.295 GB\n",
      "(base) "
     ]
    },
    {
     "ename": "",
     "evalue": "1",
     "output_type": "error",
     "traceback": []
    }
   ],
   "source": [
    "minimap2 Xoo_GCA_001929235.fna Xoo_GCA_004136375.fna -o minimap2.paf"
   ]
  },
  {
   "cell_type": "code",
   "execution_count": 148,
   "id": "d9270b14",
   "metadata": {},
   "outputs": [
    {
     "name": "stdout",
     "output_type": "stream",
     "text": [
      "(base) (base) "
     ]
    },
    {
     "ename": "",
     "evalue": "1",
     "output_type": "error",
     "traceback": []
    }
   ],
   "source": [
    "awk {'if (($4-$3)>100000 && $5==\"+\")print $1\" \"$3\" \"$4\" \"$6\" \"$8\" \"$9'} minimap2.paf >links.txt\n",
    "awk {'if (($4-$3)>100000 && $5==\"-\")print $1\" \"$3\" \"$4\" \"$6\" \"$9\" \"$8'} minimap2.paf >links_inverted.txt"
   ]
  },
  {
   "cell_type": "markdown",
   "id": "acf82d10-7ad8-4e85-b0c7-c565ef43e134",
   "metadata": {},
   "source": [
    "#### Visualize matches between genomes with Circos"
   ]
  },
  {
   "cell_type": "code",
   "execution_count": 149,
   "id": "1fd311cb",
   "metadata": {},
   "outputs": [
    {
     "name": "stdout",
     "output_type": "stream",
     "text": [
      "(base) (base) "
     ]
    },
    {
     "ename": "",
     "evalue": "1",
     "output_type": "error",
     "traceback": []
    }
   ],
   "source": [
    "cd /home/jovyan/training_bacterial_comparative_genomics/jupyter/circos\n",
    "cp -rf ../../data/circos2.conf circos2.conf"
   ]
  },
  {
   "cell_type": "markdown",
   "id": "77784a9b",
   "metadata": {},
   "source": [
    "Edit the Circos configuration file to add informations about links\n",
    "```\n",
    "<links>\n",
    "\n",
    "<link>\n",
    "file          = /home/adereeper/Trainings_Bacterial_genomics/links.txt\n",
    "stroke_color     = vdgrey\n",
    "stroke_thickness = 2\n",
    "color            = grey_a3\n",
    "radius        = 0.95r\n",
    "bezier_radius = 0.1r\n",
    "thickness     = 2\n",
    "ribbon        = yes\n",
    "</link>\n",
    "\n",
    "<link>\n",
    "file          = /home/adereeper/Trainings_Bacterial_genomics/links_inverted.txt\n",
    "stroke_color     = vdblue\n",
    "stroke_thickness = 2\n",
    "color            = blue_a3\n",
    "radius        = 0.95r\n",
    "bezier_radius = 0.1r\n",
    "thickness     = 2\n",
    "ribbon        = yes\n",
    "</link>\n",
    "\n",
    "</links>\n",
    "```"
   ]
  },
  {
   "cell_type": "markdown",
   "id": "2839fca2",
   "metadata": {},
   "source": [
    "Edit a karyotype file with the two genomes and their size"
   ]
  },
  {
   "cell_type": "markdown",
   "id": "0e5a26f2",
   "metadata": {},
   "source": [
    "Make one of the genome in the opposite way by entering this line in the Circos configuration file\n",
    "\n",
    "chromosomes_reverse = CP031697.1"
   ]
  },
  {
   "cell_type": "code",
   "execution_count": 150,
   "id": "80fe72e2",
   "metadata": {},
   "outputs": [
    {
     "name": "stdout",
     "output_type": "stream",
     "text": [
      "debug: using configuration file input circos2.conf\n",
      "debuglib: using configuration input circos2.conf\n",
      "debuglib: loading configuration from file circos2.conf\n",
      "debugload: using file from argument circos2.conf\n",
      "debugfile: looking for configuration file circos2.conf\n",
      "debugfile: found configuration file circos2.conf\n",
      "Config::General The file \"etc/image.conf\" does not exist within ConfigPath: /home/jovyan/training_bacterial_comparative_genomics/jupyter/circos/bin/etc./home/jovyan/training_bacterial_comparative_genomics/jupyter/circos/bin/../etc./home/jovyan/training_bacterial_comparative_genomics/jupyter/circos/bin/.../home/jovyan/training_bacterial_comparative_genomics/jupyter/circos/bin.../home/jovyan/training_bacterial_comparative_genomics/jupyter/circos/bin/../.! at /home/jovyan/training_bacterial_comparative_genomics/jupyter/circos/bin/../lib/Circos.pm line 9135.\n",
      "(base) "
     ]
    },
    {
     "ename": "",
     "evalue": "1",
     "output_type": "error",
     "traceback": []
    }
   ],
   "source": [
    "bin/circos -conf circos2.conf"
   ]
  },
  {
   "cell_type": "code",
   "execution_count": 29,
   "id": "749656fd",
   "metadata": {},
   "outputs": [
    {
     "name": "stdout",
     "output_type": "stream",
     "text": [
      "cp -rf circos.svg circos2.svg\n",
      "(base) "
     ]
    },
    {
     "ename": "",
     "evalue": "1",
     "output_type": "error",
     "traceback": []
    }
   ],
   "source": [
    "cp -rf circos.svg circos2.svg"
   ]
  },
  {
   "cell_type": "markdown",
   "id": "dca3efa5",
   "metadata": {},
   "source": [
    "<img src=\"Trainings_Bacterial_genomics/circos2.svg\" align=\"center\" width=\"70%\" style=\"display: block; margin: auto;\"/>"
   ]
  },
  {
   "cell_type": "markdown",
   "id": "677d120a",
   "metadata": {},
   "source": [
    "#### Compare oryzae and oryzicola"
   ]
  },
  {
   "cell_type": "code",
   "execution_count": 33,
   "id": "96d910ae",
   "metadata": {},
   "outputs": [
    {
     "name": "stdout",
     "output_type": "stream",
     "text": [
      "<082v1_genomic.fna GCA_001929235.2_ASM192923v2_genom                        ic.fna -o minimap2.pafeno\n",
      "[M::mm_idx_gen::0.225*0.85] collected minimizers\n",
      "[M::mm_idx_gen::0.273*1.21] sorted minimizers\n",
      "[M::main::0.273*1.21] loaded/built the index for 1 target sequence(s)\n",
      "[M::mm_mapopt_update::0.288*1.20] mid_occ = 74\n",
      "[M::mm_idx_stat] kmer size: 15; skip: 10; is_hpc: 0; #seq: 1\n",
      "[M::mm_idx_stat::0.299*1.19] distinct minimizers: 801992 (93.39% are singletons); average occurrences: 1.182; average spacing: 5.360; total length: 5080102\n",
      "[M::worker_pipeline::10.114*1.01] mapped 1 sequences\n",
      "[M::main] Version: 2.24-r1122\n",
      "[M::main] CMD: minimap2 -o minimap2.paf GCA_000940825.1_ASM94082v1_genomic.fna GCA_001929235.2_ASM192923v2_genomic.fna\n",
      "[M::main] Real time: 10.145 sec; CPU: 10.203 sec; Peak RSS: 0.225 GB\n",
      "(base) "
     ]
    },
    {
     "ename": "",
     "evalue": "1",
     "output_type": "error",
     "traceback": []
    }
   ],
   "source": [
    "minimap2 GCA_000940825.1_ASM94082v1_genomic.fna GCA_001929235.2_ASM192923v2_genomic.fna -o minimap2.paf"
   ]
  },
  {
   "cell_type": "code",
   "execution_count": 34,
   "id": "9596ef5c",
   "metadata": {},
   "outputs": [
    {
     "name": "stdout",
     "output_type": "stream",
     "text": [
      "<==\"+\")print $1\" \"$3\" \"$4\" \"$6\" \"$8\" \"$9'} minimap2.                        paf >links.txt'} minimap2\n",
      "<==\"-\")print $1\" \"$3\" \"$4\" \"$6\" \"$9\" \"$8'} minimap2.                        paf >links_inverted.txtp2\n",
      "(base) "
     ]
    },
    {
     "ename": "",
     "evalue": "1",
     "output_type": "error",
     "traceback": []
    }
   ],
   "source": [
    "awk {'if (($4-$3)>100000 && $5==\"+\")print $1\" \"$3\" \"$4\" \"$6\" \"$8\" \"$9'} minimap2.paf >links.txt\n",
    "awk {'if (($4-$3)>100000 && $5==\"-\")print $1\" \"$3\" \"$4\" \"$6\" \"$9\" \"$8'} minimap2.paf >links_inverted.txt"
   ]
  },
  {
   "cell_type": "code",
   "execution_count": 35,
   "id": "c737bf48",
   "metadata": {},
   "outputs": [
    {
     "name": "stdout",
     "output_type": "stream",
     "text": [
      "circos -conf link_circos.conf\n",
      "debuggroup summary 0.22s welcome to circos v0.69-6 31 July 2017 on Perl 5.024000\n",
      "debuggroup summary 0.22s current working directory /home/adereeper/Trainings_Bacterial_genomics\n",
      "debuggroup summary 0.22s command /usr/local/circos-0.69-6/bin/circos -conf link_circos.conf\n",
      "debuggroup summary 0.22s loading configuration from file link_circos.conf\n",
      "Use of uninitialized value in subroutine entry at /usr/local/circos-0.69-6/bin/../lib/Circos/Configuration.pm line 781.\n",
      "debuggroup summary 0.22s found conf file link_circos.conf\n",
      "debuggroup summary 0.39s debug will appear for these features: output,summary\n",
      "debuggroup summary 0.39s bitmap output image ./circos.png\n",
      "debuggroup summary 0.39s SVG output image ./circos.svg\n",
      "debuggroup summary 0.40s parsing karyotype and organizing ideograms\n",
      "debuggroup summary 0.40s karyotype has 2 chromosomes of total size 10,173,156\n",
      "debuggroup summary 0.40s applying global and local scaling\n",
      "debuggroup summary 0.40s allocating image, colors and brushes\n",
      "debuggroup summary 2.78s drawing 2 ideograms of total size 10,173,156\n",
      "debuggroup summary 2.78s drawing highlights and ideograms\n",
      "Use of uninitialized value in subroutine entry at /usr/local/circos-0.69-6/bin/../lib/Circos/Configuration.pm line 781.\n",
      "debuggroup summary 3.24s found conf file /usr/local/circos-0.69-6/bin/../etc/tracks/link.conf\n",
      "Use of uninitialized value in subroutine entry at /usr/local/circos-0.69-6/bin/../lib/Circos/Configuration.pm line 781.\n",
      "debuggroup summary 3.24s found conf file /usr/local/circos-0.69-6/bin/../etc/tracks/link.conf\n",
      "debuggroup summary 3.24s process track_0 link /home/adereeper/Trainings_Bacterial_genomics/links.txt\n",
      "debuggroup summary 3.24s process track_1 link /home/adereeper/Trainings_Bacterial_genomics/links_inverted.txt\n",
      "debuggroup summary 3.25s drawing link track_0 z 0\n",
      "debuggroup summary 3.28s drawing link track_1 z 0\n",
      "debuggroup output 3.29s generating output\n",
      "debuggroup output 3.77s created PNG image ./circos.png (422 kb)\n",
      "debuggroup output 3.77s created SVG image ./circos.svg (159 kb)\n",
      "(base) "
     ]
    },
    {
     "ename": "",
     "evalue": "1",
     "output_type": "error",
     "traceback": []
    }
   ],
   "source": [
    "circos -conf link_circos.conf"
   ]
  },
  {
   "cell_type": "code",
   "execution_count": 36,
   "id": "65f94a9f",
   "metadata": {},
   "outputs": [
    {
     "name": "stdout",
     "output_type": "stream",
     "text": [
      "cp -rf circos.svg circos3.svg\n",
      "(base) "
     ]
    },
    {
     "ename": "",
     "evalue": "1",
     "output_type": "error",
     "traceback": []
    }
   ],
   "source": [
    "cp -rf circos.svg circos3.svg"
   ]
  },
  {
   "cell_type": "markdown",
   "id": "7a2c43ff",
   "metadata": {},
   "source": [
    "<img src=\"Trainings_Bacterial_genomics/circos3.svg\" align=\"center\" width=\"70%\" style=\"display: block; margin: auto;\"/>"
   ]
  },
  {
   "cell_type": "markdown",
   "id": "330f6681",
   "metadata": {},
   "source": [
    "## Compare genome similarity using Average Nucleotide Identity (ANI) (fastANI)"
   ]
  },
  {
   "cell_type": "code",
   "execution_count": 32,
   "id": "79740732",
   "metadata": {},
   "outputs": [],
   "source": [
    "ls GCA_00*fna >list_genomes.txt"
   ]
  },
  {
   "cell_type": "code",
   "execution_count": 33,
   "id": "18d6961a",
   "metadata": {},
   "outputs": [
    {
     "name": "stdout",
     "output_type": "stream",
     "text": [
      ">>>>>>>>>>>>>>>>>>\n",
      "Reference = [GCA_000940825.1_ASM94082v1_genomic.fna, GCA_001021915.1_ASM102191v1_genomic.fna, GCA_001929235.2_ASM192923v2_genomic.fna, GCA_004136375.1_ASM413637v1_genomic.fna]\n",
      "Query = [GCA_000940825.1_ASM94082v1_genomic.fna, GCA_001021915.1_ASM102191v1_genomic.fna, GCA_001929235.2_ASM192923v2_genomic.fna, GCA_004136375.1_ASM413637v1_genomic.fna]\n",
      "Kmer size = 16\n",
      "Fragment length = 3000\n",
      "Threads = 1\n",
      "ANI output file = fastani.out\n",
      ">>>>>>>>>>>>>>>>>>\n",
      "INFO [thread 0], skch::main, Count of threads executing parallel_for : 1\n",
      "INFO [thread 0], skch::Sketch::build, window size for minimizer sampling  = 24\n",
      "INFO [thread 0], skch::Sketch::build, minimizers picked from reference = 1572160\n",
      "INFO [thread 0], skch::Sketch::index, unique minimizers = 504251\n",
      "INFO [thread 0], skch::Sketch::computeFreqHist, Frequency histogram of minimizers = (1, 75036) ... (898, 1)\n",
      "INFO [thread 0], skch::Sketch::computeFreqHist, consider all minimizers during lookup.\n",
      "INFO [thread 0], skch::main, Time spent sketching the reference : 2.08164 sec\n",
      "INFO [thread 0], skch::main, Time spent mapping fragments in query #1 : 19.5462 sec\n",
      "INFO [thread 0], skch::main, Time spent post mapping : 0.0133776 sec\n",
      "INFO [thread 0], skch::main, Time spent mapping fragments in query #2 : 8.46709 sec\n",
      "INFO [thread 0], skch::main, Time spent post mapping : 0.00859482 sec\n",
      "INFO [thread 0], skch::main, Time spent mapping fragments in query #3 : 25.2181 sec\n",
      "INFO [thread 0], skch::main, Time spent post mapping : 0.0224635 sec\n",
      "INFO [thread 0], skch::main, Time spent mapping fragments in query #4 : 27.5517 sec\n",
      "INFO [thread 0], skch::main, Time spent post mapping : 0.0188745 sec\n",
      "INFO [thread 0], skch::main, ready to exit the loop\n",
      "INFO, skch::main, parallel_for execution finished\n"
     ]
    }
   ],
   "source": [
    "fastANI --rl list_genomes.txt --ql list_genomes.txt -o fastani.out --matrix"
   ]
  },
  {
   "cell_type": "markdown",
   "id": "7028c83f",
   "metadata": {},
   "source": [
    "##### Check that genomes are closer within the same pathovar than between pathovars.\n",
    "\n",
    "##### Which are the closest genomes?"
   ]
  },
  {
   "cell_type": "code",
   "execution_count": 36,
   "id": "6fb2a877-8425-42cb-a437-f0f06c95c8bb",
   "metadata": {},
   "outputs": [
    {
     "name": "stdout",
     "output_type": "stream",
     "text": [
      "4\n",
      "GCA_000940825.1_ASM94082v1_genomic.fna\n",
      "GCA_001021915.1_ASM102191v1_genomic.fna\t99.149597\n",
      "GCA_001929235.2_ASM192923v2_genomic.fna\t97.226959\t97.219826\n",
      "GCA_004136375.1_ASM413637v1_genomic.fna\t97.313660\t97.230530\t99.582520\n",
      "/home/jovyan/training_bacterial_comparative_genomics/jupyter\n"
     ]
    }
   ],
   "source": [
    "more fastani.out.matrix\n",
    "pwd"
   ]
  },
  {
   "cell_type": "code",
   "execution_count": 151,
   "id": "f04d6d2a-2908-4439-bc95-9ff22ea82367",
   "metadata": {},
   "outputs": [
    {
     "name": "stdout",
     "output_type": "stream",
     "text": [
      "tail: cannot open 'fastani.out.matrix' for reading: No such file or directory\n",
      "(base) "
     ]
    },
    {
     "ename": "",
     "evalue": "1",
     "output_type": "error",
     "traceback": []
    }
   ],
   "source": [
    "tail -3 fastani.out.matrix >test_matrix.csv"
   ]
  },
  {
   "cell_type": "code",
   "execution_count": 44,
   "id": "1fa403af-a9eb-4b59-a73e-1d00a3e01128",
   "metadata": {},
   "outputs": [
    {
     "name": "stdout",
     "output_type": "stream",
     "text": [
      "Loading required package: plotly\n",
      "Loading required package: ggplot2\n",
      "\n",
      "Attaching package: ‘plotly’\n",
      "\n",
      "The following object is masked from ‘package:ggplot2’:\n",
      "\n",
      "    last_plot\n",
      "\n",
      "The following object is masked from ‘package:stats’:\n",
      "\n",
      "    filter\n",
      "\n",
      "The following object is masked from ‘package:graphics’:\n",
      "\n",
      "    layout\n",
      "\n",
      "Loading required package: viridis\n",
      "Loading required package: viridisLite\n",
      "\n",
      "======================\n",
      "Welcome to heatmaply version 1.3.0\n",
      "\n",
      "Type citation('heatmaply') for how to cite the package.\n",
      "Type ?heatmaply for the main documentation.\n",
      "\n",
      "The github page is: https://github.com/talgalili/heatmaply/\n",
      "Please submit your suggestions and bug-reports at: https://github.com/talgalili/heatmaply/issues\n",
      "You may ask questions at stackoverflow, use the r and heatmaply tags: \n",
      "\t https://stackoverflow.com/questions/tagged/heatmaply\n",
      "======================\n",
      "\n",
      "\u001b[?25h\u001b[?25h\u001b[?25h\u001b[?25h\u001b[?25h\u001b[?25h\u001b[?25h\u001b[?25h\u001b[?25h"
     ]
    }
   ],
   "source": [
    "Rscript ../heatmaply.R -f /home/jovyan/training_bacterial_comparative_genomics/jupyter/test_matrix.csv -o out.svg"
   ]
  },
  {
   "cell_type": "code",
   "execution_count": 2,
   "id": "be1a54a5",
   "metadata": {},
   "outputs": [
    {
     "ename": "ModuleNotFoundError",
     "evalue": "No module named 'numpy'",
     "output_type": "error",
     "traceback": [
      "\u001b[0;31m---------------------------------------------------------------------------\u001b[0m",
      "\u001b[0;31mModuleNotFoundError\u001b[0m                       Traceback (most recent call last)",
      "\u001b[0;32m/tmp/ipykernel_29689/3129590059.py\u001b[0m in \u001b[0;36m<module>\u001b[0;34m\u001b[0m\n\u001b[1;32m      1\u001b[0m \u001b[0;31m#import matplotlib.pyplot as plt\u001b[0m\u001b[0;34m\u001b[0m\u001b[0;34m\u001b[0m\u001b[0m\n\u001b[0;32m----> 2\u001b[0;31m \u001b[0;32mimport\u001b[0m \u001b[0mnumpy\u001b[0m \u001b[0;32mas\u001b[0m \u001b[0mnp\u001b[0m\u001b[0;34m\u001b[0m\u001b[0;34m\u001b[0m\u001b[0m\n\u001b[0m\u001b[1;32m      3\u001b[0m \u001b[0;34m\u001b[0m\u001b[0m\n\u001b[1;32m      4\u001b[0m \u001b[0ma\u001b[0m \u001b[0;34m=\u001b[0m \u001b[0mnp\u001b[0m\u001b[0;34m.\u001b[0m\u001b[0mrandom\u001b[0m\u001b[0;34m.\u001b[0m\u001b[0mrandom\u001b[0m\u001b[0;34m(\u001b[0m\u001b[0;34m(\u001b[0m\u001b[0;36m16\u001b[0m\u001b[0;34m,\u001b[0m \u001b[0;36m16\u001b[0m\u001b[0;34m)\u001b[0m\u001b[0;34m)\u001b[0m\u001b[0;34m\u001b[0m\u001b[0;34m\u001b[0m\u001b[0m\n\u001b[1;32m      5\u001b[0m \u001b[0mplt\u001b[0m\u001b[0;34m.\u001b[0m\u001b[0mimshow\u001b[0m\u001b[0;34m(\u001b[0m\u001b[0ma\u001b[0m\u001b[0;34m,\u001b[0m \u001b[0mcmap\u001b[0m\u001b[0;34m=\u001b[0m\u001b[0;34m'hot'\u001b[0m\u001b[0;34m,\u001b[0m \u001b[0minterpolation\u001b[0m\u001b[0;34m=\u001b[0m\u001b[0;34m'nearest'\u001b[0m\u001b[0;34m)\u001b[0m\u001b[0;34m\u001b[0m\u001b[0;34m\u001b[0m\u001b[0m\n",
      "\u001b[0;31mModuleNotFoundError\u001b[0m: No module named 'numpy'"
     ]
    }
   ],
   "source": [
    "\n",
    "#import matplotlib.pyplot as plt\n",
    "import numpy as np\n",
    "\n",
    "a = np.random.random((16, 16))\n",
    "plt.imshow(a, cmap='hot', interpolation='nearest')\n",
    "plt.show()"
   ]
  },
  {
   "cell_type": "markdown",
   "id": "700159ea",
   "metadata": {},
   "source": [
    "## Gene content comparison / Pangenome analysis (using Roary)"
   ]
  },
  {
   "cell_type": "code",
   "execution_count": 129,
   "id": "46557b5f",
   "metadata": {},
   "outputs": [
    {
     "name": "stdout",
     "output_type": "stream",
     "text": [
      "(base) Use of uninitialized value in require at /usr/lib/x86_64-linux-gnu/perl5/5.30/Encode.pm line 70.\n",
      "\n",
      "Please cite Roary if you use any of the results it produces:\n",
      "    Andrew J. Page, Carla A. Cummins, Martin Hunt, Vanessa K. Wong, Sandra Reuter, Matthew T. G. Holden, Maria Fookes, Daniel Falush, Jacqueline A. Keane, Julian Parkhill,\n",
      "\t\"Roary: Rapid large-scale prokaryote pan genome analysis\", Bioinformatics, 2015 Nov 15;31(22):3691-3693\n",
      "    doi: http://doi.org/10.1093/bioinformatics/btv421\n",
      "\tPubmed: 26198102\n",
      "\n",
      "2022/06/13 08:51:34 Input file contains duplicate gene IDs, attempting to fix by adding a unique suffix, new GFF in the fixed_input_files directory: /home/jovyan/training_bacterial_comparative_genomics/jupyter/annotations/Xoo_GCA_001929235.gbff.gz.gff \n",
      "2022/06/13 08:51:36 Input file contains duplicate gene IDs, attempting to fix by adding a unique suffix, new GFF in the fixed_input_files directory: /home/jovyan/training_bacterial_comparative_genomics/jupyter/annotations/Xoo_GCA_004136375.gbff.gz.gff \n",
      "2022/06/13 08:51:38 Input file contains duplicate gene IDs, attempting to fix by adding a unique suffix, new GFF in the fixed_input_files directory: /home/jovyan/training_bacterial_comparative_genomics/jupyter/annotations/Xoo_GCA_004355825.gbff.gz.gff \n",
      "Use of uninitialized value in require at /usr/lib/x86_64-linux-gnu/perl5/5.30/Encode.pm line 70.\n",
      "(base) "
     ]
    },
    {
     "ename": "",
     "evalue": "1",
     "output_type": "error",
     "traceback": []
    }
   ],
   "source": [
    "rm -rf roary_out\n",
    "roary -f roary_out annotations/*gff"
   ]
  },
  {
   "cell_type": "code",
   "execution_count": 130,
   "id": "4ad0e13e",
   "metadata": {},
   "outputs": [
    {
     "name": "stdout",
     "output_type": "stream",
     "text": [
      "\"Gene\",\"Non-unique Gene name\",\"Annotation\",\"No. isolates\",\"No. sequences\",\"Avg sequences per isolate\",\"Genome Fragment\",\"Order within Fragment\",\"Accessory Fragment\",\"Accessory Order with Fragment\",\"QC\",\"Min group size nuc\",\"Max group size nuc\",\"Avg group size nuc\",\"Xoc_GCA_000940825.gbff.gz\",\"Xoc_GCA_001021915.gbff.gz\",\"Xoc_GCA_001042835.gbff.gz\",\"Xoo_GCA_001929235.gbff.gz\",\"Xoo_GCA_004136375.gbff.gz\",\"Xoo_GCA_004355825.gbff.gz\"\n",
      "\"IXO1088_008755\",\"\",\"response regulator\",\"6\",\"6\",\"1\",\"1\",\"1683\",\"\",\"\",\"\",\"404\",\"404\",\"404\",\"BE73_06245.p01\",\"FE36_14125.p01\",\"ACU17_06495.p01\",\"10bd397a0f88aca11976f4a4f6631125_6321\",\"4e95a45ca635958849417c3d368d746d_7522\",\"cc532a0030968c6887cea9dec5a101c0_11970\"\n",
      "\"IXO1088_008760\",\"\",\"hypothetical protein\",\"6\",\"6\",\"1\",\"1\",\"1682\",\"\",\"\",\"\",\"497\",\"497\",\"497\",\"BE73_06250.p01\",\"FE36_14120.p01\",\"ACU17_06500.p01\",\"10bd397a0f88aca11976f4a4f6631125_6325\",\"4e95a45ca635958849417c3d368d746d_7526\",\"cc532a0030968c6887cea9dec5a101c0_11966\"\n",
      "\"EBA21_16420\",\"\",\"hypothetical protein\",\"6\",\"6\",\"1\",\"1\",\"1673\",\"\",\"\",\"\",\"512\",\"512\",\"512\",\"BE73_06290.p01\",\"FE36_14080.p01\",\"ACU17_06540.p01\",\"10bd397a0f88aca11976f4a4f6631125_6351\",\"4e95a45ca635958849417c3d368d746d_7554\",\"cc532a0030968c6887cea9dec5a101c0_11934\"\n",
      "\"pqqD\",\"\",\"pyrroloquinoline quinone biosynthesis peptide chaperone PqqD\",\"6\",\"6\",\"1\",\"1\",\"1671\",\"\",\"\",\"\",\"278\",\"278\",\"278\",\"BE73_06300.p01\",\"FE36_14070.p01\",\"ACU17_06550.p01\",\"10bd397a0f88aca11976f4a4f6631125_6359\",\"4e95a45ca635958849417c3d368d746d_7562\",\"cc532a0030968c6887cea9dec5a101c0_11926\"\n",
      "\"pqqB\",\"\",\"pyrroloquinoline quinone biosynthesis protein PqqB\",\"6\",\"6\",\"1\",\"1\",\"1669\",\"\",\"\",\"\",\"899\",\"899\",\"899\",\"BE73_06310.p01\",\"FE36_14060.p01\",\"ACU17_06560.p01\",\"10bd397a0f88aca11976f4a4f6631125_6367\",\"4e95a45ca635958849417c3d368d746d_7570\",\"cc532a0030968c6887cea9dec5a101c0_11918\"\n",
      "\"DZA53_10525\",\"\",\"hypothetical protein\",\"6\",\"6\",\"1\",\"1\",\"1664\",\"\",\"\",\"\",\"524\",\"524\",\"524\",\"BE73_06335.p01\",\"FE36_14035.p01\",\"ACU17_06585.p01\",\"10bd397a0f88aca11976f4a4f6631125_6391\",\"4e95a45ca635958849417c3d368d746d_7594\",\"cc532a0030968c6887cea9dec5a101c0_11894\"\n",
      "\"DZA53_10545\",\"\",\"energy transducer TonB\",\"6\",\"6\",\"1\",\"1\",\"1661\",\"\",\"\",\"\",\"875\",\"875\",\"875\",\"BE73_06355.p01\",\"FE36_14015.p01\",\"ACU17_06605.p01\",\"10bd397a0f88aca11976f4a4f6631125_6407\",\"4e95a45ca635958849417c3d368d746d_7610\",\"cc532a0030968c6887cea9dec5a101c0_11878\"\n",
      "\"DZA53_10580\",\"\",\"chemotaxis protein\",\"6\",\"6\",\"1\",\"1\",\"1654\",\"\",\"\",\"\",\"1202\",\"1208\",\"1205\",\"BE73_06390.p01\",\"FE36_13980.p01\",\"ACU17_06640.p01\",\"10bd397a0f88aca11976f4a4f6631125_6435\",\"4e95a45ca635958849417c3d368d746d_7638\",\"cc532a0030968c6887cea9dec5a101c0_11850\"\n",
      "\"ACU17_06675\",\"\",\"copper homeostasis protein CutC\",\"6\",\"6\",\"1\",\"1\",\"1646\",\"\",\"\",\"\",\"731\",\"731\",\"731\",\"BE73_06425.p01\",\"FE36_13950.p01\",\"ACU17_06675.p01\",\"10bd397a0f88aca11976f4a4f6631125_6467\",\"4e95a45ca635958849417c3d368d746d_7672\",\"cc532a0030968c6887cea9dec5a101c0_11818\"\n",
      "(base) "
     ]
    },
    {
     "ename": "",
     "evalue": "1",
     "output_type": "error",
     "traceback": []
    }
   ],
   "source": [
    "head -10 roary_out/gene_presence_absence.csv"
   ]
  },
  {
   "cell_type": "code",
   "execution_count": 131,
   "id": "29369ddf",
   "metadata": {},
   "outputs": [
    {
     "name": "stdout",
     "output_type": "stream",
     "text": [
      "Core genes\t(99% <= strains <= 100%)\t2565\n",
      "Soft core genes\t(95% <= strains < 99%)\t0\n",
      "Shell genes\t(15% <= strains < 95%)\t3763\n",
      "Cloud genes\t(0% <= strains < 15%)\t0\n",
      "Total genes\t(0% <= strains <= 100%)\t6328\n",
      "(base) "
     ]
    },
    {
     "ename": "",
     "evalue": "1",
     "output_type": "error",
     "traceback": []
    }
   ],
   "source": [
    "more roary_out/summary_statistics.txt"
   ]
  },
  {
   "cell_type": "code",
   "execution_count": 92,
   "id": "60863f5b-029e-432f-93bf-2a23952da29a",
   "metadata": {},
   "outputs": [
    {
     "name": "stdout",
     "output_type": "stream",
     "text": [
      "Cloning into 'Roary'...\n",
      "remote: Enumerating objects: 7454, done.\u001b[K\n",
      "remote: Counting objects: 100% (5/5), done.\u001b[K\n",
      "remote: Compressing objects: 100% (5/5), done.\u001b[K\n",
      "remote: Total 7454 (delta 0), reused 1 (delta 0), pack-reused 7449\u001b[K\n",
      "Receiving objects: 100% (7454/7454), 18.12 MiB | 6.84 MiB/s, done.\n",
      "Resolving deltas: 100% (4181/4181), done.\n",
      "(base) "
     ]
    },
    {
     "ename": "",
     "evalue": "1",
     "output_type": "error",
     "traceback": []
    }
   ],
   "source": [
    "git clone https://github.com/sanger-pathogens/Roary.git"
   ]
  },
  {
   "cell_type": "code",
   "execution_count": 132,
   "id": "1b15cf86",
   "metadata": {},
   "outputs": [
    {
     "name": "stdout",
     "output_type": "stream",
     "text": [
      "(base) "
     ]
    },
    {
     "ename": "",
     "evalue": "1",
     "output_type": "error",
     "traceback": []
    }
   ],
   "source": [
    "python Roary/contrib/roary_plots/roary_plots.py roary_out/accessory_binary_genes.fa.newick roary_out/gene_presence_absence.csv"
   ]
  },
  {
   "cell_type": "code",
   "execution_count": null,
   "id": "898fb5ef-17ec-4cdd-b4e6-d0302e37b235",
   "metadata": {},
   "outputs": [],
   "source": [
    "query_pan_genome -g roary_out/clustered_proteins -a difference --input_set_one annotations/Xoc_GCA_000940825.gbff.gz.gff,annotations/Xoc_GCA_001021915.gbff.gz.gff,annotations/Xoc_GCA_001021915.gbff.gz.gff --input_set_two annotations/Xoo_GCA_001929235.gbff.gz.gff,annotations/Xoo_GCA_004136375.gbff.gz.gff,annotations/Xoo_GCA_004355825.gbff.gz.gff"
   ]
  },
  {
   "cell_type": "markdown",
   "id": "269e09d7",
   "metadata": {},
   "source": [
    "<img src=\"../images/pangenome_pie.png\" align=\"center\" width=\"30%\" style=\"display: block; margin: auto;\"/>"
   ]
  },
  {
   "cell_type": "markdown",
   "id": "45cb9587",
   "metadata": {},
   "source": [
    "<img src=\"../images/pangenome_matrix.png\" align=\"center\" width=\"50%\"/>"
   ]
  },
  {
   "cell_type": "markdown",
   "id": "080a453c",
   "metadata": {},
   "source": [
    "## Association tests with metadata (Pan-GWAS)"
   ]
  },
  {
   "cell_type": "code",
   "execution_count": 118,
   "id": "0f270b5b",
   "metadata": {},
   "outputs": [
    {
     "name": "stdout",
     "output_type": "stream",
     "text": [
      "(base) (base) "
     ]
    },
    {
     "ename": "",
     "evalue": "1",
     "output_type": "error",
     "traceback": []
    }
   ],
   "source": [
    "cp -rf ../data/pangenome_100xantho ./\n",
    "cd pangenome_100xantho"
   ]
  },
  {
   "cell_type": "code",
   "execution_count": 119,
   "id": "7680d495",
   "metadata": {},
   "outputs": [
    {
     "name": "stdout",
     "output_type": "stream",
     "text": [
      "==== Scoary started ====\n",
      "Command: /usr/bin/scoary -t traits.txt -g gene_presence_absence.csv\n",
      "Reading gene presence absence file\n",
      "Creating Hamming distance matrix based on gene presence/absence\n",
      "Building UPGMA tree from distance matrix\n",
      "Reading traits file\n",
      "ERROR: Some isolates in your gene presence absence file were not represented in your traits file. These will count as MISSING data and will not be included.\n",
      "Finished loading files into memory.\n",
      "\n",
      "\n",
      "==== Performing statistics ====\n",
      "-- Filtration options --\n",
      "Individual (Naive):    0.05\n",
      "Collapse genes:    False\n",
      "\n",
      "\n",
      "Tallying genes and performing statistical analyses\n",
      "Gene-wise counting and Fisher's exact tests for trait: pathovar\n",
      "100.00%\n",
      "Adding p-values adjusted for testing multiple hypotheses\n",
      "\n",
      "Storing results: pathovar\n",
      "Calculating max number of contrasting pairs for each nominally significant gene\n",
      "100.00%\n",
      "Storing results to file\n",
      "\n",
      "\n",
      "==== Finished ====\n",
      "Checked a total of 13554 genes for associations to 1 trait(s). Total time used: 24 seconds.\n",
      "Scoary finished successfully, but with ERRORS. Please check your log file.\n",
      "(base) "
     ]
    },
    {
     "ename": "",
     "evalue": "1",
     "output_type": "error",
     "traceback": []
    }
   ],
   "source": [
    "scoary -t traits.txt -g gene_presence_absence.csv"
   ]
  },
  {
   "cell_type": "markdown",
   "id": "bacf1ba8",
   "metadata": {},
   "source": [
    "#### How many clusters are specifically present in pathovar oryzae (absent in oryzicola)"
   ]
  },
  {
   "cell_type": "code",
   "execution_count": 120,
   "id": "ab0b15d0",
   "metadata": {},
   "outputs": [
    {
     "name": "stdout",
     "output_type": "stream",
     "text": [
      "28\n",
      "(base) "
     ]
    },
    {
     "ename": "",
     "evalue": "1",
     "output_type": "error",
     "traceback": []
    }
   ],
   "source": [
    "awk -F \"\\\",\\\"\" {'if ($4==0 && $5==75)print $_'} pathovar_*.results.csv | wc -l"
   ]
  },
  {
   "cell_type": "markdown",
   "id": "8193e46e",
   "metadata": {},
   "source": [
    "#### How many clusters are specifically present in pathovar oryzicola (absent in oryzae)"
   ]
  },
  {
   "cell_type": "code",
   "execution_count": 121,
   "id": "cd004b86",
   "metadata": {},
   "outputs": [
    {
     "name": "stdout",
     "output_type": "stream",
     "text": [
      "110\n",
      "(base) "
     ]
    },
    {
     "ename": "",
     "evalue": "1",
     "output_type": "error",
     "traceback": []
    }
   ],
   "source": [
    "awk -F \"\\\",\\\"\" {'if ($4==15 && $5==0)print $_'} pathovar_*.results.csv | wc -l"
   ]
  }
 ],
 "metadata": {
  "kernelspec": {
   "display_name": "Bash",
   "language": "bash",
   "name": "bash"
  },
  "language_info": {
   "codemirror_mode": "shell",
   "file_extension": ".sh",
   "mimetype": "text/x-sh",
   "name": "bash"
  }
 },
 "nbformat": 4,
 "nbformat_minor": 5
}
