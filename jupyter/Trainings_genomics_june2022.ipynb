{
 "cells": [
  {
   "cell_type": "markdown",
   "id": "7aa491d4",
   "metadata": {},
   "source": [
    "## Connect to a calculation node for analysis"
   ]
  },
  {
   "cell_type": "code",
   "execution_count": 1,
   "id": "a361d268",
   "metadata": {},
   "outputs": [
    {
     "name": "stdout",
     "output_type": "stream",
     "text": [
      "(base) "
     ]
    },
    {
     "ename": "",
     "evalue": "1",
     "output_type": "error",
     "traceback": []
    }
   ],
   "source": [
    "srun -p short --pty bash -i"
   ]
  },
  {
   "cell_type": "code",
   "execution_count": 2,
   "id": "ae80abc4",
   "metadata": {},
   "outputs": [
    {
     "name": "stdout",
     "output_type": "stream",
     "text": [
      "hostname\n",
      "node20.alineos.net\n",
      "(base) "
     ]
    },
    {
     "ename": "",
     "evalue": "1",
     "output_type": "error",
     "traceback": []
    }
   ],
   "source": [
    "hostname"
   ]
  },
  {
   "cell_type": "markdown",
   "id": "fa7c7920",
   "metadata": {},
   "source": [
    "## Prepare directory for the analysis"
   ]
  },
  {
   "cell_type": "code",
   "execution_count": 20,
   "id": "efae9c62",
   "metadata": {},
   "outputs": [
    {
     "name": "stdout",
     "output_type": "stream",
     "text": [
      "echo $?\n",
      "0\n",
      "(base) "
     ]
    },
    {
     "ename": "",
     "evalue": "1",
     "output_type": "error",
     "traceback": []
    }
   ],
   "source": [
    "mkdir ~/Trainings_Bacterial_genomics"
   ]
  },
  {
   "cell_type": "code",
   "execution_count": 3,
   "id": "eb7758fe",
   "metadata": {},
   "outputs": [
    {
     "name": "stdout",
     "output_type": "stream",
     "text": [
      "cd ~/Trainings_Bacterial_genomics\n",
      "(base) "
     ]
    },
    {
     "ename": "",
     "evalue": "1",
     "output_type": "error",
     "traceback": []
    }
   ],
   "source": [
    "cd ~/Trainings_Bacterial_genomics"
   ]
  },
  {
   "cell_type": "code",
   "execution_count": 38,
   "id": "9234fd24",
   "metadata": {},
   "outputs": [
    {
     "name": "stdout",
     "output_type": "stream",
     "text": [
      "rm -rf ~/Trainings_Bacterial_genomics/*\n",
      "<rf /data2/formation/Bacterial_genomics/* ~/Training                        s_Bacterial_genomics\n",
      "(base) "
     ]
    },
    {
     "ename": "",
     "evalue": "1",
     "output_type": "error",
     "traceback": []
    }
   ],
   "source": [
    "rm -rf ~/Trainings_Bacterial_genomics/*"
   ]
  },
  {
   "cell_type": "markdown",
   "id": "ef2967b9",
   "metadata": {},
   "source": [
    "## Genome Assembly (from Oxford Nanopore Technologies (ONT) long reads) (using Flye)"
   ]
  },
  {
   "cell_type": "code",
   "execution_count": 4,
   "id": "6128c2c9",
   "metadata": {},
   "outputs": [
    {
     "name": "stdout",
     "output_type": "stream",
     "text": [
      "module load bioinfo/flye/2.9\n",
      "(base) "
     ]
    },
    {
     "ename": "",
     "evalue": "1",
     "output_type": "error",
     "traceback": []
    }
   ],
   "source": [
    "module load bioinfo/flye/2.9"
   ]
  },
  {
   "cell_type": "code",
   "execution_count": 39,
   "id": "93386fd2",
   "metadata": {},
   "outputs": [
    {
     "name": "stdout",
     "output_type": "stream",
     "text": [
      "mkdir assembly\n",
      "(base) "
     ]
    },
    {
     "ename": "",
     "evalue": "1",
     "output_type": "error",
     "traceback": []
    }
   ],
   "source": [
    "mkdir assembly"
   ]
  },
  {
   "cell_type": "code",
   "execution_count": 7,
   "id": "8b050840",
   "metadata": {},
   "outputs": [
    {
     "ename": "",
     "evalue": "127",
     "output_type": "error",
     "traceback": []
    }
   ],
   "source": [
    "flye --nano-raw /data2/formation/Bacterial_genomics/raw_data/CIX4108.sample.fastq -o assembly >>unicycler.log 2>&1"
   ]
  },
  {
   "cell_type": "code",
   "execution_count": 41,
   "id": "c7d55656",
   "metadata": {},
   "outputs": [
    {
     "name": "stdout",
     "output_type": "stream",
     "text": [
      "grep -c \">\" assembly/assembly.fasta\n",
      "3\n",
      "(base) "
     ]
    },
    {
     "ename": "",
     "evalue": "1",
     "output_type": "error",
     "traceback": []
    }
   ],
   "source": [
    "grep -c \">\" assembly/assembly.fasta"
   ]
  },
  {
   "cell_type": "markdown",
   "id": "b849c24d",
   "metadata": {},
   "source": [
    "## Separate chromosomal and plasmid scaffolds (using MOB-Suite)"
   ]
  },
  {
   "cell_type": "code",
   "execution_count": 29,
   "id": "16e8f618",
   "metadata": {
    "scrolled": true
   },
   "outputs": [
    {
     "name": "stdout",
     "output_type": "stream",
     "text": [
      "module load system/singularity/3.6.0\n",
      "(base) "
     ]
    },
    {
     "ename": "",
     "evalue": "1",
     "output_type": "error",
     "traceback": []
    }
   ],
   "source": [
    "module load system/singularity/3.6.0"
   ]
  },
  {
   "cell_type": "code",
   "execution_count": 30,
   "id": "e2e6575f",
   "metadata": {},
   "outputs": [
    {
     "name": "stdout",
     "output_type": "stream",
     "text": [
      "<y_seb.fasta -o assembly_seb.mob_recon >>mob_recon.l                        og 2>&1recon >>mob_recon.\n",
      "(base) "
     ]
    },
    {
     "ename": "",
     "evalue": "1",
     "output_type": "error",
     "traceback": []
    }
   ],
   "source": [
    "singularity exec /data2/formation/Bacterial_genomics/tools/mob_suite_3.0.3.sif mob_recon -i assembly/assembly.fasta -o assembly_seb.mob_recon >>mob_recon.log 2>&1"
   ]
  },
  {
   "cell_type": "code",
   "execution_count": null,
   "id": "718910c7",
   "metadata": {},
   "outputs": [],
   "source": [
    "ls assembly.mob_recon"
   ]
  },
  {
   "cell_type": "code",
   "execution_count": 44,
   "id": "b1085b77",
   "metadata": {},
   "outputs": [
    {
     "name": "stdout",
     "output_type": "stream",
     "text": [
      "more assembly.mob_recon/contig_report.txt\n",
      "sample_id\tmolecule_type\tprimary_cluster_id\tsecondary_cluster_id\tcontig_id\tsize\tgc\tmd5\tcircularity_status\trep_type(s)\trep_type_accession(s)\trelaxase_type(s)\trelaxase_type_accession(s)\tmpf_type\tmpf_type_accession(s)\torit_type(s)\torit_accession(s)\tpredicted_mobility\tmash_nearest_neighbor\tmash_neighbor_distance\tmash_neighbor_identification\trepetitive_dna_id\trepetitive_dna_type\tfiltering_reason\n",
      "assembly\tchromosome\t-\t-\t1\t4641611\t63.66705439124476\t864c3f2a7dcba2f9974176ad1fe41fa2\tnot tested\t-\t-\tMOBP\tNC_007507_00032\t-\t-\t-\t-\t-\t-\t-\t-\t-\t-\t-\n",
      "assembly\tplasmid\tnovel_6b16544b04f85272e8ae0e02880d4665\t-\t2\t125366\t61.611601231593895\ta17133681ebbdd0a98e04cf0bb33a048\tnot tested\trep_cluster_1289\t000607__CP000620_00033\tMOBP\tCP009886_00027\t-\t-\t-\t-\t-\tCP033195\t0.0766828\tXanthomonas oryzae pv. oryzae\t-\t-\t-\n",
      "assembly\tplasmid\tnovel_6b16544b04f85272e8ae0e02880d4665\t-\t3\t78253\t61.84427434091984\t8d19e4b2158e0f49e7cc9531ec069cf5\tnot tested\t-\t-\t-\t-\t-\t-\t-\t-\t-\tCP033195\t0.0766828\tXanthomonas oryzae pv. oryzae\t-\t-\t-\n",
      "(base) "
     ]
    },
    {
     "ename": "",
     "evalue": "1",
     "output_type": "error",
     "traceback": []
    }
   ],
   "source": [
    "more assembly.mob_recon/contig_report.txt"
   ]
  },
  {
   "cell_type": "markdown",
   "id": "c3aac016",
   "metadata": {},
   "source": [
    "## Genome annotation (using Prokka)"
   ]
  },
  {
   "cell_type": "code",
   "execution_count": null,
   "id": "30ed7254",
   "metadata": {},
   "outputs": [],
   "source": [
    "module load bioinfo/prokka/1.13.3"
   ]
  },
  {
   "cell_type": "code",
   "execution_count": 37,
   "id": "70531994",
   "metadata": {},
   "outputs": [
    {
     "name": "stdout",
     "output_type": "stream",
     "text": [
      "<assembly --force --outdir prokka_out >>prokka.log 2                        >&1okka_out >>prokka.log \n",
      "(base) "
     ]
    },
    {
     "ename": "",
     "evalue": "1",
     "output_type": "error",
     "traceback": []
    }
   ],
   "source": [
    "prokka assembly_seb.mob_recon/chromosome.fasta --prefix assembly --force --outdir prokka_out >>prokka.log 2>&1"
   ]
  },
  {
   "cell_type": "code",
   "execution_count": 49,
   "id": "8f708f98",
   "metadata": {},
   "outputs": [
    {
     "name": "stdout",
     "output_type": "stream",
     "text": [
      "head -40 prokka_out/PROKKA*.gbf\n",
      "LOCUS       1                    4641611 bp    DNA     linear       31-MAY-2022\n",
      "DEFINITION  Genus species strain strain.\n",
      "ACCESSION   \n",
      "VERSION\n",
      "KEYWORDS    .\n",
      "SOURCE      Genus species\n",
      "  ORGANISM  Genus species\n",
      "            Unclassified.\n",
      "COMMENT     Annotated using prokka 1.13.3 from\n",
      "            https://github.com/tseemann/prokka.\n",
      "FEATURES             Location/Qualifiers\n",
      "     source          1..4641611\n",
      "                     /organism=\"Genus species\"\n",
      "                     /mol_type=\"genomic DNA\"\n",
      "                     /strain=\"strain\"\n",
      "     CDS             complement(156..548)\n",
      "                     /locus_tag=\"DGCPDMLJ_00001\"\n",
      "                     /inference=\"ab initio prediction:Prodigal:2.6\"\n",
      "                     /codon_start=1\n",
      "                     /transl_table=11\n",
      "                     /product=\"hypothetical protein\"\n",
      "                     /translation=\"MARWASHRSRATSRLINRAAIKQYSQSTPVSCSAGAGGTRWPCI\n",
      "                     RICCVRGGISAIVIGMAVVHGMPHGMVHLLHIGWLWCRWLHVQAMPLHAQPAPGAETA\n",
      "                     IGCASARLISGATTTKSIAKHAHALRQR\"\n",
      "     CDS             1191..2228\n",
      "                     /gene=\"btuB_1\"\n",
      "                     /locus_tag=\"DGCPDMLJ_00002\"\n",
      "                     /inference=\"ab initio prediction:Prodigal:2.6\"\n",
      "                     /inference=\"protein motif:HAMAP:MF_01531\"\n",
      "                     /codon_start=1\n",
      "                     /transl_table=11\n",
      "                     /product=\"Vitamin B12 transporter BtuB\"\n",
      "                     /translation=\"MVAGAMVGNVPGNPAVVTMRGFSGSLLISVTRRRAAGCIDDRSP\n",
      "                     RNLDTVGLERVEVLRGPASVLYGEGALGGAINLVSRKPQPEATSMEGMLGIGSFNTWR\n",
      "                     AGLDVNKPISDTVAVRGFVSRLRSDSLDDTSTATRPTSWRSAVACCGVPTAGCRCCSR\n",
      "                     SNTPKTTVQALSGLANGAGGCRPVAEPPSVSQRQRHGGGRSHSPRELQPAGRDHRGQQ\n",
      "                     RLAALACGSSARQPLVVAELDFSWYQADRDFFYSDNWIYTPATGHLSRTAERISTASA\n",
      "                     SGTNASRCRSTVEARRASQPLHRWNGAQRHRVPQPATDRGDHTGLAARSRYLASSRMG\n",
      "                     SAPTSRGRAIA\"\n",
      "     CDS             2341..2550\n",
      "(base) "
     ]
    },
    {
     "ename": "",
     "evalue": "1",
     "output_type": "error",
     "traceback": []
    }
   ],
   "source": [
    "head -40 prokka_out/assembly.gbf"
   ]
  },
  {
   "cell_type": "code",
   "execution_count": 50,
   "id": "c2c423df",
   "metadata": {},
   "outputs": [
    {
     "name": "stdout",
     "output_type": "stream",
     "text": [
      "head -10 prokka_out/PROKKA*.gff\n",
      "##gff-version 3\n",
      "##sequence-region 1 1 4641611\n",
      "1\tProdigal:2.6\tCDS\t156\t548\t.\t-\t0\tID=DGCPDMLJ_00001;inference=ab initio prediction:Prodigal:2.6;locus_tag=DGCPDMLJ_00001;product=hypothetical protein\n",
      "1\tProdigal:2.6\tCDS\t1191\t2228\t.\t+\t0\tID=DGCPDMLJ_00002;Name=btuB_1;gene=btuB_1;inference=ab initio prediction:Prodigal:2.6,protein motif:HAMAP:MF_01531;locus_tag=DGCPDMLJ_00002;product=Vitamin B12 transporter BtuB\n",
      "1\tProdigal:2.6\tCDS\t2341\t2550\t.\t+\t0\tID=DGCPDMLJ_00003;inference=ab initio prediction:Prodigal:2.6;locus_tag=DGCPDMLJ_00003;product=hypothetical protein\n",
      "1\tProdigal:2.6\tCDS\t3011\t3571\t.\t+\t0\tID=DGCPDMLJ_00004;inference=ab initio prediction:Prodigal:2.6;locus_tag=DGCPDMLJ_00004;product=hypothetical protein\n",
      "1\tProdigal:2.6\tCDS\t3944\t4351\t.\t+\t0\tID=DGCPDMLJ_00005;inference=ab initio prediction:Prodigal:2.6;locus_tag=DGCPDMLJ_00005;product=hypothetical protein\n",
      "1\tProdigal:2.6\tCDS\t4359\t4616\t.\t+\t0\tID=DGCPDMLJ_00006;inference=ab initio prediction:Prodigal:2.6;locus_tag=DGCPDMLJ_00006;product=hypothetical protein\n",
      "1\tProdigal:2.6\tCDS\t5154\t5339\t.\t+\t0\tID=DGCPDMLJ_00007;inference=ab initio prediction:Prodigal:2.6;locus_tag=DGCPDMLJ_00007;product=hypothetical protein\n",
      "1\tProdigal:2.6\tCDS\t5288\t5497\t.\t-\t0\tID=DGCPDMLJ_00008;inference=ab initio prediction:Prodigal:2.6;locus_tag=DGCPDMLJ_00008;product=hypothetical protein\n",
      "(base) "
     ]
    },
    {
     "ename": "",
     "evalue": "1",
     "output_type": "error",
     "traceback": []
    }
   ],
   "source": [
    "head -10 prokka_out/assembly.gff"
   ]
  },
  {
   "cell_type": "code",
   "execution_count": 51,
   "id": "85360eb9",
   "metadata": {},
   "outputs": [
    {
     "name": "stdout",
     "output_type": "stream",
     "text": [
      "grep COG prokka_out/PROKKA*.gff | head -5\n",
      "1\tProdigal:2.6\tCDS\t28224\t28628\t.\t+\t0\tID=DGCPDMLJ_00053;Name=tap_1;db_xref=COG:COG0840;gene=tap_1;inference=ab initio prediction:Prodigal:2.6,similar to AA sequence:UniProtKB:P07018;locus_tag=DGCPDMLJ_00053;product=Methyl-accepting chemotaxis protein IV\n",
      "1\tProdigal:2.6\tCDS\t49807\t50037\t.\t+\t0\tID=DGCPDMLJ_00095;Name=cheW;db_xref=COG:COG0835;gene=cheW;inference=ab initio prediction:Prodigal:2.6,similar to AA sequence:UniProtKB:P0A964;locus_tag=DGCPDMLJ_00095;product=Chemotaxis protein CheW\n",
      "1\tProdigal:2.6\tCDS\t60391\t60714\t.\t-\t0\tID=DGCPDMLJ_00112;eC_number=4.2.1.3;Name=acnB_1;db_xref=COG:COG1049;gene=acnB_1;inference=ab initio prediction:Prodigal:2.6,similar to AA sequence:UniProtKB:Q8ZRS8;locus_tag=DGCPDMLJ_00112;product=Aconitate hydratase B\n",
      "1\tProdigal:2.6\tCDS\t61051\t61416\t.\t-\t0\tID=DGCPDMLJ_00114;eC_number=4.2.1.3;Name=acnB_2;db_xref=COG:COG1049;gene=acnB_2;inference=ab initio prediction:Prodigal:2.6,similar to AA sequence:UniProtKB:Q8ZRS8;locus_tag=DGCPDMLJ_00114;product=Aconitate hydratase B\n",
      "1\tProdigal:2.6\tCDS\t61576\t62154\t.\t-\t0\tID=DGCPDMLJ_00116;eC_number=4.2.1.3;Name=acnB_3;db_xref=COG:COG1049;gene=acnB_3;inference=ab initio prediction:Prodigal:2.6,similar to AA sequence:UniProtKB:P36683;locus_tag=DGCPDMLJ_00116;product=Aconitate hydratase B\n",
      "(base) "
     ]
    },
    {
     "ename": "",
     "evalue": "1",
     "output_type": "error",
     "traceback": []
    }
   ],
   "source": [
    "grep COG prokka_out/assembly.gff | head -5"
   ]
  },
  {
   "cell_type": "code",
   "execution_count": 4,
   "id": "b9a6b04c",
   "metadata": {},
   "outputs": [
    {
     "name": "stdout",
     "output_type": "stream",
     "text": [
      "module load system/python/2.7.10\n",
      "<src/gcskew.py -i assembly/assembly.fasta -o gcskew.                        txtsembly.fasta -o gcskew\n",
      "PROGRAM START TIME: 05-31-2022 11:56:14\n",
      "    Input file: assembly/assembly.fasta\n",
      "    Output: gcskew.txt\n",
      "    Window size (bp): 20000\n",
      "    Frequency (bp): 20000\n",
      ">> Reading sequence file assembly/assembly.fasta\n",
      "\t3 seqs found\n",
      ">> Calculating/Saving GC Skew for 3 seqs\n",
      "\tFinished calculating gc skew for 3 sequences\n",
      "PROGRAM FINISH TIME: 05-31-2022 11:56:15\n",
      "(base) "
     ]
    },
    {
     "ename": "",
     "evalue": "1",
     "output_type": "error",
     "traceback": []
    }
   ],
   "source": [
    "module load system/python/2.7.10\n",
    "python /data2/formation/Bacterial_genomics/tools/SkewIT/src/gcskew.py -i assembly/assembly.fasta -o gcskew.txt -k 5000"
   ]
  },
  {
   "cell_type": "code",
   "execution_count": 5,
   "id": "fc056830",
   "metadata": {},
   "outputs": [
    {
     "name": "stdout",
     "output_type": "stream",
     "text": [
      "head -5 gcskew.txt\n",
      "Sequence\tIndex\tGC Skew (20kb)\n",
      "1\t0\t-0.04238693\n",
      "1\t20000\t-0.01993487\n",
      "1\t40000\t-0.04095728\n",
      "1\t60000\t-0.00981323\n",
      "(base) "
     ]
    },
    {
     "ename": "",
     "evalue": "1",
     "output_type": "error",
     "traceback": []
    }
   ],
   "source": [
    "head -5 gcskew.txt"
   ]
  },
  {
   "cell_type": "code",
   "execution_count": 13,
   "id": "a9f62360",
   "metadata": {},
   "outputs": [
    {
     "name": "stdout",
     "output_type": "stream",
     "text": [
      "<| awk {'print \"Chr \"$2+1\" \"$2+20000\" \"$3'}  >gcskew                        .circos.txt \"$3'}  >gcske\n",
      "(base) "
     ]
    },
    {
     "ename": "",
     "evalue": "1",
     "output_type": "error",
     "traceback": []
    }
   ],
   "source": [
    "grep -v 'Sequence' gcskew.txt | awk {'print \"Chr \"$2+1\" \"$2+5000\" \"$3'}  >gcskew.circos.txt"
   ]
  },
  {
   "cell_type": "code",
   "execution_count": 24,
   "id": "cc2586cc",
   "metadata": {},
   "outputs": [
    {
     "name": "stdout",
     "output_type": "stream",
     "text": [
      "< \"+\")print \"Chr \"$4\" \"$5'} prokka_out/PROKKA*.gff >                        genes_plus.txtROKKA*.gff \n",
      "< \"-\")print \"Chr \"$4\" \"$5'} prokka_out/PROKKA*.gff >                        genes_minus.txtOKKA*.gff \n",
      "(base) "
     ]
    },
    {
     "ename": "",
     "evalue": "1",
     "output_type": "error",
     "traceback": []
    }
   ],
   "source": [
    "awk {'if ($3 == \"CDS\" && $7 == \"+\")print \"Chr \"$4\" \"$5'} prokka_out/PROKKA*.gff >genes_plus.txt\n",
    "awk {'if ($3 == \"CDS\" && $7 == \"-\")print \"Chr \"$4\" \"$5'} prokka_out/PROKKA*.gff >genes_minus.txt"
   ]
  },
  {
   "cell_type": "markdown",
   "id": "3fff5105",
   "metadata": {},
   "source": [
    "## Visualize genome annotation (using Circos)"
   ]
  },
  {
   "cell_type": "code",
   "execution_count": 13,
   "id": "f9c2f536",
   "metadata": {},
   "outputs": [
    {
     "name": "stdout",
     "output_type": "stream",
     "text": [
      "module load bioinfo/circos/0.69-6\n",
      "(base) "
     ]
    },
    {
     "ename": "",
     "evalue": "1",
     "output_type": "error",
     "traceback": []
    }
   ],
   "source": [
    "module load bioinfo/circos/0.69-6"
   ]
  },
  {
   "cell_type": "code",
   "execution_count": 12,
   "id": "6b841908",
   "metadata": {},
   "outputs": [],
   "source": [
    "echo \"chr - Chr 1 0 4600000 black\" >karyotype.txt"
   ]
  },
  {
   "cell_type": "code",
   "execution_count": null,
   "id": "52c07611",
   "metadata": {},
   "outputs": [],
   "source": [
    "cp -rf /data2/formation/Bacterial_genomics/minimal_circos.conf ."
   ]
  },
  {
   "cell_type": "code",
   "execution_count": 26,
   "id": "f8b9dde8",
   "metadata": {},
   "outputs": [
    {
     "name": "stdout",
     "output_type": "stream",
     "text": [
      "circos -conf minimal_circos.conf\n",
      "debuggroup summary 0.38s welcome to circos v0.69-6 31 July 2017 on Perl 5.024000\n",
      "debuggroup summary 0.38s current working directory /home/adereeper/Trainings_Bacterial_genomics\n",
      "debuggroup summary 0.38s command /usr/local/circos-0.69-6/bin/circos -conf minimal_circos.conf\n",
      "debuggroup summary 0.38s loading configuration from file minimal_circos.conf\n",
      "Use of uninitialized value in subroutine entry at /usr/local/circos-0.69-6/bin/../lib/Circos/Configuration.pm line 781.\n",
      "debuggroup summary 0.38s found conf file minimal_circos.conf\n",
      "debuggroup summary 0.60s debug will appear for these features: output,summary\n",
      "debuggroup summary 0.60s bitmap output image ./circos.png\n",
      "debuggroup summary 0.60s SVG output image ./circos.svg\n",
      "debuggroup summary 0.60s parsing karyotype and organizing ideograms\n",
      "debuggroup summary 0.60s karyotype has 1 chromosomes of total size 4,600,001\n",
      "debuggroup summary 0.60s applying global and local scaling\n",
      "debuggroup summary 0.60s allocating image, colors and brushes\n",
      "debuggroup summary 9.80s drawing 1 ideograms of total size 4,600,001\n",
      "debuggroup summary 9.80s drawing highlights and ideograms\n",
      "Use of uninitialized value in subroutine entry at /usr/local/circos-0.69-6/bin/../lib/Circos/Configuration.pm line 781.\n",
      "debuggroup summary 9.80s found conf file /usr/local/circos-0.69-6/bin/../etc/tracks/highlight.bg.conf\n",
      "Use of uninitialized value in subroutine entry at /usr/local/circos-0.69-6/bin/../lib/Circos/Configuration.pm line 781.\n",
      "debuggroup summary 9.82s found conf file /usr/local/circos-0.69-6/bin/../etc/tracks/highlight.bg.conf\n",
      "debuggroup summary 9.83s process track_0 highlight /home/adereeper/Trainings_Bacterial_genomics/genes_plus.txt\n",
      "debuggroup summary 10.32s process track_1 highlight /home/adereeper/Trainings_Bacterial_genomics/genes_minus.txt\n",
      "Use of uninitialized value in subroutine entry at /usr/local/circos-0.69-6/bin/../lib/Circos/Configuration.pm line 781, <F> line 8629.\n",
      "debuggroup summary 15.84s found conf file /usr/local/circos-0.69-6/bin/../etc/tracks/histogram.conf\n",
      "debuggroup summary 15.85s processing track_0 histogram /home/adereeper/Trainings_Bacterial_genomics/gcskew.circos.txt\n",
      "debuggroup summary 16.58s drawing track_0 histogram z 0 gcskew.circos.txt orient out\n",
      "Use of uninitialized value in subroutine entry at /usr/local/circos-0.69-6/bin/../lib/Circos/Configuration.pm line 781, <F> line 9597.\n",
      "debuggroup summary 16.64s found conf file /usr/local/circos-0.69-6/bin/../etc/tracks/axis.conf\n",
      "debuggroup output 18.34s generating output\n",
      "debuggroup output 18.91s created PNG image ./circos.png (1409 kb)\n",
      "debuggroup output 18.92s created SVG image ./circos.svg (2340 kb)\n",
      "(base) "
     ]
    },
    {
     "ename": "",
     "evalue": "1",
     "output_type": "error",
     "traceback": []
    }
   ],
   "source": [
    "circos -conf minimal_circos.conf"
   ]
  },
  {
   "cell_type": "code",
   "execution_count": 27,
   "id": "bb284fea",
   "metadata": {},
   "outputs": [
    {
     "name": "stdout",
     "output_type": "stream",
     "text": [
      "cp -rf circos.svg circos1.svg\n",
      "(base) "
     ]
    },
    {
     "ename": "",
     "evalue": "1",
     "output_type": "error",
     "traceback": []
    }
   ],
   "source": [
    "cp -rf circos.svg circos1.svg"
   ]
  },
  {
   "cell_type": "markdown",
   "id": "9fb8dd89",
   "metadata": {},
   "source": [
    "<img src=\"Trainings_Bacterial_genomics/circos1.svg\" align=\"center\" width=\"70%\" style=\"display: block; margin: auto;\"/> "
   ]
  },
  {
   "cell_type": "markdown",
   "id": "8615fee2",
   "metadata": {},
   "source": [
    "## Retrieve public genomes available for comparison"
   ]
  },
  {
   "cell_type": "markdown",
   "id": "8391c1e5",
   "metadata": {},
   "source": [
    "Public genomes can be retrived using NCBI : https://www.ncbi.nlm.nih.gov/datasets/genomes/"
   ]
  },
  {
   "cell_type": "code",
   "execution_count": 27,
   "id": "8f0f59c9",
   "metadata": {},
   "outputs": [
    {
     "name": "stdout",
     "output_type": "stream",
     "text": [
      "< https://ftp.ncbi.nlm.nih.gov/genomes/GENOME_REPORT                        S/prokaryotes.txt\n",
      "--2022-05-31 14:28:11--  https://ftp.ncbi.nlm.nih.gov/genomes/GENOME_REPORTS/prokaryotes.txt\n",
      "Résolution de ftp.ncbi.nlm.nih.gov (ftp.ncbi.nlm.nih.gov)... 130.14.250.11, 130.14.250.12, 2607:f220:41f:250::230, ...\n",
      "Connexion vers ftp.ncbi.nlm.nih.gov (ftp.ncbi.nlm.nih.gov)|130.14.250.11|:443...connecté.\n",
      "requête HTTP transmise, en attente de la réponse...200 OK\n",
      "Longueur: 130463851 (124M) [text/plain]\n",
      "Sauvegarde en : «prokaryotes.txt»\n",
      "\n",
      "100%[======================================>] 130 463 851 22,0MB/s   ds 11s    \n",
      "\n",
      "2022-05-31 14:28:24 (11,5 MB/s) - «prokaryotes.txt» sauvegardé [130463851/130463851]\n",
      "\n",
      "(base) "
     ]
    },
    {
     "ename": "",
     "evalue": "1",
     "output_type": "error",
     "traceback": []
    }
   ],
   "source": [
    "wget https://ftp.ncbi.nlm.nih.gov/genomes/GENOME_REPORTS/prokaryotes.txt"
   ]
  },
  {
   "cell_type": "code",
   "execution_count": 28,
   "id": "4801554b",
   "metadata": {},
   "outputs": [
    {
     "name": "stdout",
     "output_type": "stream",
     "text": [
      "< \"Xanthomonas oryzae pv. oryzae\" prokaryotes.txt |                         grep -c 'chromosome:'\n",
      "95\n",
      "(base) "
     ]
    },
    {
     "ename": "",
     "evalue": "1",
     "output_type": "error",
     "traceback": []
    }
   ],
   "source": [
    "grep \"Xanthomonas oryzae pv. oryzae\" prokaryotes.txt | grep -c 'chromosome:'"
   ]
  },
  {
   "cell_type": "code",
   "execution_count": 29,
   "id": "795f2bc6",
   "metadata": {},
   "outputs": [
    {
     "name": "stdout",
     "output_type": "stream",
     "text": [
      "< \"Xanthomonas oryzae pv. oryzicola\" prokaryotes.txt                         | grep -c 'chromosome:'\n",
      "17\n",
      "(base) "
     ]
    },
    {
     "ename": "",
     "evalue": "1",
     "output_type": "error",
     "traceback": []
    }
   ],
   "source": [
    "grep \"Xanthomonas oryzae pv. oryzicola\" prokaryotes.txt | grep -c 'chromosome:'"
   ]
  },
  {
   "cell_type": "code",
   "execution_count": 2,
   "id": "c8f8f1e9",
   "metadata": {},
   "outputs": [
    {
     "name": "stdout",
     "output_type": "stream",
     "text": [
      "Xanthomonas oryzae pv. oryzicola\t129394\tPRJNA248159\t248159\tProteobacteria\tGammaproteobacteria\t4.43083\t64.1\tchromosome:NZ_CP007810.1/CP007810.1\t-\t1\t4137\t3486\t2015/06/08\t2021/11/23\tComplete Genome\tKey Laboratory of Agricultural Biodiversity for Plant Disease Management under the Ministry of Education\tSAMN02793996\tGCA_001021915.1\tREPR\tftp://ftp.ncbi.nlm.nih.gov/genomes/all/GCA/001/021/915/GCA_001021915.1_ASM102191v1\t-\tYM15\n",
      "Xanthomonas oryzae pv. oryzicola\t129394\tPRJNA237971\t237971\tProteobacteria\tGammaproteobacteria\t5.0801\t64\tchromosome:NZ_CP007221.1/CP007221.1\t-\t1\t4690\t3924\t2015/03/04\t2022/01/21\tComplete Genome\tCornell University\tSAMN02640212\tGCA_000940825.1\t-\tftp://ftp.ncbi.nlm.nih.gov/genomes/all/GCA/000/940/825/GCA_000940825.1_ASM94082v1\t27148456\tCFBP7342\n",
      "Xanthomonas oryzae pv. oryzicola\t129394\tPRJNA280380\t280380\tProteobacteria\tGammaproteobacteria\t5.01777\t63.9\tchromosome:NZ_CP011959.1/CP011959.1\t-\t1\t4564\t3815\t2015/06/30\t2021/11/23\tComplete Genome\tBogdanove Lab, Plant Pathology and Plant-Microbe Biology, Cornell University\tSAMN03612287\tGCA_001042835.1\t-\tftp://ftp.ncbi.nlm.nih.gov/genomes/all/GCA/001/042/835/GCA_001042835.1_ASM104283v1\t-\tCFBP7341\n",
      "Xanthomonas oryzae pv. oryzicola\t129394\tPRJNA280380\t280380\tProteobacteria\tGammaproteobacteria\t5.00829\t63.9\tchromosome:NZ_CP011958.1/CP011958.1\t-\t1\t4546\t3789\t2015/06/30\t2021/11/23\tComplete Genome\tBogdanove Lab, Plant Pathology and Plant-Microbe Biology, Cornell University\tSAMN03612260\tGCA_001042815.1\t-\tftp://ftp.ncbi.nlm.nih.gov/genomes/all/GCA/001/042/815/GCA_001042815.1_ASM104281v1\t-\tCFBP7331\n",
      "grep: erreur d'écriture: Relais brisé (pipe)\n"
     ]
    }
   ],
   "source": [
    "grep \"Xanthomonas oryzae pv. oryzicola\" prokaryotes.txt | grep 'chromosome:' | head -4"
   ]
  },
  {
   "cell_type": "code",
   "execution_count": 5,
   "id": "72bf0099",
   "metadata": {},
   "outputs": [
    {
     "name": "stdout",
     "output_type": "stream",
     "text": [
      "Xanthomonas oryzae pv. oryzae\t64187\tPRJNA485465\t485465\tProteobacteria\tGammaproteobacteria\t4.99067\t63.7\tchromosome:NZ_CP031697.1/CP031697.1\t-\t1\t4647\t3652\t2019/02/04\t2022/03/27\tComplete Genome\tMartin Luther University Halle-Wittenberg\tSAMN09791860\tGCA_004136375.1\t-\tftp://ftp.ncbi.nlm.nih.gov/genomes/all/GCA/004/136/375/GCA_004136375.1_ASM413637v1\t-\tICMP3125\n",
      "Xanthomonas oryzae pv. oryzae\t64187\tPRJNA269487\t269487\tProteobacteria\tGammaproteobacteria\t5.09305\t63.7\tchromosome:NZ_CP040687.1/CP040687.1\t-\t1\t4757\t3787\t2019/05/28\t2022/03/20\tComplete Genome\tBacterial Genomics and Evolution Laboratory, CSIR-Institute of Microbial Technology, Sector 39-A, Chandigarh, India\tSAMN03252586\tGCA_001929235.2\t-\tftp://ftp.ncbi.nlm.nih.gov/genomes/all/GCA/001/929/235/GCA_001929235.2_ASM192923v2\t-\tIXO1088\n",
      "Xanthomonas oryzae pv. oryzae\t64187\tPRJNA497605\t497605\tProteobacteria\tGammaproteobacteria\t5.05039\t63.7\tchromosome:NZ_CP033192.1/CP033192.1\t-\t1\t4713\t3695\t2019/03/19\t2022/04/07\tComplete Genome\tUniversity of Florida\tSAMN10261817\tGCA_004355825.1\t-\tftp://ftp.ncbi.nlm.nih.gov/genomes/all/GCA/004/355/825/GCA_004355825.1_ASM435582v1\t-\tNX0260\n",
      "Xanthomonas oryzae pv. oryzae\t64187\tPRJNA304675\t304675\tProteobacteria\tGammaproteobacteria\t5.03976\t63.7\tchromosome:NZ_CP013961.1/CP013961.1\t-\t1\t4679\t3691\t2016/09/26\t2022/03/27\tComplete Genome\tIRRI\tSAMN04306146\tGCA_001746615.1\t-\tftp://ftp.ncbi.nlm.nih.gov/genomes/all/GCA/001/746/615/GCA_001746615.1_ASM174661v1\t-\tPXO145\n",
      "grep: erreur d'écriture\n",
      "grep: erreur d'écriture\n"
     ]
    }
   ],
   "source": [
    "grep \"Xanthomonas oryzae pv. oryzae\" prokaryotes.txt | grep 'chromosome:' | head -4"
   ]
  },
  {
   "cell_type": "code",
   "execution_count": 20,
   "id": "1c8b2038",
   "metadata": {},
   "outputs": [
    {
     "name": "stdout",
     "output_type": "stream",
     "text": [
      "<6/375/GCA_004136375.1_ASM413637v1/GCA_004136375.1_A                        SM413637v1_genomic.fna.gz\n",
      "--2022-06-01 08:55:23--  https://ftp.ncbi.nlm.nih.gov/genomes/all/GCA/004/136/375/GCA_004136375.1_ASM413637v1/GCA_004136375.1_ASM413637v1_genomic.fna.gz\n",
      "Résolution de ftp.ncbi.nlm.nih.gov (ftp.ncbi.nlm.nih.gov)... 130.14.250.12, 130.14.250.11, 2607:f220:41f:250::229, ...\n",
      "Connexion vers ftp.ncbi.nlm.nih.gov (ftp.ncbi.nlm.nih.gov)|130.14.250.12|:443...connecté.\n",
      "requête HTTP transmise, en attente de la réponse...200 OK\n",
      "Longueur: 1415838 (1,3M) [application/x-gzip]\n",
      "Sauvegarde en : «GCA_004136375.1_ASM413637v1_genomic.fna.gz»\n",
      "\n",
      "100%[======================================>] 1 415 838   1,94MB/s   ds 0,7s   \n",
      "\n",
      "2022-06-01 08:55:25 (1,94 MB/s) - «GCA_004136375.1_ASM413637v1_genomic.fna.gz» sauvegardé [1415838/1415838]\n",
      "\n",
      "<9/235/GCA_001929235.2_ASM192923v2/GCA_001929235.2_A                        SM192923v2_genomic.fna.gz\n",
      "--2022-06-01 08:55:25--  https://ftp.ncbi.nlm.nih.gov/genomes/all/GCA/001/929/235/GCA_001929235.2_ASM192923v2/GCA_001929235.2_ASM192923v2_genomic.fna.gz\n",
      "Résolution de ftp.ncbi.nlm.nih.gov (ftp.ncbi.nlm.nih.gov)... 130.14.250.11, 130.14.250.12, 2607:f220:41f:250::230, ...\n",
      "Connexion vers ftp.ncbi.nlm.nih.gov (ftp.ncbi.nlm.nih.gov)|130.14.250.11|:443...connecté.\n",
      "requête HTTP transmise, en attente de la réponse...200 OK\n",
      "Longueur: 1445997 (1,4M) [application/x-gzip]\n",
      "Sauvegarde en : «GCA_001929235.2_ASM192923v2_genomic.fna.gz»\n",
      "\n",
      "100%[======================================>] 1 445 997   2,30MB/s   ds 0,6s   \n",
      "\n",
      "2022-06-01 08:55:26 (2,30 MB/s) - «GCA_001929235.2_ASM192923v2_genomic.fna.gz» sauvegardé [1445997/1445997]\n",
      "\n",
      "<1/915/GCA_001021915.1_ASM102191v1/GCA_001021915.1_A                        SM102191v1_genomic.fna.gz\n",
      "--2022-06-01 08:55:26--  https://ftp.ncbi.nlm.nih.gov/genomes/all/GCA/001/021/915/GCA_001021915.1_ASM102191v1/GCA_001021915.1_ASM102191v1_genomic.fna.gz\n",
      "Résolution de ftp.ncbi.nlm.nih.gov (ftp.ncbi.nlm.nih.gov)... 130.14.250.12, 130.14.250.11, 2607:f220:41f:250::229, ...\n",
      "Connexion vers ftp.ncbi.nlm.nih.gov (ftp.ncbi.nlm.nih.gov)|130.14.250.12|:443...connecté.\n",
      "requête HTTP transmise, en attente de la réponse...200 OK\n",
      "Longueur: 1281033 (1,2M) [application/x-gzip]\n",
      "Sauvegarde en : «GCA_001021915.1_ASM102191v1_genomic.fna.gz»\n",
      "\n",
      "100%[======================================>] 1 281 033   1,21MB/s   ds 1,0s   \n",
      "\n",
      "2022-06-01 08:55:27 (1,21 MB/s) - «GCA_001021915.1_ASM102191v1_genomic.fna.gz» sauvegardé [1281033/1281033]\n",
      "\n",
      "<0/825/GCA_000940825.1_ASM94082v1/GCA_000940825.1_AS                        M94082v1_genomic.fna.gz_A\n",
      "--2022-06-01 08:55:27--  https://ftp.ncbi.nlm.nih.gov/genomes/all/GCA/000/940/825/GCA_000940825.1_ASM94082v1/GCA_000940825.1_ASM94082v1_genomic.fna.gz\n",
      "Résolution de ftp.ncbi.nlm.nih.gov (ftp.ncbi.nlm.nih.gov)... 130.14.250.11, 130.14.250.12, 2607:f220:41f:250::230, ...\n",
      "Connexion vers ftp.ncbi.nlm.nih.gov (ftp.ncbi.nlm.nih.gov)|130.14.250.11|:443...connecté.\n",
      "requête HTTP transmise, en attente de la réponse...200 OK\n",
      "Longueur: 1435249 (1,4M) [application/x-gzip]\n",
      "Sauvegarde en : «GCA_000940825.1_ASM94082v1_genomic.fna.gz»\n",
      "\n",
      "100%[======================================>] 1 435 249   2,01MB/s   ds 0,7s   \n",
      "\n",
      "2022-06-01 08:55:28 (2,01 MB/s) - «GCA_000940825.1_ASM94082v1_genomic.fna.gz» sauvegardé [1435249/1435249]\n",
      "\n",
      "(base) "
     ]
    },
    {
     "ename": "",
     "evalue": "1",
     "output_type": "error",
     "traceback": []
    }
   ],
   "source": [
    "wget https://ftp.ncbi.nlm.nih.gov/genomes/all/GCA/004/136/375/GCA_004136375.1_ASM413637v1/GCA_004136375.1_ASM413637v1_genomic.fna.gz\n",
    "wget https://ftp.ncbi.nlm.nih.gov/genomes/all/GCA/001/929/235/GCA_001929235.2_ASM192923v2/GCA_001929235.2_ASM192923v2_genomic.fna.gz\n",
    "wget https://ftp.ncbi.nlm.nih.gov/genomes/all/GCA/001/021/915/GCA_001021915.1_ASM102191v1/GCA_001021915.1_ASM102191v1_genomic.fna.gz\n",
    "wget https://ftp.ncbi.nlm.nih.gov/genomes/all/GCA/000/940/825/GCA_000940825.1_ASM94082v1/GCA_000940825.1_ASM94082v1_genomic.fna.gz"
   ]
  },
  {
   "cell_type": "code",
   "execution_count": 21,
   "id": "4688c56b",
   "metadata": {},
   "outputs": [
    {
     "name": "stdout",
     "output_type": "stream",
     "text": [
      "gunzip *_genomic.fna.gz\n",
      "(base) "
     ]
    },
    {
     "ename": "",
     "evalue": "1",
     "output_type": "error",
     "traceback": []
    }
   ],
   "source": [
    "gunzip *_genomic.fna.gz"
   ]
  },
  {
   "cell_type": "code",
   "execution_count": 25,
   "id": "a809c653",
   "metadata": {},
   "outputs": [
    {
     "name": "stdout",
     "output_type": "stream",
     "text": [
      "module load bioinfo/prokka/1.13.3\n",
      "<GCA_004136375.1_ASM413637v1 --outdir prokka_out --f                        orce >>prokka.log 2>&1 --\n",
      "<GCA_001929235.2_ASM192923v2 --outdir prokka_out --f                        orce >>prokka.log 2>&1 --\n",
      "<GCA_001021915.1_ASM102191v1 --outdir prokka_out --f                        orce >>prokka.log 2>&1 --\n",
      "<CA_000940825.1_ASM94082v1 --outdir prokka_out --for                        ce >>prokka.log 2>&1 --fo\n",
      "(base) "
     ]
    },
    {
     "ename": "",
     "evalue": "1",
     "output_type": "error",
     "traceback": []
    }
   ],
   "source": [
    "module load bioinfo/prokka/1.13.3\n",
    "prokka GCA_004136375.1_ASM413637v1_genomic.fna --prefix GCA_004136375.1_ASM413637v1 --outdir prokka_out --force >>prokka.log 2>&1\n",
    "prokka GCA_001929235.2_ASM192923v2_genomic.fna --prefix GCA_001929235.2_ASM192923v2 --outdir prokka_out --force >>prokka.log 2>&1\n",
    "prokka GCA_001021915.1_ASM102191v1_genomic.fna --prefix GCA_001021915.1_ASM102191v1 --outdir prokka_out --force >>prokka.log 2>&1\n",
    "prokka GCA_000940825.1_ASM94082v1_genomic.fna --prefix GCA_000940825.1_ASM94082v1 --outdir prokka_out --force >>prokka.log 2>&1"
   ]
  },
  {
   "cell_type": "code",
   "execution_count": 11,
   "id": "47b75b43",
   "metadata": {},
   "outputs": [
    {
     "name": "stdout",
     "output_type": "stream",
     "text": [
      "<CA_004136375.1_ASM413637v1/GCA_004136375.1_ASM41363                        7v1_genomic.gbff.gzSM4136\n",
      "--2022-06-01 07:05:40--  https://ftp.ncbi.nlm.nih.gov/genomes/all/GCA/004/136/375/GCA_004136375.1_ASM413637v1/GCA_004136375.1_ASM413637v1_genomic.gbff.gz\n",
      "Résolution de ftp.ncbi.nlm.nih.gov (ftp.ncbi.nlm.nih.gov)... 130.14.250.10, 165.112.9.230, 2607:f220:41e:250::11, ...\n",
      "Connexion vers ftp.ncbi.nlm.nih.gov (ftp.ncbi.nlm.nih.gov)|130.14.250.10|:443...connecté.\n",
      "requête HTTP transmise, en attente de la réponse...200 OK\n",
      "Longueur: 3276284 (3,1M) [application/x-gzip]\n",
      "Sauvegarde en : «GCA_004136375.1_ASM413637v1_genomic.gbff.gz.1»\n",
      "\n",
      "100%[======================================>] 3 276 284   3,89MB/s   ds 0,8s   \n",
      "\n",
      "2022-06-01 07:05:42 (3,89 MB/s) - «GCA_004136375.1_ASM413637v1_genomic.gbff.gz.1» sauvegardé [3276284/3276284]\n",
      "\n",
      "<CA_001929235.2_ASM192923v2/GCA_001929235.2_ASM19292                        3v2_genomic.gbff.gzSM1929\n",
      "--2022-06-01 07:05:42--  https://ftp.ncbi.nlm.nih.gov/genomes/all/GCA/001/929/235/GCA_001929235.2_ASM192923v2/GCA_001929235.2_ASM192923v2_genomic.gbff.gz\n",
      "Résolution de ftp.ncbi.nlm.nih.gov (ftp.ncbi.nlm.nih.gov)... 165.112.9.230, 130.14.250.10, 2607:f220:41f:250::229, ...\n",
      "Connexion vers ftp.ncbi.nlm.nih.gov (ftp.ncbi.nlm.nih.gov)|165.112.9.230|:443...connecté.\n",
      "requête HTTP transmise, en attente de la réponse...200 OK\n",
      "Longueur: 3360152 (3,2M) [application/x-gzip]\n",
      "Sauvegarde en : «GCA_001929235.2_ASM192923v2_genomic.gbff.gz»\n",
      "\n",
      "100%[======================================>] 3 360 152   3,98MB/s   ds 0,8s   \n",
      "\n",
      "2022-06-01 07:05:43 (3,98 MB/s) - «GCA_001929235.2_ASM192923v2_genomic.gbff.gz» sauvegardé [3360152/3360152]\n",
      "\n",
      "<CA_004355825.1_ASM435582v1/GCA_004355825.1_ASM43558                        2v1_genomic.gbff.gzSM4355\n",
      "--2022-06-01 07:05:43--  https://ftp.ncbi.nlm.nih.gov/genomes/all/GCA/004/355/825/GCA_004355825.1_ASM435582v1/GCA_004355825.1_ASM435582v1_genomic.gbff.gz\n",
      "Résolution de ftp.ncbi.nlm.nih.gov (ftp.ncbi.nlm.nih.gov)... 130.14.250.10, 165.112.9.230, 2607:f220:41e:250::11, ...\n",
      "Connexion vers ftp.ncbi.nlm.nih.gov (ftp.ncbi.nlm.nih.gov)|130.14.250.10|:443...connecté.\n",
      "requête HTTP transmise, en attente de la réponse...200 OK\n",
      "Longueur: 3309902 (3,2M) [application/x-gzip]\n",
      "Sauvegarde en : «GCA_004355825.1_ASM435582v1_genomic.gbff.gz»\n",
      "\n",
      "100%[======================================>] 3 309 902   4,44MB/s   ds 0,7s   \n",
      "\n",
      "2022-06-01 07:05:45 (4,44 MB/s) - «GCA_004355825.1_ASM435582v1_genomic.gbff.gz» sauvegardé [3309902/3309902]\n",
      "\n",
      "<CA_001746615.1_ASM174661v1/GCA_001746615.1_ASM17466                        1v1_genomic.gbff.gzSM1746\n",
      "--2022-06-01 07:05:45--  https://ftp.ncbi.nlm.nih.gov/genomes/all/GCA/001/746/615/GCA_001746615.1_ASM174661v1/GCA_001746615.1_ASM174661v1_genomic.gbff.gz\n",
      "Résolution de ftp.ncbi.nlm.nih.gov (ftp.ncbi.nlm.nih.gov)... 165.112.9.230, 130.14.250.10, 2607:f220:41f:250::229, ...\n",
      "Connexion vers ftp.ncbi.nlm.nih.gov (ftp.ncbi.nlm.nih.gov)|165.112.9.230|:443...connecté.\n",
      "requête HTTP transmise, en attente de la réponse...200 OK\n",
      "Longueur: 3334158 (3,2M) [application/x-gzip]\n",
      "Sauvegarde en : «GCA_001746615.1_ASM174661v1_genomic.gbff.gz»\n",
      "\n",
      "100%[======================================>] 3 334 158   4,62MB/s   ds 0,7s   \n",
      "\n",
      "2022-06-01 07:05:46 (4,62 MB/s) - «GCA_001746615.1_ASM174661v1_genomic.gbff.gz» sauvegardé [3334158/3334158]\n",
      "\n",
      "<CA_001021915.1_ASM102191v1/GCA_001021915.1_ASM10219                        1v1_genomic.gbff.gzSM1021\n",
      "--2022-06-01 07:05:46--  https://ftp.ncbi.nlm.nih.gov/genomes/all/GCA/001/021/915/GCA_001021915.1_ASM102191v1/GCA_001021915.1_ASM102191v1_genomic.gbff.gz\n",
      "Résolution de ftp.ncbi.nlm.nih.gov (ftp.ncbi.nlm.nih.gov)... 130.14.250.10, 165.112.9.230, 2607:f220:41e:250::11, ...\n",
      "Connexion vers ftp.ncbi.nlm.nih.gov (ftp.ncbi.nlm.nih.gov)|130.14.250.10|:443...connecté.\n",
      "requête HTTP transmise, en attente de la réponse...200 OK\n",
      "Longueur: 2951060 (2,8M) [application/x-gzip]\n",
      "Sauvegarde en : «GCA_001021915.1_ASM102191v1_genomic.gbff.gz»\n",
      "\n",
      "100%[======================================>] 2 951 060   3,97MB/s   ds 0,7s   \n",
      "\n",
      "2022-06-01 07:05:48 (3,97 MB/s) - «GCA_001021915.1_ASM102191v1_genomic.gbff.gz» sauvegardé [2951060/2951060]\n",
      "\n",
      "<CA_000940825.1_ASM94082v1/GCA_000940825.1_ASM94082v                        1_genomic.gbff.gzASM94082\n",
      "--2022-06-01 07:05:48--  https://ftp.ncbi.nlm.nih.gov/genomes/all/GCA/000/940/825/GCA_000940825.1_ASM94082v1/GCA_000940825.1_ASM94082v1_genomic.gbff.gz\n",
      "Résolution de ftp.ncbi.nlm.nih.gov (ftp.ncbi.nlm.nih.gov)... 165.112.9.230, 130.14.250.10, 2607:f220:41f:250::229, ...\n",
      "Connexion vers ftp.ncbi.nlm.nih.gov (ftp.ncbi.nlm.nih.gov)|165.112.9.230|:443...connecté.\n",
      "requête HTTP transmise, en attente de la réponse...200 OK\n",
      "Longueur: 3305656 (3,2M) [application/x-gzip]\n",
      "Sauvegarde en : «GCA_000940825.1_ASM94082v1_genomic.gbff.gz»\n",
      "\n",
      "100%[======================================>] 3 305 656   3,96MB/s   ds 0,8s   \n",
      "\n",
      "2022-06-01 07:05:49 (3,96 MB/s) - «GCA_000940825.1_ASM94082v1_genomic.gbff.gz» sauvegardé [3305656/3305656]\n",
      "\n",
      "<CA_001042835.1_ASM104283v1/GCA_001042835.1_ASM10428                        3v1_genomic.gbff.gzSM1042\n",
      "--2022-06-01 07:05:49--  https://ftp.ncbi.nlm.nih.gov/genomes/all/GCA/001/042/835/GCA_001042835.1_ASM104283v1/GCA_001042835.1_ASM104283v1_genomic.gbff.gz\n",
      "Résolution de ftp.ncbi.nlm.nih.gov (ftp.ncbi.nlm.nih.gov)... 130.14.250.10, 165.112.9.230, 2607:f220:41e:250::11, ...\n",
      "Connexion vers ftp.ncbi.nlm.nih.gov (ftp.ncbi.nlm.nih.gov)|130.14.250.10|:443...connecté.\n",
      "requête HTTP transmise, en attente de la réponse...200 OK\n",
      "Longueur: 3285574 (3,1M) [application/x-gzip]\n",
      "Sauvegarde en : «GCA_001042835.1_ASM104283v1_genomic.gbff.gz»\n",
      "\n",
      "100%[======================================>] 3 285 574   3,56MB/s   ds 0,9s   \n",
      "\n",
      "2022-06-01 07:05:50 (3,56 MB/s) - «GCA_001042835.1_ASM104283v1_genomic.gbff.gz» sauvegardé [3285574/3285574]\n",
      "\n",
      "<CA_001042815.1_ASM104281v1/GCA_001042815.1_ASM10428                        1v1_genomic.gbff.gzSM1042\n",
      "--2022-06-01 07:05:51--  https://ftp.ncbi.nlm.nih.gov/genomes/all/GCA/001/042/815/GCA_001042815.1_ASM104281v1/GCA_001042815.1_ASM104281v1_genomic.gbff.gz\n",
      "Résolution de ftp.ncbi.nlm.nih.gov (ftp.ncbi.nlm.nih.gov)... 165.112.9.230, 130.14.250.10, 2607:f220:41f:250::229, ...\n",
      "Connexion vers ftp.ncbi.nlm.nih.gov (ftp.ncbi.nlm.nih.gov)|165.112.9.230|:443...connecté.\n",
      "requête HTTP transmise, en attente de la réponse...200 OK\n",
      "Longueur: 3281522 (3,1M) [application/x-gzip]\n",
      "Sauvegarde en : «GCA_001042815.1_ASM104281v1_genomic.gbff.gz»\n",
      "\n",
      "100%[======================================>] 3 281 522   3,86MB/s   ds 0,8s   \n",
      "\n",
      "2022-06-01 07:05:52 (3,86 MB/s) - «GCA_001042815.1_ASM104281v1_genomic.gbff.gz» sauvegardé [3281522/3281522]\n",
      "\n"
     ]
    },
    {
     "ename": "",
     "evalue": "1",
     "output_type": "error",
     "traceback": []
    }
   ],
   "source": [
    "wget https://ftp.ncbi.nlm.nih.gov/genomes/all/GCA/004/136/375/GCA_004136375.1_ASM413637v1/GCA_004136375.1_ASM413637v1_genomic.gbff.gz\n",
    "wget https://ftp.ncbi.nlm.nih.gov/genomes/all/GCA/001/929/235/GCA_001929235.2_ASM192923v2/GCA_001929235.2_ASM192923v2_genomic.gbff.gz\n",
    "wget https://ftp.ncbi.nlm.nih.gov/genomes/all/GCA/004/355/825/GCA_004355825.1_ASM435582v1/GCA_004355825.1_ASM435582v1_genomic.gbff.gz\n",
    "wget https://ftp.ncbi.nlm.nih.gov/genomes/all/GCA/001/746/615/GCA_001746615.1_ASM174661v1/GCA_001746615.1_ASM174661v1_genomic.gbff.gz\n",
    "wget https://ftp.ncbi.nlm.nih.gov/genomes/all/GCA/001/021/915/GCA_001021915.1_ASM102191v1/GCA_001021915.1_ASM102191v1_genomic.gbff.gz\n",
    "wget https://ftp.ncbi.nlm.nih.gov/genomes/all/GCA/000/940/825/GCA_000940825.1_ASM94082v1/GCA_000940825.1_ASM94082v1_genomic.gbff.gz\n",
    "wget https://ftp.ncbi.nlm.nih.gov/genomes/all/GCA/001/042/835/GCA_001042835.1_ASM104283v1/GCA_001042835.1_ASM104283v1_genomic.gbff.gz\n",
    "wget https://ftp.ncbi.nlm.nih.gov/genomes/all/GCA/001/042/815/GCA_001042815.1_ASM104281v1/GCA_001042815.1_ASM104281v1_genomic.gbff.gz"
   ]
  },
  {
   "cell_type": "markdown",
   "id": "74550ad5",
   "metadata": {},
   "source": [
    "## Convert GenBank annotation files to GFF format"
   ]
  },
  {
   "cell_type": "code",
   "execution_count": 15,
   "id": "00a548ac",
   "metadata": {},
   "outputs": [],
   "source": [
    "mkdir annotations"
   ]
  },
  {
   "cell_type": "code",
   "execution_count": 26,
   "id": "058070c7",
   "metadata": {},
   "outputs": [
    {
     "name": "stdout",
     "output_type": "stream",
     "text": [
      "cp -rf prokka_out/*.gff annotations\n",
      "(base) "
     ]
    },
    {
     "ename": "",
     "evalue": "1",
     "output_type": "error",
     "traceback": []
    }
   ],
   "source": [
    "cp -rf prokka_out/*.gff annotations"
   ]
  },
  {
   "cell_type": "code",
   "execution_count": 13,
   "id": "182de8c2",
   "metadata": {},
   "outputs": [
    {
     "name": "stdout",
     "output_type": "stream",
     "text": [
      "<gff3.pl annotations/GCA_000940825.1_ASM94082v1_geno                        mic.gbff.gz\n",
      "Possible precedence issue with control flow operator at /usr/local/perl-5.24.0/bin/bp_genbank2gff3.pl line 690.\n",
      "# Input: annotations/GCA_000940825.1_ASM94082v1_genomic.gbff.gz\n",
      "# working on region:CP007221, Xanthomonas oryzae pv. oryzicola, Xanthomonas oryzae pv. oryzicola strain CFBP7342, complete genome., 16-NOV-2015\n",
      "# GFF3 saved to ./GCA_000940825.1_ASM94082v1_genomic.gbff.gz.gff\n",
      "<gff3.pl annotations/GCA_001021915.1_ASM102191v1_gen                        omic.gbff.gz\n",
      "Possible precedence issue with control flow operator at /usr/local/perl-5.24.0/bin/bp_genbank2gff3.pl line 690.\n",
      "# Input: annotations/GCA_001021915.1_ASM102191v1_genomic.gbff.gz\n",
      "# working on region:CP007810, Xanthomonas oryzae pv. oryzicola, Xanthomonas oryzae pv. oryzicola strain YM15, complete genome., 08-JUN-2015\n",
      "# GFF3 saved to ./GCA_001021915.1_ASM102191v1_genomic.gbff.gz.gff\n",
      "<gff3.pl annotations/GCA_001042815.1_ASM104281v1_gen                        omic.gbff.gz\n",
      "Possible precedence issue with control flow operator at /usr/local/perl-5.24.0/bin/bp_genbank2gff3.pl line 690.\n",
      "# Input: annotations/GCA_001042815.1_ASM104281v1_genomic.gbff.gz\n",
      "# working on region:CP011958, Xanthomonas oryzae pv. oryzicola, Xanthomonas oryzae pv. oryzicola strain CFBP7331, complete genome., 23-SEP-2015\n",
      "# GFF3 saved to ./GCA_001042815.1_ASM104281v1_genomic.gbff.gz.gff\n",
      "<gff3.pl annotations/GCA_001042835.1_ASM104283v1_gen                        omic.gbff.gz\n",
      "Possible precedence issue with control flow operator at /usr/local/perl-5.24.0/bin/bp_genbank2gff3.pl line 690.\n",
      "# Input: annotations/GCA_001042835.1_ASM104283v1_genomic.gbff.gz\n",
      "# working on region:CP011959, Xanthomonas oryzae pv. oryzicola, Xanthomonas oryzae pv. oryzicola strain CFBP7341, complete genome., 07-AUG-2015\n",
      "# GFF3 saved to ./GCA_001042835.1_ASM104283v1_genomic.gbff.gz.gff\n",
      "<gff3.pl annotations/GCA_001746615.1_ASM174661v1_gen                        omic.gbff.gz\n",
      "Possible precedence issue with control flow operator at /usr/local/perl-5.24.0/bin/bp_genbank2gff3.pl line 690.\n",
      "# Input: annotations/GCA_001746615.1_ASM174661v1_genomic.gbff.gz\n",
      "# working on region:CP013961, Xanthomonas oryzae pv. oryzae, Xanthomonas oryzae pv. oryzae strain PXO145, complete genome., 26-SEP-2016\n",
      "# GFF3 saved to ./GCA_001746615.1_ASM174661v1_genomic.gbff.gz.gff\n",
      "<gff3.pl annotations/GCA_001929235.2_ASM192923v2_gen                        omic.gbff.gz\n",
      "Possible precedence issue with control flow operator at /usr/local/perl-5.24.0/bin/bp_genbank2gff3.pl line 690.\n",
      "# Input: annotations/GCA_001929235.2_ASM192923v2_genomic.gbff.gz\n",
      "# working on region:CP040687, Xanthomonas oryzae pv. oryzae, Xanthomonas oryzae pv. oryzae strain IXO1088 chromosome, complete genome., 06-MAR-2020\n",
      "# GFF3 saved to ./GCA_001929235.2_ASM192923v2_genomic.gbff.gz.gff\n",
      "<gff3.pl annotations/GCA_004136375.1_ASM413637v1_gen                        omic.gbff.gz\n",
      "Possible precedence issue with control flow operator at /usr/local/perl-5.24.0/bin/bp_genbank2gff3.pl line 690.\n",
      "# Input: annotations/GCA_004136375.1_ASM413637v1_genomic.gbff.gz\n",
      "# working on region:CP031697, Xanthomonas oryzae pv. oryzae, Xanthomonas oryzae pv. oryzae strain ICMP3125 chromosome, complete genome., 04-FEB-2019\n",
      "# GFF3 saved to ./GCA_004136375.1_ASM413637v1_genomic.gbff.gz.gff\n",
      "<gff3.pl annotations/GCA_004355825.1_ASM435582v1_gen                        omic.gbff.gz\n",
      "Possible precedence issue with control flow operator at /usr/local/perl-5.24.0/bin/bp_genbank2gff3.pl line 690.\n",
      "# Input: annotations/GCA_004355825.1_ASM435582v1_genomic.gbff.gz\n",
      "# working on region:CP033192, Xanthomonas oryzae pv. oryzae, Xanthomonas oryzae pv. oryzae strain NX0260 chromosome, complete genome., 19-MAR-2019\n",
      "# GFF3 saved to ./GCA_004355825.1_ASM435582v1_genomic.gbff.gz.gff\n"
     ]
    },
    {
     "ename": "",
     "evalue": "1",
     "output_type": "error",
     "traceback": []
    }
   ],
   "source": [
    "bp_genbank2gff3.pl annotations/GCA_000940825.1_ASM94082v1_genomic.gbff.gz\n",
    "bp_genbank2gff3.pl annotations/GCA_001021915.1_ASM102191v1_genomic.gbff.gz\n",
    "bp_genbank2gff3.pl annotations/GCA_001042815.1_ASM104281v1_genomic.gbff.gz\n",
    "bp_genbank2gff3.pl annotations/GCA_001042835.1_ASM104283v1_genomic.gbff.gz\n",
    "bp_genbank2gff3.pl annotations/GCA_001746615.1_ASM174661v1_genomic.gbff.gz\n",
    "bp_genbank2gff3.pl annotations/GCA_001929235.2_ASM192923v2_genomic.gbff.gz\n",
    "bp_genbank2gff3.pl annotations/GCA_004136375.1_ASM413637v1_genomic.gbff.gz\n",
    "bp_genbank2gff3.pl annotations/GCA_004355825.1_ASM435582v1_genomic.gbff.gz"
   ]
  },
  {
   "cell_type": "code",
   "execution_count": 16,
   "id": "0c61cf38",
   "metadata": {},
   "outputs": [
    {
     "name": "stdout",
     "output_type": "stream",
     "text": [
      "mv *gff annotations\r\n"
     ]
    },
    {
     "ename": "",
     "evalue": "1",
     "output_type": "error",
     "traceback": []
    }
   ],
   "source": [
    "mv *gff annotations"
   ]
  },
  {
   "cell_type": "markdown",
   "id": "9b5233f2",
   "metadata": {},
   "source": [
    "## Comparison between 2 genomes (with Minimap2 and circos)"
   ]
  },
  {
   "cell_type": "code",
   "execution_count": null,
   "id": "a8c5cb06",
   "metadata": {},
   "outputs": [],
   "source": [
    "module load bioinfo/R/3.6.1"
   ]
  },
  {
   "cell_type": "code",
   "execution_count": 21,
   "id": "9f0108ad",
   "metadata": {},
   "outputs": [
    {
     "name": "stdout",
     "output_type": "stream",
     "text": [
      "module load bioinfo/minimap2/2.24\n",
      "(base) module load bioinfo/circos/0.69-6\n",
      "(base) "
     ]
    },
    {
     "ename": "",
     "evalue": "1",
     "output_type": "error",
     "traceback": []
    }
   ],
   "source": [
    "module load bioinfo/minimap2/2.24\n",
    "module load bioinfo/circos/0.69-6"
   ]
  },
  {
   "cell_type": "markdown",
   "id": "93fd2e27",
   "metadata": {},
   "source": [
    "#### Compare 2 oryzae"
   ]
  },
  {
   "cell_type": "code",
   "execution_count": 22,
   "id": "9b1bafd5",
   "metadata": {},
   "outputs": [
    {
     "name": "stdout",
     "output_type": "stream",
     "text": [
      "<3637v1_genomic.fna GCA_001929235.2_ASM192923v2_geno                        mic.fna -o minimap2.pafen\n",
      "[M::mm_idx_gen::0.411*0.52] collected minimizers\n",
      "[M::mm_idx_gen::0.449*0.73] sorted minimizers\n",
      "[M::main::0.449*0.73] loaded/built the index for 1 target sequence(s)\n",
      "[M::mm_mapopt_update::0.466*0.74] mid_occ = 75\n",
      "[M::mm_idx_stat] kmer size: 15; skip: 10; is_hpc: 0; #seq: 1\n",
      "[M::mm_idx_stat::0.478*0.74] distinct minimizers: 764850 (94.10% are singletons); average occurrences: 1.218; average spacing: 5.356; total length: 4990672\n",
      "[M::worker_pipeline::25.200*0.99] mapped 1 sequences\n",
      "[M::main] Version: 2.24-r1122\n",
      "[M::main] CMD: minimap2 -o minimap2.paf GCA_004136375.1_ASM413637v1_genomic.fna GCA_001929235.2_ASM192923v2_genomic.fna\n",
      "[M::main] Real time: 25.226 sec; CPU: 25.027 sec; Peak RSS: 0.424 GB\n",
      "(base) "
     ]
    },
    {
     "ename": "",
     "evalue": "1",
     "output_type": "error",
     "traceback": []
    }
   ],
   "source": [
    "minimap2 GCA_004136375.1_ASM413637v1_genomic.fna GCA_001929235.2_ASM192923v2_genomic.fna -o minimap2.paf"
   ]
  },
  {
   "cell_type": "code",
   "execution_count": 24,
   "id": "d9270b14",
   "metadata": {},
   "outputs": [
    {
     "name": "stdout",
     "output_type": "stream",
     "text": [
      "<==\"+\")print $1\" \"$3\" \"$4\" \"$6\" \"$8\" \"$9'} minimap2.                        paf >links.txt'} minimap2\n",
      "<==\"-\")print $1\" \"$3\" \"$4\" \"$6\" \"$9\" \"$8'} minimap2.                        paf >links_inverted.txtp2\n",
      "(base) "
     ]
    },
    {
     "ename": "",
     "evalue": "1",
     "output_type": "error",
     "traceback": []
    }
   ],
   "source": [
    "awk {'if (($4-$3)>100000 && $5==\"+\")print $1\" \"$3\" \"$4\" \"$6\" \"$8\" \"$9'} minimap2.paf >links.txt\n",
    "awk {'if (($4-$3)>100000 && $5==\"-\")print $1\" \"$3\" \"$4\" \"$6\" \"$9\" \"$8'} minimap2.paf >links_inverted.txt"
   ]
  },
  {
   "cell_type": "code",
   "execution_count": 15,
   "id": "1fd311cb",
   "metadata": {},
   "outputs": [
    {
     "name": "stdout",
     "output_type": "stream",
     "text": [
      "cp -rf minimal_circos.conf link_circos.conf\n",
      "(base) "
     ]
    },
    {
     "ename": "",
     "evalue": "1",
     "output_type": "error",
     "traceback": []
    }
   ],
   "source": [
    "cp -rf minimal_circos.conf link_circos.conf"
   ]
  },
  {
   "cell_type": "markdown",
   "id": "77784a9b",
   "metadata": {},
   "source": [
    "Edit the Circos configuration file to add informations about links\n",
    "```\n",
    "<links>\n",
    "\n",
    "<link>\n",
    "file          = /home/adereeper/Trainings_Bacterial_genomics/links.txt\n",
    "stroke_color     = vdgrey\n",
    "stroke_thickness = 2\n",
    "color            = grey_a3\n",
    "radius        = 0.95r\n",
    "bezier_radius = 0.1r\n",
    "thickness     = 2\n",
    "ribbon        = yes\n",
    "</link>\n",
    "\n",
    "<link>\n",
    "file          = /home/adereeper/Trainings_Bacterial_genomics/links_inverted.txt\n",
    "stroke_color     = vdblue\n",
    "stroke_thickness = 2\n",
    "color            = blue_a3\n",
    "radius        = 0.95r\n",
    "bezier_radius = 0.1r\n",
    "thickness     = 2\n",
    "ribbon        = yes\n",
    "</link>\n",
    "\n",
    "</links>\n",
    "```"
   ]
  },
  {
   "cell_type": "markdown",
   "id": "2839fca2",
   "metadata": {},
   "source": [
    "Edit a karyotype file with the two genomes and their size"
   ]
  },
  {
   "cell_type": "markdown",
   "id": "0e5a26f2",
   "metadata": {},
   "source": [
    "Make one of the genome in the opposite way by entering this line in the Circos configuration file\n",
    "\n",
    "chromosomes_reverse = CP031697.1"
   ]
  },
  {
   "cell_type": "code",
   "execution_count": 28,
   "id": "80fe72e2",
   "metadata": {},
   "outputs": [
    {
     "name": "stdout",
     "output_type": "stream",
     "text": [
      "circos -conf link_circos.conf\n",
      "debuggroup summary 0.22s welcome to circos v0.69-6 31 July 2017 on Perl 5.024000\n",
      "debuggroup summary 0.22s current working directory /home/adereeper/Trainings_Bacterial_genomics\n",
      "debuggroup summary 0.22s command /usr/local/circos-0.69-6/bin/circos -conf link_circos.conf\n",
      "debuggroup summary 0.22s loading configuration from file link_circos.conf\n",
      "Use of uninitialized value in subroutine entry at /usr/local/circos-0.69-6/bin/../lib/Circos/Configuration.pm line 781.\n",
      "debuggroup summary 0.22s found conf file link_circos.conf\n",
      "debuggroup summary 0.40s debug will appear for these features: output,summary\n",
      "debuggroup summary 0.40s bitmap output image ./circos.png\n",
      "debuggroup summary 0.40s SVG output image ./circos.svg\n",
      "debuggroup summary 0.40s parsing karyotype and organizing ideograms\n",
      "debuggroup summary 0.41s karyotype has 2 chromosomes of total size 10,083,726\n",
      "debuggroup summary 0.41s applying global and local scaling\n",
      "debuggroup summary 0.41s allocating image, colors and brushes\n",
      "debuggroup summary 2.80s drawing 2 ideograms of total size 10,083,726\n",
      "debuggroup summary 2.80s drawing highlights and ideograms\n",
      "Use of uninitialized value in subroutine entry at /usr/local/circos-0.69-6/bin/../lib/Circos/Configuration.pm line 781.\n",
      "debuggroup summary 3.27s found conf file /usr/local/circos-0.69-6/bin/../etc/tracks/link.conf\n",
      "Use of uninitialized value in subroutine entry at /usr/local/circos-0.69-6/bin/../lib/Circos/Configuration.pm line 781.\n",
      "debuggroup summary 3.27s found conf file /usr/local/circos-0.69-6/bin/../etc/tracks/link.conf\n",
      "debuggroup summary 3.27s process track_0 link /home/adereeper/Trainings_Bacterial_genomics/links.txt\n",
      "debuggroup summary 3.27s process track_1 link /home/adereeper/Trainings_Bacterial_genomics/links_inverted.txt\n",
      "debuggroup summary 3.27s drawing link track_0 z 0\n",
      "debuggroup summary 3.37s drawing link track_1 z 0\n",
      "debuggroup output 3.40s generating output\n",
      "debuggroup output 3.88s created PNG image ./circos.png (415 kb)\n",
      "debuggroup output 3.88s created SVG image ./circos.svg (159 kb)\n",
      "(base) "
     ]
    },
    {
     "ename": "",
     "evalue": "1",
     "output_type": "error",
     "traceback": []
    }
   ],
   "source": [
    "circos -conf link_circos.conf"
   ]
  },
  {
   "cell_type": "code",
   "execution_count": 29,
   "id": "749656fd",
   "metadata": {},
   "outputs": [
    {
     "name": "stdout",
     "output_type": "stream",
     "text": [
      "cp -rf circos.svg circos2.svg\n",
      "(base) "
     ]
    },
    {
     "ename": "",
     "evalue": "1",
     "output_type": "error",
     "traceback": []
    }
   ],
   "source": [
    "cp -rf circos.svg circos2.svg"
   ]
  },
  {
   "cell_type": "markdown",
   "id": "dca3efa5",
   "metadata": {},
   "source": [
    "<img src=\"Trainings_Bacterial_genomics/circos2.svg\" align=\"center\" width=\"70%\" style=\"display: block; margin: auto;\"/>"
   ]
  },
  {
   "cell_type": "markdown",
   "id": "677d120a",
   "metadata": {},
   "source": [
    "#### Compare oryzae and oryzicola"
   ]
  },
  {
   "cell_type": "code",
   "execution_count": 33,
   "id": "96d910ae",
   "metadata": {},
   "outputs": [
    {
     "name": "stdout",
     "output_type": "stream",
     "text": [
      "<082v1_genomic.fna GCA_001929235.2_ASM192923v2_genom                        ic.fna -o minimap2.pafeno\n",
      "[M::mm_idx_gen::0.225*0.85] collected minimizers\n",
      "[M::mm_idx_gen::0.273*1.21] sorted minimizers\n",
      "[M::main::0.273*1.21] loaded/built the index for 1 target sequence(s)\n",
      "[M::mm_mapopt_update::0.288*1.20] mid_occ = 74\n",
      "[M::mm_idx_stat] kmer size: 15; skip: 10; is_hpc: 0; #seq: 1\n",
      "[M::mm_idx_stat::0.299*1.19] distinct minimizers: 801992 (93.39% are singletons); average occurrences: 1.182; average spacing: 5.360; total length: 5080102\n",
      "[M::worker_pipeline::10.114*1.01] mapped 1 sequences\n",
      "[M::main] Version: 2.24-r1122\n",
      "[M::main] CMD: minimap2 -o minimap2.paf GCA_000940825.1_ASM94082v1_genomic.fna GCA_001929235.2_ASM192923v2_genomic.fna\n",
      "[M::main] Real time: 10.145 sec; CPU: 10.203 sec; Peak RSS: 0.225 GB\n",
      "(base) "
     ]
    },
    {
     "ename": "",
     "evalue": "1",
     "output_type": "error",
     "traceback": []
    }
   ],
   "source": [
    "minimap2 GCA_000940825.1_ASM94082v1_genomic.fna GCA_001929235.2_ASM192923v2_genomic.fna -o minimap2.paf"
   ]
  },
  {
   "cell_type": "code",
   "execution_count": 34,
   "id": "9596ef5c",
   "metadata": {},
   "outputs": [
    {
     "name": "stdout",
     "output_type": "stream",
     "text": [
      "<==\"+\")print $1\" \"$3\" \"$4\" \"$6\" \"$8\" \"$9'} minimap2.                        paf >links.txt'} minimap2\n",
      "<==\"-\")print $1\" \"$3\" \"$4\" \"$6\" \"$9\" \"$8'} minimap2.                        paf >links_inverted.txtp2\n",
      "(base) "
     ]
    },
    {
     "ename": "",
     "evalue": "1",
     "output_type": "error",
     "traceback": []
    }
   ],
   "source": [
    "awk {'if (($4-$3)>100000 && $5==\"+\")print $1\" \"$3\" \"$4\" \"$6\" \"$8\" \"$9'} minimap2.paf >links.txt\n",
    "awk {'if (($4-$3)>100000 && $5==\"-\")print $1\" \"$3\" \"$4\" \"$6\" \"$9\" \"$8'} minimap2.paf >links_inverted.txt"
   ]
  },
  {
   "cell_type": "code",
   "execution_count": 35,
   "id": "c737bf48",
   "metadata": {},
   "outputs": [
    {
     "name": "stdout",
     "output_type": "stream",
     "text": [
      "circos -conf link_circos.conf\n",
      "debuggroup summary 0.22s welcome to circos v0.69-6 31 July 2017 on Perl 5.024000\n",
      "debuggroup summary 0.22s current working directory /home/adereeper/Trainings_Bacterial_genomics\n",
      "debuggroup summary 0.22s command /usr/local/circos-0.69-6/bin/circos -conf link_circos.conf\n",
      "debuggroup summary 0.22s loading configuration from file link_circos.conf\n",
      "Use of uninitialized value in subroutine entry at /usr/local/circos-0.69-6/bin/../lib/Circos/Configuration.pm line 781.\n",
      "debuggroup summary 0.22s found conf file link_circos.conf\n",
      "debuggroup summary 0.39s debug will appear for these features: output,summary\n",
      "debuggroup summary 0.39s bitmap output image ./circos.png\n",
      "debuggroup summary 0.39s SVG output image ./circos.svg\n",
      "debuggroup summary 0.40s parsing karyotype and organizing ideograms\n",
      "debuggroup summary 0.40s karyotype has 2 chromosomes of total size 10,173,156\n",
      "debuggroup summary 0.40s applying global and local scaling\n",
      "debuggroup summary 0.40s allocating image, colors and brushes\n",
      "debuggroup summary 2.78s drawing 2 ideograms of total size 10,173,156\n",
      "debuggroup summary 2.78s drawing highlights and ideograms\n",
      "Use of uninitialized value in subroutine entry at /usr/local/circos-0.69-6/bin/../lib/Circos/Configuration.pm line 781.\n",
      "debuggroup summary 3.24s found conf file /usr/local/circos-0.69-6/bin/../etc/tracks/link.conf\n",
      "Use of uninitialized value in subroutine entry at /usr/local/circos-0.69-6/bin/../lib/Circos/Configuration.pm line 781.\n",
      "debuggroup summary 3.24s found conf file /usr/local/circos-0.69-6/bin/../etc/tracks/link.conf\n",
      "debuggroup summary 3.24s process track_0 link /home/adereeper/Trainings_Bacterial_genomics/links.txt\n",
      "debuggroup summary 3.24s process track_1 link /home/adereeper/Trainings_Bacterial_genomics/links_inverted.txt\n",
      "debuggroup summary 3.25s drawing link track_0 z 0\n",
      "debuggroup summary 3.28s drawing link track_1 z 0\n",
      "debuggroup output 3.29s generating output\n",
      "debuggroup output 3.77s created PNG image ./circos.png (422 kb)\n",
      "debuggroup output 3.77s created SVG image ./circos.svg (159 kb)\n",
      "(base) "
     ]
    },
    {
     "ename": "",
     "evalue": "1",
     "output_type": "error",
     "traceback": []
    }
   ],
   "source": [
    "circos -conf link_circos.conf"
   ]
  },
  {
   "cell_type": "code",
   "execution_count": 36,
   "id": "65f94a9f",
   "metadata": {},
   "outputs": [
    {
     "name": "stdout",
     "output_type": "stream",
     "text": [
      "cp -rf circos.svg circos3.svg\n",
      "(base) "
     ]
    },
    {
     "ename": "",
     "evalue": "1",
     "output_type": "error",
     "traceback": []
    }
   ],
   "source": [
    "cp -rf circos.svg circos3.svg"
   ]
  },
  {
   "cell_type": "markdown",
   "id": "7a2c43ff",
   "metadata": {},
   "source": [
    "<img src=\"Trainings_Bacterial_genomics/circos3.svg\" align=\"center\" width=\"70%\" style=\"display: block; margin: auto;\"/>"
   ]
  },
  {
   "cell_type": "markdown",
   "id": "330f6681",
   "metadata": {},
   "source": [
    "## Compare genome similarity using Average Nucleotide Identity (ANI) (fastANI)"
   ]
  },
  {
   "cell_type": "code",
   "execution_count": 4,
   "id": "45b88785",
   "metadata": {},
   "outputs": [],
   "source": [
    "module load bioinfo/fastani/1.33"
   ]
  },
  {
   "cell_type": "code",
   "execution_count": 7,
   "id": "79740732",
   "metadata": {},
   "outputs": [],
   "source": [
    "ls GCA_00*fna >list_genomes.txt"
   ]
  },
  {
   "cell_type": "code",
   "execution_count": 8,
   "id": "18d6961a",
   "metadata": {},
   "outputs": [
    {
     "name": "stdout",
     "output_type": "stream",
     "text": [
      ">>>>>>>>>>>>>>>>>>\n",
      "Reference = [GCA_000940825.1_ASM94082v1_genomic.fna, GCA_001021915.1_ASM102191v1_genomic.fna, GCA_001929235.2_ASM192923v2_genomic.fna, GCA_004136375.1_ASM413637v1_genomic.fna]\n",
      "Query = [GCA_000940825.1_ASM94082v1_genomic.fna, GCA_001021915.1_ASM102191v1_genomic.fna, GCA_001929235.2_ASM192923v2_genomic.fna, GCA_004136375.1_ASM413637v1_genomic.fna]\n",
      "Kmer size = 16\n",
      "Fragment length = 3000\n",
      "Threads = 1\n",
      "ANI output file = fastani.out\n",
      ">>>>>>>>>>>>>>>>>>\n",
      "INFO [thread 0], skch::main, Count of threads executing parallel_for : 1\n",
      "INFO [thread 0], skch::Sketch::build, window size for minimizer sampling  = 24\n",
      "INFO [thread 0], skch::Sketch::build, minimizers picked from reference = 1572160\n",
      "INFO [thread 0], skch::Sketch::index, unique minimizers = 504251\n",
      "INFO [thread 0], skch::Sketch::computeFreqHist, Frequency histogram of minimizers = (1, 75036) ... (898, 1)\n",
      "INFO [thread 0], skch::Sketch::computeFreqHist, consider all minimizers during lookup.\n",
      "INFO [thread 0], skch::main, Time spent sketching the reference : 2.35722 sec\n",
      "INFO [thread 0], skch::main, Time spent mapping fragments in query #1 : 22.3675 sec\n",
      "INFO [thread 0], skch::main, Time spent post mapping : 0.0108053 sec\n",
      "INFO [thread 0], skch::main, Time spent mapping fragments in query #2 : 10.1844 sec\n",
      "INFO [thread 0], skch::main, Time spent post mapping : 0.004458 sec\n",
      "INFO [thread 0], skch::main, Time spent mapping fragments in query #3 : 28.9135 sec\n",
      "INFO [thread 0], skch::main, Time spent post mapping : 0.0138439 sec\n",
      "INFO [thread 0], skch::main, Time spent mapping fragments in query #4 : 29.719 sec\n",
      "INFO [thread 0], skch::main, Time spent post mapping : 0.0150997 sec\n",
      "INFO [thread 0], skch::main, ready to exit the loop\n",
      "INFO, skch::main, parallel_for execution finished\n"
     ]
    }
   ],
   "source": [
    "fastANI --rl list_genomes.txt --ql list_genomes.txt -o fastani.out --matrix"
   ]
  },
  {
   "cell_type": "markdown",
   "id": "7028c83f",
   "metadata": {},
   "source": [
    "##### Check that genomes are closer within the same pathovar than between pathovars.\n",
    "\n",
    "##### Which are the closest genomes?"
   ]
  },
  {
   "cell_type": "code",
   "execution_count": 2,
   "id": "be1a54a5",
   "metadata": {},
   "outputs": [
    {
     "ename": "ModuleNotFoundError",
     "evalue": "No module named 'numpy'",
     "output_type": "error",
     "traceback": [
      "\u001b[0;31m---------------------------------------------------------------------------\u001b[0m",
      "\u001b[0;31mModuleNotFoundError\u001b[0m                       Traceback (most recent call last)",
      "\u001b[0;32m/tmp/ipykernel_29689/3129590059.py\u001b[0m in \u001b[0;36m<module>\u001b[0;34m\u001b[0m\n\u001b[1;32m      1\u001b[0m \u001b[0;31m#import matplotlib.pyplot as plt\u001b[0m\u001b[0;34m\u001b[0m\u001b[0;34m\u001b[0m\u001b[0m\n\u001b[0;32m----> 2\u001b[0;31m \u001b[0;32mimport\u001b[0m \u001b[0mnumpy\u001b[0m \u001b[0;32mas\u001b[0m \u001b[0mnp\u001b[0m\u001b[0;34m\u001b[0m\u001b[0;34m\u001b[0m\u001b[0m\n\u001b[0m\u001b[1;32m      3\u001b[0m \u001b[0;34m\u001b[0m\u001b[0m\n\u001b[1;32m      4\u001b[0m \u001b[0ma\u001b[0m \u001b[0;34m=\u001b[0m \u001b[0mnp\u001b[0m\u001b[0;34m.\u001b[0m\u001b[0mrandom\u001b[0m\u001b[0;34m.\u001b[0m\u001b[0mrandom\u001b[0m\u001b[0;34m(\u001b[0m\u001b[0;34m(\u001b[0m\u001b[0;36m16\u001b[0m\u001b[0;34m,\u001b[0m \u001b[0;36m16\u001b[0m\u001b[0;34m)\u001b[0m\u001b[0;34m)\u001b[0m\u001b[0;34m\u001b[0m\u001b[0;34m\u001b[0m\u001b[0m\n\u001b[1;32m      5\u001b[0m \u001b[0mplt\u001b[0m\u001b[0;34m.\u001b[0m\u001b[0mimshow\u001b[0m\u001b[0;34m(\u001b[0m\u001b[0ma\u001b[0m\u001b[0;34m,\u001b[0m \u001b[0mcmap\u001b[0m\u001b[0;34m=\u001b[0m\u001b[0;34m'hot'\u001b[0m\u001b[0;34m,\u001b[0m \u001b[0minterpolation\u001b[0m\u001b[0;34m=\u001b[0m\u001b[0;34m'nearest'\u001b[0m\u001b[0;34m)\u001b[0m\u001b[0;34m\u001b[0m\u001b[0;34m\u001b[0m\u001b[0m\n",
      "\u001b[0;31mModuleNotFoundError\u001b[0m: No module named 'numpy'"
     ]
    }
   ],
   "source": [
    "\n",
    "#import matplotlib.pyplot as plt\n",
    "import numpy as np\n",
    "\n",
    "a = np.random.random((16, 16))\n",
    "plt.imshow(a, cmap='hot', interpolation='nearest')\n",
    "plt.show()"
   ]
  },
  {
   "cell_type": "markdown",
   "id": "700159ea",
   "metadata": {},
   "source": [
    "## Gene content comparison / Pangenome analysis (using Roary)"
   ]
  },
  {
   "cell_type": "code",
   "execution_count": 2,
   "id": "e3ded8ea",
   "metadata": {},
   "outputs": [],
   "source": [
    "module load bioinfo/roary/3.12.0"
   ]
  },
  {
   "cell_type": "code",
   "execution_count": 5,
   "id": "46557b5f",
   "metadata": {},
   "outputs": [
    {
     "name": "stdout",
     "output_type": "stream",
     "text": [
      "Use of uninitialized value in require at /usr/local/perl-5.24.0/lib/perl5/x86_64-linux-thread-multi/Encode.pm line 69.\n",
      "\n",
      "Please cite Roary if you use any of the results it produces:\n",
      "    Andrew J. Page, Carla A. Cummins, Martin Hunt, Vanessa K. Wong, Sandra Reuter, Matthew T. G. Holden, Maria Fookes, Daniel Falush, Jacqueline A. Keane, Julian Parkhill,\n",
      "\t\"Roary: Rapid large-scale prokaryote pan genome analysis\", Bioinformatics, 2015 Nov 15;31(22):3691-3693\n",
      "    doi: http://doi.org/10.1093/bioinformatics/btv421\n",
      "\tPubmed: 26198102\n",
      "\n",
      "Use of uninitialized value in require at /usr/local/perl-5.24.0/lib/perl5/x86_64-linux-thread-multi/Encode.pm line 69.\n",
      "Use of uninitialized value in require at (eval 711) line 1.\n",
      "Academic tradition requires you to cite works you base your article on.\n",
      "When using programs that use GNU Parallel to process data for publication\n",
      "please cite:\n",
      "\n",
      "  O. Tange (2011): GNU Parallel - The Command-Line Power Tool,\n",
      "  ;login: The USENIX Magazine, February 2011:42-47.\n",
      "\n",
      "This helps funding further development; AND IT WON'T COST YOU A CENT.\n",
      "If you pay 10000 EUR you should feel free to use GNU Parallel without citing.\n",
      "\n",
      "To silence the citation notice: run 'parallel --citation'.\n",
      "\n"
     ]
    }
   ],
   "source": [
    "rm -rf roary_out\n",
    "roary -f roary_out -e -n annotations/*gff"
   ]
  },
  {
   "cell_type": "code",
   "execution_count": 4,
   "id": "4ad0e13e",
   "metadata": {},
   "outputs": [
    {
     "name": "stdout",
     "output_type": "stream",
     "text": [
      "head -10 roary_out/gene_presence_absence.csv\n",
      "\"Gene\",\"Non-unique Gene name\",\"Annotation\",\"No. isolates\",\"No. sequences\",\"Avg sequences per isolate\",\"Genome Fragment\",\"Order within Fragment\",\"Accessory Fragment\",\"Accessory Order with Fragment\",\"QC\",\"Min group size nuc\",\"Max group size nuc\",\"Avg group size nuc\",\"GCA_000940825.1_ASM94082v1_genomic.gbff.gz\",\"GCA_001021915.1_ASM102191v1_genomic.gbff.gz\",\"GCA_001042815.1_ASM104281v1_genomic.gbff.gz\",\"GCA_001042835.1_ASM104283v1_genomic.gbff.gz\",\"GCA_001746615.1_ASM174661v1_genomic.gbff.gz\",\"GCA_001929235.2_ASM192923v2_genomic.gbff.gz\",\"GCA_004136375.1_ASM413637v1_genomic.gbff.gz\",\"GCA_004355825.1_ASM435582v1_genomic.gbff.gz\",\"PROKKA_05312022\"\n",
      "\"rpoC\",\"\",\"DNA-directed RNA polymerase subunit beta'\",\"9\",\"9\",\"1\",\"1\",\"13165\",\"\",\"\",\"\",\"383\",\"4217\",\"3791\",\"BE73_19305.p01\",\"FE36_04050.p01\",\"ACU16_17350.p01\",\"ACU17_17205.p01\",\"ATY43_13975.p01\",\"10bd397a0f88aca11976f4a4f6631125_14380\",\"4e95a45ca635958849417c3d368d746d_13974\",\"cc532a0030968c6887cea9dec5a101c0_14077\",\"DGCPDMLJ_01978\"\n",
      "\"IXO1088_022715\",\"\",\"hypothetical protein\",\"9\",\"9\",\"1\",\"1\",\"9858\",\"\",\"\",\"\",\"443\",\"1115\",\"679\",\"BE73_02690.p01\",\"FE36_17585.p01\",\"ACU16_19245.p01\",\"ACU17_02690.p01\",\"ATY43_21770.p01\",\"10bd397a0f88aca11976f4a4f6631125_16603\",\"4e95a45ca635958849417c3d368d746d_16205\",\"cc532a0030968c6887cea9dec5a101c0_16328\",\"DGCPDMLJ_02933\"\n",
      "\"ATY43_21345\",\"\",\"haloacid dehalogenase\",\"9\",\"9\",\"1\",\"1\",\"3485\",\"\",\"\",\"\",\"653\",\"716\",\"709\",\"BE73_02910.p01\",\"FE36_17785.p01\",\"ACU16_19445.p01\",\"ACU17_02500.p01\",\"ATY43_21345.p01\",\"10bd397a0f88aca11976f4a4f6631125_2135\",\"4e95a45ca635958849417c3d368d746d_2271\",\"cc532a0030968c6887cea9dec5a101c0_2177\",\"DGCPDMLJ_02998\"\n",
      "\"FE36_13080\",\"\",\"3-hydroxyacyl-ACP dehydratase\",\"9\",\"9\",\"1\",\"1\",\"4878\",\"\",\"\",\"\",\"461\",\"695\",\"487\",\"BE73_07345.p01\",\"FE36_13080.p01\",\"ACU16_07725.p01\",\"ACU17_07565.p01\",\"ATY43_05225.p01\",\"10bd397a0f88aca11976f4a4f6631125_7279\",\"4e95a45ca635958849417c3d368d746d_8464\",\"cc532a0030968c6887cea9dec5a101c0_11016\",\"DGCPDMLJ_06800\"\n",
      "\"mreC\",\"\",\"rod shape-determining protein MreC\",\"9\",\"9\",\"1\",\"1\",\"12049\",\"\",\"\",\"\",\"305\",\"1370\",\"1237\",\"BE73_20905.p01\",\"FE36_02630.p01\",\"ACU16_03260.p01\",\"ACU17_18660.p01\",\"ATY43_15700.p01\",\"10bd397a0f88aca11976f4a4f6631125_15622\",\"4e95a45ca635958849417c3d368d746d_15274\",\"cc532a0030968c6887cea9dec5a101c0_15385\",\"DGCPDMLJ_02564\"\n",
      "\"ACU16_15415\",\"\",\"HutD family protein\",\"9\",\"9\",\"1\",\"1\",\"5529\",\"\",\"\",\"\",\"416\",\"935\",\"749\",\"BE73_16090.p01\",\"FE36_05835.p01\",\"ACU16_15415.p01\",\"ACU17_15220.p01\",\"ATY43_17530.p01\",\"10bd397a0f88aca11976f4a4f6631125_5026\",\"4e95a45ca635958849417c3d368d746d_5208\",\"cc532a0030968c6887cea9dec5a101c0_10118\",\"DGCPDMLJ_01210\"\n",
      "\"DZA53_00340\",\"\",\"HpaF protein\",\"9\",\"9\",\"1\",\"1\",\"9409\",\"\",\"\",\"\",\"191\",\"1940\",\"1572\",\"BE73_01170.p01\",\"FE36_18775.p01\",\"ACU16_20845.p01\",\"ACU17_20850.p01\",\"ATY43_00305.p01\",\"10bd397a0f88aca11976f4a4f6631125_231\",\"4e95a45ca635958849417c3d368d746d_239\",\"cc532a0030968c6887cea9dec5a101c0_229\",\"DGCPDMLJ_03202\"\n",
      "\"EBA21_00365\",\"\",\"serine kinase\",\"9\",\"9\",\"1\",\"1\",\"9398\",\"\",\"\",\"\",\"158\",\"281\",\"201\",\"BE73_01215.p01\",\"FE36_18735.p01\",\"ACU16_20810.p01\",\"ACU17_20815.p01\",\"ATY43_00340.p01\",\"10bd397a0f88aca11976f4a4f6631125_256\",\"4e95a45ca635958849417c3d368d746d_272\",\"cc532a0030968c6887cea9dec5a101c0_258\",\"DGCPDMLJ_03180\"\n",
      "\"FE36_18280\",\"\",\"ATPase\",\"9\",\"9\",\"1\",\"1\",\"6537\",\"\",\"\",\"\",\"452\",\"1415\",\"1298\",\"BE73_01885.p01\",\"FE36_18280.p01\",\"ACU16_20180.p01\",\"ACU17_20190.p01\",\"ATY43_22505.p01\",\"10bd397a0f88aca11976f4a4f6631125_17269\",\"4e95a45ca635958849417c3d368d746d_16761\",\"cc532a0030968c6887cea9dec5a101c0_16912\",\"DGCPDMLJ_04654\"\n",
      "(base) "
     ]
    },
    {
     "ename": "",
     "evalue": "1",
     "output_type": "error",
     "traceback": []
    }
   ],
   "source": [
    "head -10 roary_out/gene_presence_absence.csv"
   ]
  },
  {
   "cell_type": "code",
   "execution_count": 26,
   "id": "29369ddf",
   "metadata": {},
   "outputs": [
    {
     "name": "stdout",
     "output_type": "stream",
     "text": [
      "Core genes\t(99% <= strains <= 100%)\t0\n",
      "Soft core genes\t(95% <= strains < 99%)\t0\n",
      "Shell genes\t(15% <= strains < 95%)\t8167\n",
      "Cloud genes\t(0% <= strains < 15%)\t0\n",
      "Total genes\t(0% <= strains <= 100%)\t8167\n"
     ]
    }
   ],
   "source": [
    "more roary_out/summary_statistics.txt"
   ]
  },
  {
   "cell_type": "code",
   "execution_count": null,
   "id": "1b15cf86",
   "metadata": {},
   "outputs": [],
   "source": [
    "module purge\n",
    "module load system/python/3.7.2\n",
    "python /usr/local/roary-3.12.0/contrib/roary_plots/roary_plots.py roary_out/accessory_binary_genes.fa.newick roary_out/gene_presence_absence.csv"
   ]
  },
  {
   "cell_type": "markdown",
   "id": "269e09d7",
   "metadata": {},
   "source": [
    "<img src=\"Trainings_Bacterial_genomics/pangenome_pie.png\" align=\"center\" width=\"70%\" style=\"display: block; margin: auto;\"/> "
   ]
  },
  {
   "cell_type": "markdown",
   "id": "45cb9587",
   "metadata": {},
   "source": [
    "<img src=\"Trainings_Bacterial_genomics/pangenome_matrix.png\"/>"
   ]
  },
  {
   "cell_type": "markdown",
   "id": "080a453c",
   "metadata": {},
   "source": [
    "## Association tests with metadata (Pan-GWAS)"
   ]
  },
  {
   "cell_type": "code",
   "execution_count": 3,
   "id": "6c46df92",
   "metadata": {},
   "outputs": [
    {
     "name": "stdout",
     "output_type": "stream",
     "text": [
      "module load bioinfo/scoary/1.6.16\n",
      "(base) "
     ]
    },
    {
     "ename": "",
     "evalue": "1",
     "output_type": "error",
     "traceback": []
    }
   ],
   "source": [
    "module load bioinfo/scoary/1.6.16"
   ]
  },
  {
   "cell_type": "code",
   "execution_count": 4,
   "id": "0f270b5b",
   "metadata": {},
   "outputs": [
    {
     "name": "stdout",
     "output_type": "stream",
     "text": [
      "<rf /data2/formation/Bacterial_genomics/pangenome_10                        0xantho ./\n",
      "(base) cd pangenome_100xantho\n",
      "(base) "
     ]
    },
    {
     "ename": "",
     "evalue": "1",
     "output_type": "error",
     "traceback": []
    }
   ],
   "source": [
    "cp -rf /data2/formation/Bacterial_genomics/pangenome_100xantho ./\n",
    "cd pangenome_100xantho"
   ]
  },
  {
   "cell_type": "code",
   "execution_count": 5,
   "id": "7680d495",
   "metadata": {},
   "outputs": [
    {
     "name": "stdout",
     "output_type": "stream",
     "text": [
      "scoary -t traits.txt -g gene_presence_absence.csv\n",
      "==== Scoary started ====\n",
      "Command: /usr/local/miniconda3/envs/scoary-1.6.16/bin/scoary -t traits.txt -g gene_presence_absence.csv\n",
      "Reading gene presence absence file\n",
      "Creating Hamming distance matrix based on gene presence/absence\n",
      "Building UPGMA tree from distance matrix\n",
      "Reading traits file\n",
      "ERROR: Some isolates in your gene presence absence file were not represented in your traits file. These will count as MISSING data and will not be included.\n",
      "Finished loading files into memory.\n",
      "\n",
      "\n",
      "==== Performing statistics ====\n",
      "-- Filtration options --\n",
      "Individual (Naive):    0.05\n",
      "Collapse genes:    False\n",
      "\n",
      "\n",
      "Tallying genes and performing statistical analyses\n",
      "Gene-wise counting and Fisher's exact tests for trait: pathovar\n",
      "100.00%\n",
      "Adding p-values adjusted for testing multiple hypotheses\n",
      "\n",
      "Storing results: pathovar\n",
      "Calculating max number of contrasting pairs for each nominally significant gene\n",
      "100.00%\n",
      "Storing results to file\n",
      "\n",
      "\n",
      "==== Finished ====\n",
      "Checked a total of 13554 genes for associations to 1 trait(s). Total time used: 21 seconds.\n",
      "Scoary finished successfully, but with ERRORS. Please check your log file.\n",
      "(base) "
     ]
    },
    {
     "ename": "",
     "evalue": "1",
     "output_type": "error",
     "traceback": []
    }
   ],
   "source": [
    "scoary -t traits.txt -g gene_presence_absence.csv"
   ]
  },
  {
   "cell_type": "markdown",
   "id": "bacf1ba8",
   "metadata": {},
   "source": [
    "#### How many clusters are specifically present in pathovar oryzae (absent in oryzicola)"
   ]
  },
  {
   "cell_type": "code",
   "execution_count": 7,
   "id": "ab0b15d0",
   "metadata": {},
   "outputs": [
    {
     "name": "stdout",
     "output_type": "stream",
     "text": [
      "<-F \"\\\",\\\"\" {'if ($4==0 && $5 ==75)print $_'} pathov                        ar_*.results.csv | wc -l\n",
      "28\n",
      "(base) "
     ]
    },
    {
     "ename": "",
     "evalue": "1",
     "output_type": "error",
     "traceback": []
    }
   ],
   "source": [
    "awk -F \"\\\",\\\"\" {'if ($4==0 && $5==75)print $_'} pathovar_*.results.csv | wc -l"
   ]
  },
  {
   "cell_type": "markdown",
   "id": "8193e46e",
   "metadata": {},
   "source": [
    "#### How many clusters are specifically present in pathovar oryzicola (absent in oryzae)"
   ]
  },
  {
   "cell_type": "code",
   "execution_count": 9,
   "id": "cd004b86",
   "metadata": {},
   "outputs": [
    {
     "name": "stdout",
     "output_type": "stream",
     "text": [
      "<-F \"\\\",\\\"\" {'if ($4==15 && $5 ==0)print $_'} pathov                        ar_*.results.csv | wc -l\n",
      "110\n",
      "(base) "
     ]
    },
    {
     "ename": "",
     "evalue": "1",
     "output_type": "error",
     "traceback": []
    }
   ],
   "source": [
    "awk -F \"\\\",\\\"\" {'if ($4==15 && $5==0)print $_'} pathovar_*.results.csv | wc -l"
   ]
  }
 ],
 "metadata": {
  "kernelspec": {
   "display_name": "Bash",
   "language": "bash",
   "name": "bash"
  },
  "language_info": {
   "codemirror_mode": "shell",
   "file_extension": ".sh",
   "mimetype": "text/x-sh",
   "name": "bash"
  }
 },
 "nbformat": 4,
 "nbformat_minor": 5
}
